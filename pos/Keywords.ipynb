{
 "cells": [
  {
   "cell_type": "code",
   "execution_count": 1,
   "metadata": {},
   "outputs": [],
   "source": [
    "import pandas as pd\n",
    "import numpy as np\n",
    "import jieba\n",
    "import os, re\n",
    "import seaborn as sns\n",
    "from snownlp import SnowNLP"
   ]
  },
  {
   "cell_type": "markdown",
   "metadata": {},
   "source": [
    "Use SnowNLP to extract keywords. Unit of analysis is by version."
   ]
  },
  {
   "cell_type": "code",
   "execution_count": 4,
   "metadata": {},
   "outputs": [
    {
     "name": "stdout",
     "output_type": "stream",
     "text": [
      "ma_人民版高中历史必修一现代中国部分.txt\n",
      "tw_龙腾.txt\n",
      "ma_人民版高中历史必修二现代中国部分.txt\n",
      "tw_南一第二.txt\n",
      "ma_人教版高中历史必修二现代中国部分.txt\n",
      "ma_人教版高中历史必修一现代中国部分.txt\n",
      "ma_岳麓版高中历史必修三现代中国部分.txt\n",
      "hk_現代5上.txt\n",
      "hk_現代5下.txt\n",
      "tw_康熹.txt\n",
      "hk_現代4下.txt\n",
      "hk_文達必修6.txt\n",
      "ma_人民版高中历史必修三现代中国部分.txt\n",
      "hk_文達必修5.txt\n",
      "hk_文達必修4.txt\n",
      "ma_岳麓版高中历史必修一现代中国部分.txt\n",
      "ma_人教版高中历史必修三现代中国部分.txt\n",
      "ma_岳麓版高中历史必修二现代中国部分.txt\n"
     ]
    }
   ],
   "source": [
    "path = \"/Users/onyilam/Dropbox/history_textbooks_txt\"\n",
    "\n",
    "# read files by origin as  and split them into sentences\n",
    "\n",
    "corpus = pd.DataFrame()\n",
    "for file in os.listdir(path):\n",
    "    for val in ['tw_', 'ma_', 'hk_']:\n",
    "        if file.startswith(val):\n",
    "            print(file)\n",
    "            with open(os.path.join(path, file), 'r') as f:\n",
    "                text = f.read()\n",
    "                text = text.replace('\\r', '').replace('\\n', '').replace('\\t', '')\n",
    "                #indivStr = re.split('。|？|:', text)\n",
    "                indivStr = re.split('---------', text)\n",
    "                df = pd.DataFrame(indivStr)\n",
    "                df['origin'] = val[:-1]\n",
    "                df['book'] = file\n",
    "                corpus = corpus.append(df)\n",
    "                \n",
    "                "
   ]
  },
  {
   "cell_type": "code",
   "execution_count": 5,
   "metadata": {},
   "outputs": [],
   "source": [
    "corpus.columns = ['sentence', 'origin', 'book']\n",
    "#remove empty rows\n",
    "corpus = corpus[corpus['sentence']!=\"\"]\n",
    "# dummify the origin variable\n",
    "corpus = pd.concat( [corpus, pd.get_dummies(corpus['origin'])], axis = 1)\n"
   ]
  },
  {
   "cell_type": "code",
   "execution_count": 6,
   "metadata": {},
   "outputs": [
    {
     "data": {
      "text/plain": [
       "18"
      ]
     },
     "execution_count": 6,
     "metadata": {},
     "output_type": "execute_result"
    }
   ],
   "source": [
    "len(corpus)"
   ]
  },
  {
   "cell_type": "code",
   "execution_count": 7,
   "metadata": {},
   "outputs": [],
   "source": [
    "def extract_keywords(sent):\n",
    "    s = SnowNLP(sent)\n",
    "    return s.keywords(10)"
   ]
  },
  {
   "cell_type": "code",
   "execution_count": 9,
   "metadata": {},
   "outputs": [],
   "source": [
    "corpus['version'] = corpus['book'].str[:5]\n",
    "# group by version, and calculate the aggregate sentiment\n",
    "corpus = corpus.groupby(['version'])['sentence'].apply(','.join).reset_index()\n",
    "corpus['keywords'] = corpus['sentence'].apply(lambda x: extract_keywords(x))"
   ]
  },
  {
   "cell_type": "code",
   "execution_count": 11,
   "metadata": {},
   "outputs": [
    {
     "data": {
      "text/html": [
       "<div>\n",
       "<style scoped>\n",
       "    .dataframe tbody tr th:only-of-type {\n",
       "        vertical-align: middle;\n",
       "    }\n",
       "\n",
       "    .dataframe tbody tr th {\n",
       "        vertical-align: top;\n",
       "    }\n",
       "\n",
       "    .dataframe thead th {\n",
       "        text-align: right;\n",
       "    }\n",
       "</style>\n",
       "<table border=\"1\" class=\"dataframe\">\n",
       "  <thead>\n",
       "    <tr style=\"text-align: right;\">\n",
       "      <th></th>\n",
       "      <th>version</th>\n",
       "      <th>sentence</th>\n",
       "      <th>keywords</th>\n",
       "    </tr>\n",
       "  </thead>\n",
       "  <tbody>\n",
       "    <tr>\n",
       "      <th>0</th>\n",
       "      <td>hk_文達</td>\n",
       "      <td>第一节 建国初期巩固政权的措施中华人民共和国成立後面对着不少困难为了稳定局势及恢复经济中央政...</td>\n",
       "      <td>[中国, 年, 後, 中, 於, 日本, 国, 人, 使, 国家]</td>\n",
       "    </tr>\n",
       "    <tr>\n",
       "      <th>1</th>\n",
       "      <td>hk_現代</td>\n",
       "      <td>课题一民初政局第一章袁世凯的帝制运动 中华民国成立後中央政府的权力落在袁世凯手上他曾压革命党...</td>\n",
       "      <td>[中国, 後, 年, 於, 中, 日本, 不, 国, 政府, 中共]</td>\n",
       "    </tr>\n",
       "    <tr>\n",
       "      <th>2</th>\n",
       "      <td>ma_人教</td>\n",
       "      <td>第三单元 近代中国经济结构的变动与资本主义的曲折发展鸦片战争以后，西方列强的经济侵略，摧毁了...</td>\n",
       "      <td>[中国, 年, 上, 发展, 中, 人民, 新, 人, 国家, 革命]</td>\n",
       "    </tr>\n",
       "    <tr>\n",
       "      <th>3</th>\n",
       "      <td>ma_人民</td>\n",
       "      <td>从1840年开始，为打开中国的大门，列强凭借强大的经济实力和船坚炮利的军事优势，屡屡对中国发...</td>\n",
       "      <td>[中国, 年, 中, 发展, 上, 人民, 新, 革命, 民族, 国家]</td>\n",
       "    </tr>\n",
       "    <tr>\n",
       "      <th>4</th>\n",
       "      <td>ma_岳麓</td>\n",
       "      <td>﻿第五单元 近现代中国的先进思想第二十课 西学东渐开眼看世界鸦片战争前后，外国资本主义对中国...</td>\n",
       "      <td>[中国, 年, 发展, 新, 上, 中, 国家, 经济, 政府, 思想]</td>\n",
       "    </tr>\n",
       "    <tr>\n",
       "      <th>5</th>\n",
       "      <td>tw_南一</td>\n",
       "      <td>P.118清朝晚期，可説是内外交迫。除遭受列强不断侵略外外，从十九世纪中叶起的二十馀年间，内...</td>\n",
       "      <td>[中国, 後, 年, 於, 中, 大, 人, 「, 国, 运动]</td>\n",
       "    </tr>\n",
       "    <tr>\n",
       "      <th>6</th>\n",
       "      <td>tw_康熹</td>\n",
       "      <td>﻿第四篇 近代的冲击（晚清）第九章 敌国的倾颓第一节 西力冲击与西风东渐单口通商下的中外关系...</td>\n",
       "      <td>[中国, 年, 中, 人, 已, 发展, 不, 后, 运动, 中共]</td>\n",
       "    </tr>\n",
       "    <tr>\n",
       "      <th>7</th>\n",
       "      <td>tw_龙腾</td>\n",
       "      <td>第四篇 近代的冲击至晚清第九章 敌国的倾颓第一节 内部动乱与地方势力的崛起一、白莲教之乱社会...</td>\n",
       "      <td>[年, 中国, 人, 大, 中, 上, 政府, 政治, 不, 运动]</td>\n",
       "    </tr>\n",
       "  </tbody>\n",
       "</table>\n",
       "</div>"
      ],
      "text/plain": [
       "  version                                           sentence  \\\n",
       "0   hk_文達  第一节 建国初期巩固政权的措施中华人民共和国成立後面对着不少困难为了稳定局势及恢复经济中央政...   \n",
       "1   hk_現代  课题一民初政局第一章袁世凯的帝制运动 中华民国成立後中央政府的权力落在袁世凯手上他曾压革命党...   \n",
       "2   ma_人教  第三单元 近代中国经济结构的变动与资本主义的曲折发展鸦片战争以后，西方列强的经济侵略，摧毁了...   \n",
       "3   ma_人民  从1840年开始，为打开中国的大门，列强凭借强大的经济实力和船坚炮利的军事优势，屡屡对中国发...   \n",
       "4   ma_岳麓  ﻿第五单元 近现代中国的先进思想第二十课 西学东渐开眼看世界鸦片战争前后，外国资本主义对中国...   \n",
       "5   tw_南一  P.118清朝晚期，可説是内外交迫。除遭受列强不断侵略外外，从十九世纪中叶起的二十馀年间，内...   \n",
       "6   tw_康熹  ﻿第四篇 近代的冲击（晚清）第九章 敌国的倾颓第一节 西力冲击与西风东渐单口通商下的中外关系...   \n",
       "7   tw_龙腾  第四篇 近代的冲击至晚清第九章 敌国的倾颓第一节 内部动乱与地方势力的崛起一、白莲教之乱社会...   \n",
       "\n",
       "                               keywords  \n",
       "0     [中国, 年, 後, 中, 於, 日本, 国, 人, 使, 国家]  \n",
       "1    [中国, 後, 年, 於, 中, 日本, 不, 国, 政府, 中共]  \n",
       "2   [中国, 年, 上, 发展, 中, 人民, 新, 人, 国家, 革命]  \n",
       "3  [中国, 年, 中, 发展, 上, 人民, 新, 革命, 民族, 国家]  \n",
       "4  [中国, 年, 发展, 新, 上, 中, 国家, 经济, 政府, 思想]  \n",
       "5      [中国, 後, 年, 於, 中, 大, 人, 「, 国, 运动]  \n",
       "6    [中国, 年, 中, 人, 已, 发展, 不, 后, 运动, 中共]  \n",
       "7    [年, 中国, 人, 大, 中, 上, 政府, 政治, 不, 运动]  "
      ]
     },
     "execution_count": 11,
     "metadata": {},
     "output_type": "execute_result"
    }
   ],
   "source": [
    "corpus"
   ]
  },
  {
   "cell_type": "markdown",
   "metadata": {},
   "source": [
    "### Pre and Post - 1949"
   ]
  },
  {
   "cell_type": "code",
   "execution_count": null,
   "metadata": {},
   "outputs": [],
   "source": [
    "path = \"/Users/onyilam/Dropbox/history_textbooks_txt/Events/Post1949\"\n",
    "\n",
    "# read files by origin as  and split them into sentences\n",
    "\n",
    "corpus49 = pd.DataFrame()\n",
    "for file in os.listdir(path):\n",
    "    for val in ['tw_', 'ma_', 'hk_']:\n",
    "        if file.startswith(val) and 'old' not in file and 'all3' not in file: #excludes all3 from the filename\n",
    "            print(file)\n",
    "            with open(os.path.join(path, file), 'r') as f:\n",
    "                text = f.read()\n",
    "                text = text.replace('\\r', '').replace('\\n', '').replace('\\t', '')\n",
    "                #indivStr = re.split('。|？|:', text)\n",
    "                indivStr = re.split('---------', text)\n",
    "                df = pd.DataFrame(indivStr)\n",
    "                df['origin'] = val[:-1]\n",
    "                df['book'] = file\n",
    "                if 'pre' in file:\n",
    "                    df['period'] = 'pre'\n",
    "                else:\n",
    "                    df['period']='post'\n",
    "                corpus49 = corpus49.append(df)\n",
    "                \n",
    "                "
   ]
  }
 ],
 "metadata": {
  "kernelspec": {
   "display_name": "Python 3",
   "language": "python",
   "name": "python3"
  },
  "language_info": {
   "codemirror_mode": {
    "name": "ipython",
    "version": 3
   },
   "file_extension": ".py",
   "mimetype": "text/x-python",
   "name": "python",
   "nbconvert_exporter": "python",
   "pygments_lexer": "ipython3",
   "version": "3.7.6"
  }
 },
 "nbformat": 4,
 "nbformat_minor": 4
}
