{
 "cells": [
  {
   "cell_type": "code",
   "execution_count": 3,
   "metadata": {},
   "outputs": [],
   "source": [
    "import pandas as pd\n",
    "import numpy as np\n",
    "import jieba\n",
    "import os, re\n",
    "import seaborn as sns\n",
    "from snownlp import SnowNLP"
   ]
  },
  {
   "cell_type": "markdown",
   "metadata": {},
   "source": [
    "SnowNLP to assign pos tags. Unit of analysis is sentence level, since the ultimate unit of measurement is ratio of number of tags to character counts, so it is not necessary to have very clear sentence division."
   ]
  },
  {
   "cell_type": "code",
   "execution_count": 25,
   "metadata": {},
   "outputs": [
    {
     "name": "stdout",
     "output_type": "stream",
     "text": [
      "ma_人民版高中历史必修一现代中国部分.txt\n",
      "tw_龙腾.txt\n",
      "ma_人民版高中历史必修二现代中国部分.txt\n",
      "tw_南一第二.txt\n",
      "ma_人教版高中历史必修二现代中国部分.txt\n",
      "ma_人教版高中历史必修一现代中国部分.txt\n",
      "ma_岳麓版高中历史必修三现代中国部分.txt\n",
      "hk_現代5上.txt\n",
      "hk_現代5下.txt\n",
      "tw_康熹.txt\n",
      "hk_現代4下.txt\n",
      "hk_文達必修6.txt\n",
      "ma_人民版高中历史必修三现代中国部分.txt\n",
      "hk_文達必修5.txt\n",
      "hk_文達必修4.txt\n",
      "ma_岳麓版高中历史必修一现代中国部分.txt\n",
      "ma_人教版高中历史必修三现代中国部分.txt\n",
      "ma_岳麓版高中历史必修二现代中国部分.txt\n"
     ]
    }
   ],
   "source": [
    "path = \"/Users/onyilam/Dropbox/history_textbooks_txt\"\n",
    "\n",
    "# read files by origin as  and split them into sentences\n",
    "\n",
    "corpus = pd.DataFrame()\n",
    "for file in os.listdir(path):\n",
    "    for val in ['tw_', 'ma_', 'hk_']:\n",
    "        if file.startswith(val):\n",
    "            print(file)\n",
    "            with open(os.path.join(path, file), 'r') as f:\n",
    "                text = f.read()\n",
    "                text = text.replace('\\r', '').replace('\\n', '').replace('\\t', '')\n",
    "                indivStr = re.split('。|？|:', text)\n",
    "                #indivStr = re.split('---------', text)\n",
    "                df = pd.DataFrame(indivStr)\n",
    "                df['origin'] = val[:-1]\n",
    "                df['book'] = file\n",
    "                corpus = corpus.append(df)\n",
    "                \n",
    "                "
   ]
  },
  {
   "cell_type": "code",
   "execution_count": 26,
   "metadata": {},
   "outputs": [],
   "source": [
    "corpus.columns = ['sentence', 'origin', 'book']\n",
    "#remove empty rows\n",
    "corpus = corpus[corpus['sentence']!=\"\"]\n",
    "# dummify the origin variable\n",
    "corpus = pd.concat( [corpus, pd.get_dummies(corpus['origin'])], axis = 1)\n"
   ]
  },
  {
   "cell_type": "code",
   "execution_count": 27,
   "metadata": {},
   "outputs": [],
   "source": [
    "corpus = corpus.reset_index()"
   ]
  },
  {
   "cell_type": "code",
   "execution_count": 28,
   "metadata": {},
   "outputs": [
    {
     "data": {
      "text/plain": [
       "8770"
      ]
     },
     "execution_count": 28,
     "metadata": {},
     "output_type": "execute_result"
    }
   ],
   "source": [
    "len(corpus)"
   ]
  },
  {
   "cell_type": "code",
   "execution_count": 37,
   "metadata": {},
   "outputs": [],
   "source": [
    "def pos_tag(sent):\n",
    "    s = SnowNLP(sent)\n",
    "    res = []\n",
    "    adj = 0\n",
    "    deg = 0\n",
    "    noun = 0\n",
    "    verb = 0\n",
    "    prop = 0\n",
    "    \n",
    "    for tag in s.tags:\n",
    "        res.append(tag)\n",
    "        \n",
    "    for r in res:\n",
    "        if r[1] in ['an', 'a', 'ad', 'i', 'l']:\n",
    "            adj += 1\n",
    "        if r[1].startswith('d'):\n",
    "            deg += 1\n",
    "        if r[1].startswith('n'):\n",
    "            noun += 1\n",
    "        if r[1].startswith('v'):\n",
    "            verb += 1\n",
    "        if r[1].startswith('p'):\n",
    "            prop += 1\n",
    "    return res, adj, deg, noun, verb, prop"
   ]
  },
  {
   "cell_type": "code",
   "execution_count": 46,
   "metadata": {},
   "outputs": [],
   "source": [
    "corpus['raw_res'] = corpus['sentence'].apply(lambda x: pos_tag(x))"
   ]
  },
  {
   "cell_type": "code",
   "execution_count": 49,
   "metadata": {},
   "outputs": [],
   "source": [
    "corpus['features'] = corpus['raw_res'].apply(lambda x: x[0])\n",
    "corpus['adj'] = corpus['raw_res'].apply(lambda x: x[1])\n",
    "corpus['deg'] = corpus['raw_res'].apply(lambda x: x[2])\n",
    "corpus['noun'] = corpus['raw_res'].apply(lambda x: x[3])\n",
    "corpus['verb'] = corpus['raw_res'].apply(lambda x: x[4])\n",
    "corpus['prop'] = corpus['raw_res'].apply(lambda x: x[5])"
   ]
  },
  {
   "cell_type": "code",
   "execution_count": 55,
   "metadata": {},
   "outputs": [
    {
     "data": {
      "text/plain": [
       "origin\n",
       "hk    4765\n",
       "ma    5131\n",
       "tw    3116\n",
       "Name: adj, dtype: int64"
      ]
     },
     "execution_count": 55,
     "metadata": {},
     "output_type": "execute_result"
    }
   ],
   "source": [
    "corpus.groupby(['origin'])['adj'].sum()"
   ]
  },
  {
   "cell_type": "code",
   "execution_count": 57,
   "metadata": {},
   "outputs": [],
   "source": [
    "def char_count(sent):\n",
    "    #remove punctuation\n",
    "    punc = \"！？｡。＂＃＄％＆＇（）＊＋，－／：；＜＝＞＠［＼］＾＿｀｛｜｝～｟｠｢｣､、〃》「」『』【】〔〕〖〗〘〙〚〛〜〝〞〟〰〾〿–—‘’‛“”„‟…‧﹏.\"\n",
    "    sent = re.sub(r\"[%s]+\" %punc, \"\", sent)\n",
    "    return len(sent)"
   ]
  },
  {
   "cell_type": "code",
   "execution_count": 58,
   "metadata": {},
   "outputs": [],
   "source": [
    "corpus['num_char'] = corpus['sentence'].apply(lambda x: char_count(x))"
   ]
  },
  {
   "cell_type": "code",
   "execution_count": 95,
   "metadata": {},
   "outputs": [],
   "source": [
    "types = ['adj', 'deg', 'noun', 'verb', 'prop']\n",
    "t = pd.DataFrame(columns = ['origin'])\n",
    "\n",
    "for ty in types:\n",
    "    \n",
    "    t = pd.merge(t, pd.DataFrame(corpus.groupby(['origin'])[ty].sum()/corpus.groupby(['origin'])['num_char'].sum()\n",
    "                    ).reset_index().rename(columns={0:ty}), on = 'origin', how = 'right')"
   ]
  },
  {
   "cell_type": "code",
   "execution_count": 96,
   "metadata": {},
   "outputs": [
    {
     "data": {
      "text/html": [
       "<div>\n",
       "<style scoped>\n",
       "    .dataframe tbody tr th:only-of-type {\n",
       "        vertical-align: middle;\n",
       "    }\n",
       "\n",
       "    .dataframe tbody tr th {\n",
       "        vertical-align: top;\n",
       "    }\n",
       "\n",
       "    .dataframe thead th {\n",
       "        text-align: right;\n",
       "    }\n",
       "</style>\n",
       "<table border=\"1\" class=\"dataframe\">\n",
       "  <thead>\n",
       "    <tr style=\"text-align: right;\">\n",
       "      <th></th>\n",
       "      <th>origin</th>\n",
       "      <th>adj</th>\n",
       "      <th>deg</th>\n",
       "      <th>noun</th>\n",
       "      <th>verb</th>\n",
       "      <th>prop</th>\n",
       "    </tr>\n",
       "  </thead>\n",
       "  <tbody>\n",
       "    <tr>\n",
       "      <th>0</th>\n",
       "      <td>hk</td>\n",
       "      <td>0.028517</td>\n",
       "      <td>0.029218</td>\n",
       "      <td>0.177785</td>\n",
       "      <td>0.143594</td>\n",
       "      <td>0.030271</td>\n",
       "    </tr>\n",
       "    <tr>\n",
       "      <th>1</th>\n",
       "      <td>ma</td>\n",
       "      <td>0.034096</td>\n",
       "      <td>0.018192</td>\n",
       "      <td>0.190825</td>\n",
       "      <td>0.122304</td>\n",
       "      <td>0.025830</td>\n",
       "    </tr>\n",
       "    <tr>\n",
       "      <th>2</th>\n",
       "      <td>tw</td>\n",
       "      <td>0.028615</td>\n",
       "      <td>0.035980</td>\n",
       "      <td>0.168915</td>\n",
       "      <td>0.134524</td>\n",
       "      <td>0.030047</td>\n",
       "    </tr>\n",
       "  </tbody>\n",
       "</table>\n",
       "</div>"
      ],
      "text/plain": [
       "  origin       adj       deg      noun      verb      prop\n",
       "0     hk  0.028517  0.029218  0.177785  0.143594  0.030271\n",
       "1     ma  0.034096  0.018192  0.190825  0.122304  0.025830\n",
       "2     tw  0.028615  0.035980  0.168915  0.134524  0.030047"
      ]
     },
     "execution_count": 96,
     "metadata": {},
     "output_type": "execute_result"
    }
   ],
   "source": [
    "t"
   ]
  },
  {
   "cell_type": "markdown",
   "metadata": {},
   "source": [
    "## Pre and Post 1949"
   ]
  },
  {
   "cell_type": "code",
   "execution_count": 97,
   "metadata": {},
   "outputs": [
    {
     "name": "stdout",
     "output_type": "stream",
     "text": [
      "tw_龙腾pre1949.txt\n",
      "ma_岳麓版pre1949.txt\n",
      "hk_現代pre1949.txt\n",
      "tw_南一post1949.txt\n",
      "ma_岳麓版高中历史必修一post1949.txt\n",
      "tw_康熹post1949.txt\n",
      "ma_人民版pre1949.txt\n",
      "ma_人民版高中历史必修post1949.txt\n",
      "ma_人教版高中历史必修一post1949.txt\n",
      "tw_康熹pre1949.txt\n",
      "hk_文達post1949.txt\n",
      "ma_人教版pre1949.txt\n",
      "hk_文達pre1949.txt\n",
      "hk_現代post1949.txt\n",
      "tw_南一pre1949.txt\n",
      "tw_龙腾post1949.txt\n"
     ]
    }
   ],
   "source": [
    "path = \"/Users/onyilam/Dropbox/history_textbooks_txt/Events/Post1949\"\n",
    "\n",
    "# read files by origin as  and split them into sentences\n",
    "\n",
    "corpus49 = pd.DataFrame()\n",
    "for file in os.listdir(path):\n",
    "    for val in ['tw_', 'ma_', 'hk_']:\n",
    "        if file.startswith(val) and 'old' not in file and 'all3' not in file: #excludes all3 from the filename\n",
    "            print(file)\n",
    "            with open(os.path.join(path, file), 'r') as f:\n",
    "                text = f.read()\n",
    "                text = text.replace('\\r', '').replace('\\n', '').replace('\\t', '')\n",
    "                indivStr = re.split('。|？|:', text)\n",
    "                #indivStr = re.split('---------', text)\n",
    "                df = pd.DataFrame(indivStr)\n",
    "                df['origin'] = val[:-1]\n",
    "                df['book'] = file\n",
    "                if 'pre' in file:\n",
    "                    df['period'] = 'pre'\n",
    "                else:\n",
    "                    df['period']='post'\n",
    "                corpus49 = corpus49.append(df)\n",
    "                \n",
    "                "
   ]
  },
  {
   "cell_type": "code",
   "execution_count": 98,
   "metadata": {},
   "outputs": [
    {
     "data": {
      "text/plain": [
       "6175"
      ]
     },
     "execution_count": 98,
     "metadata": {},
     "output_type": "execute_result"
    }
   ],
   "source": [
    "len(corpus49)"
   ]
  },
  {
   "cell_type": "code",
   "execution_count": 99,
   "metadata": {},
   "outputs": [],
   "source": [
    "corpus49.columns = ['sentence', 'origin', 'book', 'period']\n",
    "#remove empty rows\n",
    "corpus49 = corpus49[corpus49['sentence']!=\"\"]\n",
    "# dummify the origin variable\n",
    "corpus49 = pd.concat( [corpus49, pd.get_dummies(corpus49['origin'])], axis = 1)"
   ]
  },
  {
   "cell_type": "code",
   "execution_count": 101,
   "metadata": {},
   "outputs": [],
   "source": [
    "corpus49['raw_res'] = corpus49['sentence'].apply(lambda x: pos_tag(x))"
   ]
  },
  {
   "cell_type": "code",
   "execution_count": 102,
   "metadata": {},
   "outputs": [],
   "source": [
    "corpus49['features'] = corpus49['raw_res'].apply(lambda x: x[0])\n",
    "corpus49['adj'] = corpus49['raw_res'].apply(lambda x: x[1])\n",
    "corpus49['deg'] = corpus49['raw_res'].apply(lambda x: x[2])\n",
    "corpus49['noun'] = corpus49['raw_res'].apply(lambda x: x[3])\n",
    "corpus49['verb'] = corpus49['raw_res'].apply(lambda x: x[4])\n",
    "corpus49['prop'] = corpus49['raw_res'].apply(lambda x: x[5])"
   ]
  },
  {
   "cell_type": "code",
   "execution_count": 103,
   "metadata": {},
   "outputs": [],
   "source": [
    "corpus49['num_char'] = corpus49['sentence'].apply(lambda x: char_count(x))"
   ]
  },
  {
   "cell_type": "code",
   "execution_count": 107,
   "metadata": {},
   "outputs": [],
   "source": [
    "types = ['adj', 'deg', 'noun', 'verb', 'prop']\n",
    "t2 = pd.DataFrame(columns = ['origin', 'period'])\n",
    "\n",
    "for ty in types:\n",
    "    \n",
    "    t2 = pd.merge(t2, pd.DataFrame(corpus49.groupby(['origin', 'period'])[ty].sum()/corpus49.groupby(['origin', 'period'])['num_char'].sum()\n",
    "                    ).reset_index().rename(columns={0:ty}), on = ['origin', 'period'], how = 'right')\n",
    "    "
   ]
  },
  {
   "cell_type": "code",
   "execution_count": 108,
   "metadata": {},
   "outputs": [
    {
     "data": {
      "text/html": [
       "<div>\n",
       "<style scoped>\n",
       "    .dataframe tbody tr th:only-of-type {\n",
       "        vertical-align: middle;\n",
       "    }\n",
       "\n",
       "    .dataframe tbody tr th {\n",
       "        vertical-align: top;\n",
       "    }\n",
       "\n",
       "    .dataframe thead th {\n",
       "        text-align: right;\n",
       "    }\n",
       "</style>\n",
       "<table border=\"1\" class=\"dataframe\">\n",
       "  <thead>\n",
       "    <tr style=\"text-align: right;\">\n",
       "      <th></th>\n",
       "      <th>origin</th>\n",
       "      <th>period</th>\n",
       "      <th>adj</th>\n",
       "      <th>deg</th>\n",
       "      <th>noun</th>\n",
       "      <th>verb</th>\n",
       "      <th>prop</th>\n",
       "    </tr>\n",
       "  </thead>\n",
       "  <tbody>\n",
       "    <tr>\n",
       "      <th>0</th>\n",
       "      <td>hk</td>\n",
       "      <td>post</td>\n",
       "      <td>0.028943</td>\n",
       "      <td>0.025053</td>\n",
       "      <td>0.176610</td>\n",
       "      <td>0.143478</td>\n",
       "      <td>0.029445</td>\n",
       "    </tr>\n",
       "    <tr>\n",
       "      <th>1</th>\n",
       "      <td>hk</td>\n",
       "      <td>pre</td>\n",
       "      <td>0.028256</td>\n",
       "      <td>0.031763</td>\n",
       "      <td>0.178503</td>\n",
       "      <td>0.143665</td>\n",
       "      <td>0.030776</td>\n",
       "    </tr>\n",
       "    <tr>\n",
       "      <th>2</th>\n",
       "      <td>ma</td>\n",
       "      <td>post</td>\n",
       "      <td>0.036614</td>\n",
       "      <td>0.017376</td>\n",
       "      <td>0.192758</td>\n",
       "      <td>0.112519</td>\n",
       "      <td>0.026826</td>\n",
       "    </tr>\n",
       "    <tr>\n",
       "      <th>3</th>\n",
       "      <td>ma</td>\n",
       "      <td>pre</td>\n",
       "      <td>0.032107</td>\n",
       "      <td>0.018836</td>\n",
       "      <td>0.189298</td>\n",
       "      <td>0.130033</td>\n",
       "      <td>0.025043</td>\n",
       "    </tr>\n",
       "    <tr>\n",
       "      <th>4</th>\n",
       "      <td>tw</td>\n",
       "      <td>post</td>\n",
       "      <td>0.028568</td>\n",
       "      <td>0.033588</td>\n",
       "      <td>0.171373</td>\n",
       "      <td>0.131708</td>\n",
       "      <td>0.027907</td>\n",
       "    </tr>\n",
       "    <tr>\n",
       "      <th>5</th>\n",
       "      <td>tw</td>\n",
       "      <td>pre</td>\n",
       "      <td>0.028633</td>\n",
       "      <td>0.036901</td>\n",
       "      <td>0.167968</td>\n",
       "      <td>0.135609</td>\n",
       "      <td>0.030872</td>\n",
       "    </tr>\n",
       "  </tbody>\n",
       "</table>\n",
       "</div>"
      ],
      "text/plain": [
       "  origin period       adj       deg      noun      verb      prop\n",
       "0     hk   post  0.028943  0.025053  0.176610  0.143478  0.029445\n",
       "1     hk    pre  0.028256  0.031763  0.178503  0.143665  0.030776\n",
       "2     ma   post  0.036614  0.017376  0.192758  0.112519  0.026826\n",
       "3     ma    pre  0.032107  0.018836  0.189298  0.130033  0.025043\n",
       "4     tw   post  0.028568  0.033588  0.171373  0.131708  0.027907\n",
       "5     tw    pre  0.028633  0.036901  0.167968  0.135609  0.030872"
      ]
     },
     "execution_count": 108,
     "metadata": {},
     "output_type": "execute_result"
    }
   ],
   "source": [
    "t2"
   ]
  },
  {
   "cell_type": "code",
   "execution_count": 109,
   "metadata": {},
   "outputs": [],
   "source": [
    "t['period'] = 'all'\n",
    "t3 = t.append(t2)"
   ]
  },
  {
   "cell_type": "code",
   "execution_count": 110,
   "metadata": {},
   "outputs": [
    {
     "data": {
      "text/html": [
       "<div>\n",
       "<style scoped>\n",
       "    .dataframe tbody tr th:only-of-type {\n",
       "        vertical-align: middle;\n",
       "    }\n",
       "\n",
       "    .dataframe tbody tr th {\n",
       "        vertical-align: top;\n",
       "    }\n",
       "\n",
       "    .dataframe thead th {\n",
       "        text-align: right;\n",
       "    }\n",
       "</style>\n",
       "<table border=\"1\" class=\"dataframe\">\n",
       "  <thead>\n",
       "    <tr style=\"text-align: right;\">\n",
       "      <th></th>\n",
       "      <th>origin</th>\n",
       "      <th>adj</th>\n",
       "      <th>deg</th>\n",
       "      <th>noun</th>\n",
       "      <th>verb</th>\n",
       "      <th>prop</th>\n",
       "      <th>period</th>\n",
       "    </tr>\n",
       "  </thead>\n",
       "  <tbody>\n",
       "    <tr>\n",
       "      <th>0</th>\n",
       "      <td>hk</td>\n",
       "      <td>0.028517</td>\n",
       "      <td>0.029218</td>\n",
       "      <td>0.177785</td>\n",
       "      <td>0.143594</td>\n",
       "      <td>0.030271</td>\n",
       "      <td>all</td>\n",
       "    </tr>\n",
       "    <tr>\n",
       "      <th>1</th>\n",
       "      <td>ma</td>\n",
       "      <td>0.034096</td>\n",
       "      <td>0.018192</td>\n",
       "      <td>0.190825</td>\n",
       "      <td>0.122304</td>\n",
       "      <td>0.025830</td>\n",
       "      <td>all</td>\n",
       "    </tr>\n",
       "    <tr>\n",
       "      <th>2</th>\n",
       "      <td>tw</td>\n",
       "      <td>0.028615</td>\n",
       "      <td>0.035980</td>\n",
       "      <td>0.168915</td>\n",
       "      <td>0.134524</td>\n",
       "      <td>0.030047</td>\n",
       "      <td>all</td>\n",
       "    </tr>\n",
       "    <tr>\n",
       "      <th>0</th>\n",
       "      <td>hk</td>\n",
       "      <td>0.028943</td>\n",
       "      <td>0.025053</td>\n",
       "      <td>0.176610</td>\n",
       "      <td>0.143478</td>\n",
       "      <td>0.029445</td>\n",
       "      <td>post</td>\n",
       "    </tr>\n",
       "    <tr>\n",
       "      <th>1</th>\n",
       "      <td>hk</td>\n",
       "      <td>0.028256</td>\n",
       "      <td>0.031763</td>\n",
       "      <td>0.178503</td>\n",
       "      <td>0.143665</td>\n",
       "      <td>0.030776</td>\n",
       "      <td>pre</td>\n",
       "    </tr>\n",
       "    <tr>\n",
       "      <th>2</th>\n",
       "      <td>ma</td>\n",
       "      <td>0.036614</td>\n",
       "      <td>0.017376</td>\n",
       "      <td>0.192758</td>\n",
       "      <td>0.112519</td>\n",
       "      <td>0.026826</td>\n",
       "      <td>post</td>\n",
       "    </tr>\n",
       "    <tr>\n",
       "      <th>3</th>\n",
       "      <td>ma</td>\n",
       "      <td>0.032107</td>\n",
       "      <td>0.018836</td>\n",
       "      <td>0.189298</td>\n",
       "      <td>0.130033</td>\n",
       "      <td>0.025043</td>\n",
       "      <td>pre</td>\n",
       "    </tr>\n",
       "    <tr>\n",
       "      <th>4</th>\n",
       "      <td>tw</td>\n",
       "      <td>0.028568</td>\n",
       "      <td>0.033588</td>\n",
       "      <td>0.171373</td>\n",
       "      <td>0.131708</td>\n",
       "      <td>0.027907</td>\n",
       "      <td>post</td>\n",
       "    </tr>\n",
       "    <tr>\n",
       "      <th>5</th>\n",
       "      <td>tw</td>\n",
       "      <td>0.028633</td>\n",
       "      <td>0.036901</td>\n",
       "      <td>0.167968</td>\n",
       "      <td>0.135609</td>\n",
       "      <td>0.030872</td>\n",
       "      <td>pre</td>\n",
       "    </tr>\n",
       "  </tbody>\n",
       "</table>\n",
       "</div>"
      ],
      "text/plain": [
       "  origin       adj       deg      noun      verb      prop period\n",
       "0     hk  0.028517  0.029218  0.177785  0.143594  0.030271    all\n",
       "1     ma  0.034096  0.018192  0.190825  0.122304  0.025830    all\n",
       "2     tw  0.028615  0.035980  0.168915  0.134524  0.030047    all\n",
       "0     hk  0.028943  0.025053  0.176610  0.143478  0.029445   post\n",
       "1     hk  0.028256  0.031763  0.178503  0.143665  0.030776    pre\n",
       "2     ma  0.036614  0.017376  0.192758  0.112519  0.026826   post\n",
       "3     ma  0.032107  0.018836  0.189298  0.130033  0.025043    pre\n",
       "4     tw  0.028568  0.033588  0.171373  0.131708  0.027907   post\n",
       "5     tw  0.028633  0.036901  0.167968  0.135609  0.030872    pre"
      ]
     },
     "execution_count": 110,
     "metadata": {},
     "output_type": "execute_result"
    }
   ],
   "source": [
    "t3"
   ]
  },
  {
   "cell_type": "code",
   "execution_count": 121,
   "metadata": {},
   "outputs": [
    {
     "data": {
      "image/png": "[encoded data removed]",
      "text/plain": [
       "<Figure size 648x432 with 1 Axes>"
      ]
     },
     "metadata": {
      "needs_background": "light"
     },
     "output_type": "display_data"
    }
   ],
   "source": [
    "## Plot - Grouped bar chart\n",
    "import matplotlib.pyplot as plt\n",
    "\n",
    "\n",
    "fig, ax = plt.subplots(figsize=(9, 6))\n",
    "x = np.arange(len(t3.origin.unique()))\n",
    "bar_width = 0.2\n",
    "b1 = ax.bar(x, t3.loc[t3['period'] == 'all', 'adj'],\n",
    "            width=bar_width, label = 'All')\n",
    "b2 = ax.bar(x + bar_width, t3.loc[t3['period'] == 'pre', 'adj'],\n",
    "            width=bar_width, label = 'Pre-1949')\n",
    "b3 = ax.bar(x + 2*bar_width, t3.loc[t3['period'] == 'post', 'adj'],\n",
    "            width=bar_width, label = 'Post-1949')\n",
    "\n",
    "# Fix the x-axes.\n",
    "ax.set_xticks(x + bar_width)\n",
    "ax.set_xticklabels(t3.origin.unique())\n",
    "\n",
    "# Add legend.\n",
    "ax.legend()\n",
    "\n",
    "# Axis styling.\n",
    "ax.spines['top'].set_visible(False)\n",
    "ax.spines['right'].set_visible(False)\n",
    "ax.spines['left'].set_visible(False)\n",
    "ax.spines['bottom'].set_color('#DDDDDD')\n",
    "ax.tick_params(bottom=False, left=False)\n",
    "ax.set_axisbelow(True)\n",
    "ax.yaxis.grid(True, color='#EEEEEE')\n",
    "ax.xaxis.grid(False)\n",
    "ax.set_ylim([0, 0.04])\n",
    "# Add axis and chart labels.\n",
    "ax.set_xlabel('Region', labelpad=15)\n",
    "ax.set_ylabel('Ratio', labelpad=15)\n",
    "ax.set_title('Ratio of Adjective to Number of Characters by Region and Period', pad=15)\n",
    "\n",
    "fig.tight_layout()"
   ]
  },
  {
   "cell_type": "code",
   "execution_count": 122,
   "metadata": {},
   "outputs": [
    {
     "data": {
      "image/png": "[encoded data removed]",
      "text/plain": [
       "<Figure size 648x432 with 1 Axes>"
      ]
     },
     "metadata": {
      "needs_background": "light"
     },
     "output_type": "display_data"
    }
   ],
   "source": [
    "## Plot - Grouped bar chart\n",
    "import matplotlib.pyplot as plt\n",
    "\n",
    "\n",
    "fig, ax = plt.subplots(figsize=(9, 6))\n",
    "x = np.arange(len(t3.origin.unique()))\n",
    "bar_width = 0.2\n",
    "b1 = ax.bar(x, t3.loc[t3['period'] == 'all', 'deg'],\n",
    "            width=bar_width, label = 'All')\n",
    "b2 = ax.bar(x + bar_width, t3.loc[t3['period'] == 'pre', 'deg'],\n",
    "            width=bar_width, label = 'Pre-1949')\n",
    "b3 = ax.bar(x + 2*bar_width, t3.loc[t3['period'] == 'post', 'deg'],\n",
    "            width=bar_width, label = 'Post-1949')\n",
    "\n",
    "# Fix the x-axes.\n",
    "ax.set_xticks(x + bar_width)\n",
    "ax.set_xticklabels(t3.origin.unique())\n",
    "\n",
    "# Add legend.\n",
    "ax.legend()\n",
    "\n",
    "# Axis styling.\n",
    "ax.spines['top'].set_visible(False)\n",
    "ax.spines['right'].set_visible(False)\n",
    "ax.spines['left'].set_visible(False)\n",
    "ax.spines['bottom'].set_color('#DDDDDD')\n",
    "ax.tick_params(bottom=False, left=False)\n",
    "ax.set_axisbelow(True)\n",
    "ax.yaxis.grid(True, color='#EEEEEE')\n",
    "ax.xaxis.grid(False)\n",
    "ax.set_ylim([0, 0.04])\n",
    "\n",
    "# Add axis and chart labels.\n",
    "ax.set_xlabel('Region', labelpad=15)\n",
    "ax.set_ylabel('Ratio', labelpad=15)\n",
    "ax.set_title('Ratio of Adverb to Number of Characters by Region and Period', pad=15)\n",
    "\n",
    "fig.tight_layout()"
   ]
  },
  {
   "cell_type": "code",
   "execution_count": 125,
   "metadata": {},
   "outputs": [
    {
     "data": {
      "image/png": "[encoded data removed]",
      "text/plain": [
       "<Figure size 648x432 with 1 Axes>"
      ]
     },
     "metadata": {
      "needs_background": "light"
     },
     "output_type": "display_data"
    }
   ],
   "source": [
    "## Plot - Grouped bar chart\n",
    "import matplotlib.pyplot as plt\n",
    "\n",
    "\n",
    "fig, ax = plt.subplots(figsize=(9, 6))\n",
    "x = np.arange(len(t3.origin.unique()))\n",
    "bar_width = 0.2\n",
    "b1 = ax.bar(x, t3.loc[t3['period'] == 'all', 'noun'],\n",
    "            width=bar_width, label = 'All')\n",
    "b2 = ax.bar(x + bar_width, t3.loc[t3['period'] == 'pre', 'noun'],\n",
    "            width=bar_width, label = 'Pre-1949')\n",
    "b3 = ax.bar(x + 2*bar_width, t3.loc[t3['period'] == 'post', 'noun'],\n",
    "            width=bar_width, label = 'Post-1949')\n",
    "\n",
    "# Fix the x-axes.\n",
    "ax.set_xticks(x + bar_width)\n",
    "ax.set_xticklabels(t3.origin.unique())\n",
    "ax.set_ylim([0, 0.25])\n",
    "# Add legend.\n",
    "ax.legend()\n",
    "\n",
    "# Axis styling.\n",
    "ax.spines['top'].set_visible(False)\n",
    "ax.spines['right'].set_visible(False)\n",
    "ax.spines['left'].set_visible(False)\n",
    "ax.spines['bottom'].set_color('#DDDDDD')\n",
    "ax.tick_params(bottom=False, left=False)\n",
    "ax.set_axisbelow(True)\n",
    "ax.yaxis.grid(True, color='#EEEEEE')\n",
    "ax.xaxis.grid(False)\n",
    "\n",
    "# Add axis and chart labels.\n",
    "ax.set_xlabel('Region', labelpad=15)\n",
    "ax.set_ylabel('Ratio', labelpad=15)\n",
    "ax.set_title('Ratio of Noun to Number of Characters by Region and Period', pad=15)\n",
    "\n",
    "fig.tight_layout()"
   ]
  },
  {
   "cell_type": "code",
   "execution_count": 126,
   "metadata": {},
   "outputs": [
    {
     "data": {
      "image/png": "[encoded data removed]",
      "text/plain": [
       "<Figure size 648x432 with 1 Axes>"
      ]
     },
     "metadata": {
      "needs_background": "light"
     },
     "output_type": "display_data"
    }
   ],
   "source": [
    "## Plot - Grouped bar chart\n",
    "import matplotlib.pyplot as plt\n",
    "\n",
    "\n",
    "fig, ax = plt.subplots(figsize=(9, 6))\n",
    "x = np.arange(len(t3.origin.unique()))\n",
    "bar_width = 0.2\n",
    "b1 = ax.bar(x, t3.loc[t3['period'] == 'all', 'verb'],\n",
    "            width=bar_width, label = 'All')\n",
    "b2 = ax.bar(x + bar_width, t3.loc[t3['period'] == 'pre', 'verb'],\n",
    "            width=bar_width, label = 'Pre-1949')\n",
    "b3 = ax.bar(x + 2*bar_width, t3.loc[t3['period'] == 'post', 'verb'],\n",
    "            width=bar_width, label = 'Post-1949')\n",
    "\n",
    "# Fix the x-axes.\n",
    "ax.set_xticks(x + bar_width)\n",
    "ax.set_xticklabels(t3.origin.unique())\n",
    "\n",
    "# Add legend.\n",
    "ax.legend()\n",
    "ax.set_ylim([0, 0.25])\n",
    "# Axis styling.\n",
    "ax.spines['top'].set_visible(False)\n",
    "ax.spines['right'].set_visible(False)\n",
    "ax.spines['left'].set_visible(False)\n",
    "ax.spines['bottom'].set_color('#DDDDDD')\n",
    "ax.tick_params(bottom=False, left=False)\n",
    "ax.set_axisbelow(True)\n",
    "ax.yaxis.grid(True, color='#EEEEEE')\n",
    "ax.xaxis.grid(False)\n",
    "\n",
    "# Add axis and chart labels.\n",
    "ax.set_xlabel('Region', labelpad=15)\n",
    "ax.set_ylabel('Ratio', labelpad=15)\n",
    "ax.set_title('Ratio of Verb to Number of Characters by Region and Period', pad=15)\n",
    "\n",
    "fig.tight_layout()"
   ]
  },
  {
   "cell_type": "code",
   "execution_count": 127,
   "metadata": {},
   "outputs": [
    {
     "data": {
      "image/png": "[encoded data removed]",
      "text/plain": [
       "<Figure size 648x432 with 1 Axes>"
      ]
     },
     "metadata": {
      "needs_background": "light"
     },
     "output_type": "display_data"
    }
   ],
   "source": [
    "## Plot - Grouped bar chart\n",
    "import matplotlib.pyplot as plt\n",
    "\n",
    "\n",
    "fig, ax = plt.subplots(figsize=(9, 6))\n",
    "x = np.arange(len(t3.origin.unique()))\n",
    "bar_width = 0.2\n",
    "b1 = ax.bar(x, t3.loc[t3['period'] == 'all', 'prop'],\n",
    "            width=bar_width, label = 'All')\n",
    "b2 = ax.bar(x + bar_width, t3.loc[t3['period'] == 'pre', 'prop'],\n",
    "            width=bar_width, label = 'Pre-1949')\n",
    "b3 = ax.bar(x + 2*bar_width, t3.loc[t3['period'] == 'post', 'prop'],\n",
    "            width=bar_width, label = 'Post-1949')\n",
    "\n",
    "# Fix the x-axes.\n",
    "ax.set_xticks(x + bar_width)\n",
    "ax.set_xticklabels(t3.origin.unique())\n",
    "ax.set_ylim([0, 0.04])\n",
    "# Add legend.\n",
    "ax.legend()\n",
    "\n",
    "# Axis styling.\n",
    "ax.spines['top'].set_visible(False)\n",
    "ax.spines['right'].set_visible(False)\n",
    "ax.spines['left'].set_visible(False)\n",
    "ax.spines['bottom'].set_color('#DDDDDD')\n",
    "ax.tick_params(bottom=False, left=False)\n",
    "ax.set_axisbelow(True)\n",
    "ax.yaxis.grid(True, color='#EEEEEE')\n",
    "ax.xaxis.grid(False)\n",
    "\n",
    "# Add axis and chart labels.\n",
    "ax.set_xlabel('Region', labelpad=15)\n",
    "ax.set_ylabel('Ratio', labelpad=15)\n",
    "ax.set_title('Ratio of Preposition to Number of Characters by Region and Period', pad=15)\n",
    "\n",
    "fig.tight_layout()"
   ]
  },
  {
   "cell_type": "markdown",
   "metadata": {},
   "source": [
    "## Content vs Function Words\n",
    "Function words might be prepositions, pronouns, auxiliary verbs, conjunctions, grammatical articles or particles\n",
    "Content words are nouns that were said to name objects and other entities, lexical verbs to indicate actions, adjectives to refer to attributes of entities and adverbs, to attributes of actions. "
   ]
  },
  {
   "cell_type": "code",
   "execution_count": null,
   "metadata": {},
   "outputs": [],
   "source": []
  }
 ],
 "metadata": {
  "kernelspec": {
   "display_name": "Python 3",
   "language": "python",
   "name": "python3"
  },
  "language_info": {
   "codemirror_mode": {
    "name": "ipython",
    "version": 3
   },
   "file_extension": ".py",
   "mimetype": "text/x-python",
   "name": "python",
   "nbconvert_exporter": "python",
   "pygments_lexer": "ipython3",
   "version": "3.7.6"
  }
 },
 "nbformat": 4,
 "nbformat_minor": 4
}
