{
 "cells": [
  {
   "cell_type": "code",
   "execution_count": 2,
   "metadata": {
    "collapsed": false
   },
   "outputs": [],
   "source": [
    "#encoding=utf-8,\n",
    "import jieba\n",
    "import sys, codecs, re, os, csv\n",
    "from io import open\n",
    "from pandas import Series, DataFrame\n",
    "import pandas as pd\n",
    "import numpy as np\n",
    "import itertools\n",
    "from DictionaryServices import *\n",
    "import matplotlib.pyplot as plt"
   ]
  },
  {
   "cell_type": "code",
   "execution_count": 3,
   "metadata": {
    "collapsed": false
   },
   "outputs": [],
   "source": [
    "pd.options.display.max_rows = 9999999\n",
    "path = '/Users/onyi/Dropbox/textbooks'"
   ]
  },
  {
   "cell_type": "markdown",
   "metadata": {},
   "source": [
    "<h4> A Dictionary Function that looks up the word definition using Dictionary App </h4>"
   ]
  },
  {
   "cell_type": "code",
   "execution_count": 4,
   "metadata": {
    "collapsed": true
   },
   "outputs": [],
   "source": [
    "#dictionary function\n",
    "def dictionary(searchword):\n",
    "    wordrange = (0, len(searchword))\n",
    "    dictresult = DCSCopyTextDefinition(None, searchword, wordrange)\n",
    "    if not dictresult:\n",
    "        errmsg = \"'%s' not found in Dictionary.\" % (searchword)\n",
    "        return(errmsg)\n",
    "    else:\n",
    "        return(dictresult)"
   ]
  },
  {
   "cell_type": "code",
   "execution_count": 5,
   "metadata": {
    "collapsed": false
   },
   "outputs": [],
   "source": [
    "book={}\n",
    "words={}\n",
    "WordDef={}\n",
    "NoFile= len([file for file in os.listdir(path) if os.path.isfile(os.path.join(path, file)) \n",
    "             and file.endswith(\".txt\") ])\n",
    "book2index={}\n",
    "wordlist = [[] for i in range(NoFile)]\n"
   ]
  },
  {
   "cell_type": "code",
   "execution_count": 5,
   "metadata": {
    "collapsed": false
   },
   "outputs": [
    {
     "name": "stderr",
     "output_type": "stream",
     "text": [
      "Building prefix dict from the default dictionary ...\n",
      "DEBUG:jieba:Building prefix dict from the default dictionary ...\n",
      "Dumping model to file cache /var/folders/_w/wb0_lsb14ls2qrdq804s92tr0000gn/T/jieba.cache\n",
      "DEBUG:jieba:Dumping model to file cache /var/folders/_w/wb0_lsb14ls2qrdq804s92tr0000gn/T/jieba.cache\n",
      "Loading model cost 1.442 seconds.\n",
      "DEBUG:jieba:Loading model cost 1.442 seconds.\n",
      "Prefix dict has been built succesfully.\n",
      "DEBUG:jieba:Prefix dict has been built succesfully.\n"
     ]
    },
    {
     "name": "stdout",
     "output_type": "stream",
     "text": [
      "hk_文達必修4.txt\n",
      "hk_文達必修5.txt\n",
      "hk_文達必修6.txt\n",
      "hk_現代4下.txt\n",
      "hk_現代5上.txt\n",
      "hk_現代5下.txt\n",
      "ma_old人教版历史书.txt\n",
      "ma_old人教版历史书下册.txt\n",
      "ma_人教版高中历史必修一现代中国部分.txt\n",
      "ma_人教版高中历史必修三现代中国部分.txt\n",
      "ma_人教版高中历史必修二现代中国部分.txt\n",
      "ma_人民版高中历史必修一现代中国部分.txt\n",
      "ma_人民版高中历史必修三现代中国部分.txt\n",
      "ma_人民版高中历史必修二现代中国部分.txt\n",
      "ma_岳麓版高中历史必修一现代中国部分.txt\n",
      "ma_岳麓版高中历史必修三现代中国部分.txt\n",
      "ma_岳麓版高中历史必修二现代中国部分.txt\n",
      "search_china.txt\n",
      "tw_old台湾历史书 - 高中历史第三册.txt\n",
      "tw_南一第二.txt\n",
      "tw_康熹.txt\n"
     ]
    }
   ],
   "source": [
    "path = '/Users/onyi/Dropbox/textbooks'\n",
    "i=0\n",
    "book_file_name = []\n",
    "book_length=[]\n",
    "for file in os.listdir(path):\n",
    "    if not file.startswith('.'):\n",
    "        file_path = os.path.join(path, file)\n",
    "        if os.path.isfile(file_path) and file.endswith(\".txt\"):\n",
    "            with open(file_path) as f: \n",
    "                book[file] = f.read()\n",
    "                print(file)\n",
    "                book[file] = re.sub(\"[。，；:!：“、〈〉\\n\\t■◆”《》~ ;﹜﹛()*.,a-zA-Z「」﹔（）〔〕？\\d+]\", \"\", book[file])\n",
    "                book_file_name.append(file)\n",
    "                words[file]= jieba.cut(book[file], cut_all=True) #segmenting the content  \n",
    "                book2index[file] = i\n",
    "                for word in words[file]:\n",
    "                    if \"not found in Dictionary.\" in dictionary(word):\n",
    "                        pass\n",
    "                    else:\n",
    "                        WordDef[word] = dictionary(word)\n",
    "                        wordlist[i].append(word)\n",
    "                temp = len(book[file])\n",
    "                #print(temp)\n",
    "                i=i+1\n",
    "                #count number of words in each book\n",
    "                book_length.append(temp)"
   ]
  },
  {
   "cell_type": "code",
   "execution_count": 6,
   "metadata": {
    "collapsed": false
   },
   "outputs": [],
   "source": [
    "#count the number of bigram, trigram, and quadgram in each book\n",
    "\n",
    "biwordcount = [[] for i in range(len(wordlist))]\n",
    "triwordcount = [[] for i in range(len(wordlist))]\n",
    "quadwordcount = [[] for i in range(len(wordlist))]\n",
    "\n",
    "for i in range(len(wordlist)):\n",
    "    biwordcount[i] = 0\n",
    "    triwordcount[i] = 0\n",
    "    quadwordcount[i] = 0\n",
    "    for word in wordlist[i]:\n",
    "        if len(word) == 2:\n",
    "            biwordcount[i] += 1\n",
    "        elif len(word) == 3:\n",
    "            triwordcount[i] += 1\n",
    "        elif len(word) == 4:\n",
    "            quadwordcount[i] += 1\n",
    "            pass\n",
    "        "
   ]
  },
  {
   "cell_type": "code",
   "execution_count": 7,
   "metadata": {
    "collapsed": false
   },
   "outputs": [],
   "source": [
    "books = pd.DataFrame.from_dict(dict(zip(book_file_name, book_length)), orient = 'index').reset_index()\n",
    "books.columns = ['book_edition','book length']\n",
    "books2 = pd.DataFrame.from_dict(dict(zip(book_file_name, biwordcount)), orient = 'index').reset_index()\n",
    "books2.columns = ['book_edition','Bigram']\n",
    "books3 = pd.DataFrame.from_dict(dict(zip(book_file_name, triwordcount)), orient = 'index').reset_index()\n",
    "books3.columns = ['book_edition','Trigram']\n",
    "books4 = pd.DataFrame.from_dict(dict(zip(book_file_name, quadwordcount)), orient = 'index').reset_index()\n",
    "books4.columns = ['book_edition','Quadgram']"
   ]
  },
  {
   "cell_type": "code",
   "execution_count": 8,
   "metadata": {
    "collapsed": false
   },
   "outputs": [
    {
     "data": {
      "text/html": [
       "<div>\n",
       "<table border=\"1\" class=\"dataframe\">\n",
       "  <thead>\n",
       "    <tr style=\"text-align: right;\">\n",
       "      <th></th>\n",
       "      <th>book length</th>\n",
       "      <th>Bigram</th>\n",
       "      <th>Trigram</th>\n",
       "      <th>Quadgram</th>\n",
       "    </tr>\n",
       "    <tr>\n",
       "      <th>book</th>\n",
       "      <th></th>\n",
       "      <th></th>\n",
       "      <th></th>\n",
       "      <th></th>\n",
       "    </tr>\n",
       "  </thead>\n",
       "  <tbody>\n",
       "    <tr>\n",
       "      <th>hk_文達</th>\n",
       "      <td>70627</td>\n",
       "      <td>26206</td>\n",
       "      <td>1317</td>\n",
       "      <td>1070</td>\n",
       "    </tr>\n",
       "    <tr>\n",
       "      <th>hk_現代</th>\n",
       "      <td>91085</td>\n",
       "      <td>33867</td>\n",
       "      <td>1502</td>\n",
       "      <td>1356</td>\n",
       "    </tr>\n",
       "    <tr>\n",
       "      <th>ma_ol</th>\n",
       "      <td>56925</td>\n",
       "      <td>22746</td>\n",
       "      <td>1357</td>\n",
       "      <td>1416</td>\n",
       "    </tr>\n",
       "    <tr>\n",
       "      <th>ma_人教</th>\n",
       "      <td>41544</td>\n",
       "      <td>16778</td>\n",
       "      <td>867</td>\n",
       "      <td>986</td>\n",
       "    </tr>\n",
       "    <tr>\n",
       "      <th>ma_人民</th>\n",
       "      <td>55484</td>\n",
       "      <td>22433</td>\n",
       "      <td>1226</td>\n",
       "      <td>1469</td>\n",
       "    </tr>\n",
       "    <tr>\n",
       "      <th>ma_岳麓</th>\n",
       "      <td>38908</td>\n",
       "      <td>15688</td>\n",
       "      <td>857</td>\n",
       "      <td>941</td>\n",
       "    </tr>\n",
       "    <tr>\n",
       "      <th>searc</th>\n",
       "      <td>410198</td>\n",
       "      <td>140591</td>\n",
       "      <td>7345</td>\n",
       "      <td>3962</td>\n",
       "    </tr>\n",
       "    <tr>\n",
       "      <th>tw_ol</th>\n",
       "      <td>46665</td>\n",
       "      <td>15919</td>\n",
       "      <td>548</td>\n",
       "      <td>344</td>\n",
       "    </tr>\n",
       "    <tr>\n",
       "      <th>tw_南一</th>\n",
       "      <td>30792</td>\n",
       "      <td>11112</td>\n",
       "      <td>444</td>\n",
       "      <td>345</td>\n",
       "    </tr>\n",
       "    <tr>\n",
       "      <th>tw_康熹</th>\n",
       "      <td>33640</td>\n",
       "      <td>12679</td>\n",
       "      <td>506</td>\n",
       "      <td>419</td>\n",
       "    </tr>\n",
       "  </tbody>\n",
       "</table>\n",
       "</div>"
      ],
      "text/plain": [
       "       book length  Bigram  Trigram  Quadgram\n",
       "book                                         \n",
       "hk_文達        70627   26206     1317      1070\n",
       "hk_現代        91085   33867     1502      1356\n",
       "ma_ol        56925   22746     1357      1416\n",
       "ma_人教        41544   16778      867       986\n",
       "ma_人民        55484   22433     1226      1469\n",
       "ma_岳麓        38908   15688      857       941\n",
       "searc       410198  140591     7345      3962\n",
       "tw_ol        46665   15919      548       344\n",
       "tw_南一        30792   11112      444       345\n",
       "tw_康熹        33640   12679      506       419"
      ]
     },
     "execution_count": 8,
     "metadata": {},
     "output_type": "execute_result"
    }
   ],
   "source": [
    "temp = pd.merge(books, books2, on = 'book_edition')\n",
    "temp2 = pd.merge(temp, books3, on = 'book_edition')\n",
    "summary = pd.merge(temp2, books4, on = 'book_edition')\n",
    "summary = summary.sort('book_edition')\n",
    "summary['book']= summary['book_edition'].str[:5]\n",
    "summary.groupby(['book'])['book length','Bigram','Trigram','Quadgram'].sum()"
   ]
  },
  {
   "cell_type": "code",
   "execution_count": 6,
   "metadata": {
    "collapsed": false
   },
   "outputs": [],
   "source": [
    "from collections import Counter\n",
    "adjcount_res = [[] for i in range(NoFile)] \n",
    "adjcount = [[] for i in range(NoFile)] \n",
    "adjratio_res = [[] for i in range(NoFile)]\n",
    "adjratio = [[] for i in range(NoFile)]\n",
    "adjlist= [[] for i in range(NoFile)]\n",
    "adjlist_res = [[] for i in range(NoFile)]\n",
    "indiv_adj = [[] for i in range(NoFile)]\n",
    "indiv_adj_res = [[] for i in range(NoFile)]\n",
    "\n",
    "fucount = [[] for i in range(NoFile)] \n",
    "furatio = [[] for i in range(NoFile)]\n",
    "fulist= [[] for i in range(NoFile)]\n",
    "indiv_fu = [[] for i in range(NoFile)]\n",
    "\n",
    "stopwords = ['就','可以', '从','出','三','者','奕','著','可能','太平','鲁','交','分别','奉',\n",
    "             '為','對','便','张','係','喎','是','等','和','到','对','本','面','动', '相',\n",
    "             '在','了','为','以','月','年','人','下','於','已','来','于','一','可是',\n",
    "             '二','十','就','时','所','中','1','成','藉','來','然','但','或', '将', '不过','至',\n",
    "            '曾', '不', '又', '都', '却', '即', '已经', '自', '还', '随', '没有', '就是', \n",
    "             '还是', '另', '突', '可', '每', '尔','未', '年前', '尤其',  '至少', '乃','许',\n",
    "             '曾经','力','顶', '权','万' ,'勿', '故','居中','革命', '经济','先','英','定']"
   ]
  },
  {
   "cell_type": "code",
   "execution_count": 10,
   "metadata": {
    "collapsed": false
   },
   "outputs": [],
   "source": [
    "\n",
    "    \n",
    "for i in range(NoFile):\n",
    "    adjcount[i] = 0\n",
    "    fucount[i] = 0\n",
    "    for j in range(len(wordlist[i])):\n",
    "        try: \n",
    "            temp = WordDef[wordlist[i][j]]\n",
    "            if (' 形 ' in temp or ' 成 ' in temp) and wordlist[i][j] not in stopwords:\n",
    "                adjcount[i] = adjcount[i]+1\n",
    "                adjlist[i].append(wordlist[i][j])\n",
    "                indiv_adj[i] = Counter(adjlist[i])\n",
    "            elif ' 副 ' in temp and wordlist[i][j] not in stopwords:\n",
    "                fucount[i] = fucount[i]+1\n",
    "                fulist[i].append(wordlist[i][j])\n",
    "                indiv_fu[i] = Counter(fulist[i])\n",
    "        except KeyError:\n",
    "            continue\n",
    "    adjratio[i] = adjcount[i]/book_length[i]        \n",
    "    furatio[i] = fucount[i]/book_length[i]\n",
    "            "
   ]
  },
  {
   "cell_type": "code",
   "execution_count": 11,
   "metadata": {
    "collapsed": false
   },
   "outputs": [],
   "source": [
    "hk_文達adj =indiv_adj[0] + indiv_adj[1] + indiv_adj[2]\n",
    "hk_現代adj =indiv_adj[3] + indiv_adj[4] + indiv_adj[5]\n",
    "ma_oldadj =indiv_adj[6] + indiv_adj[7] \n",
    "ma_人教adj =indiv_adj[8] + indiv_adj[9] + indiv_adj[10]\n",
    "ma_人民adj =indiv_adj[11] + indiv_adj[12] + indiv_adj[13]\n",
    "ma_岳麓adj =indiv_adj[14] + indiv_adj[15] + indiv_adj[16]\n",
    "searchadj =indiv_adj[17] \n",
    "tw_oldadj =indiv_adj[18] \n",
    "tw_南一adj =indiv_adj[19] \n",
    "tw_康熹adj =indiv_adj[20] \n"
   ]
  },
  {
   "cell_type": "code",
   "execution_count": 12,
   "metadata": {
    "collapsed": false
   },
   "outputs": [
    {
     "data": {
      "text/html": [
       "<div>\n",
       "<table border=\"1\" class=\"dataframe\">\n",
       "  <thead>\n",
       "    <tr style=\"text-align: right;\">\n",
       "      <th></th>\n",
       "      <th>adj</th>\n",
       "      <th>count</th>\n",
       "    </tr>\n",
       "  </thead>\n",
       "  <tbody>\n",
       "    <tr>\n",
       "      <th>531</th>\n",
       "      <td>开放</td>\n",
       "      <td>69</td>\n",
       "    </tr>\n",
       "    <tr>\n",
       "      <th>480</th>\n",
       "      <td>民主</td>\n",
       "      <td>58</td>\n",
       "    </tr>\n",
       "    <tr>\n",
       "      <th>3</th>\n",
       "      <td>国际</td>\n",
       "      <td>53</td>\n",
       "    </tr>\n",
       "    <tr>\n",
       "      <th>96</th>\n",
       "      <td>严重</td>\n",
       "      <td>48</td>\n",
       "    </tr>\n",
       "    <tr>\n",
       "      <th>503</th>\n",
       "      <td>联合</td>\n",
       "      <td>45</td>\n",
       "    </tr>\n",
       "  </tbody>\n",
       "</table>\n",
       "</div>"
      ],
      "text/plain": [
       "    adj  count\n",
       "531  开放     69\n",
       "480  民主     58\n",
       "3    国际     53\n",
       "96   严重     48\n",
       "503  联合     45"
      ]
     },
     "execution_count": 12,
     "metadata": {},
     "output_type": "execute_result"
    }
   ],
   "source": [
    "d = hk_文達adj\n",
    "df = pd.DataFrame.from_dict(d, orient='index').reset_index()\n",
    "df.columns = ['adj','count']\n",
    "\n",
    "bigram = df[df['adj'].str.len() == 2]\n",
    "bigram.sort(['count'],ascending = False).head(5)\n"
   ]
  },
  {
   "cell_type": "code",
   "execution_count": 13,
   "metadata": {
    "collapsed": false
   },
   "outputs": [
    {
     "data": {
      "text/html": [
       "<div>\n",
       "<table border=\"1\" class=\"dataframe\">\n",
       "  <thead>\n",
       "    <tr style=\"text-align: right;\">\n",
       "      <th></th>\n",
       "      <th>adj</th>\n",
       "      <th>count</th>\n",
       "    </tr>\n",
       "  </thead>\n",
       "  <tbody>\n",
       "    <tr>\n",
       "      <th>562</th>\n",
       "      <td>内忧外患</td>\n",
       "      <td>5</td>\n",
       "    </tr>\n",
       "    <tr>\n",
       "      <th>692</th>\n",
       "      <td>实事求是</td>\n",
       "      <td>4</td>\n",
       "    </tr>\n",
       "    <tr>\n",
       "      <th>80</th>\n",
       "      <td>前所未有</td>\n",
       "      <td>4</td>\n",
       "    </tr>\n",
       "    <tr>\n",
       "      <th>793</th>\n",
       "      <td>自负盈亏</td>\n",
       "      <td>3</td>\n",
       "    </tr>\n",
       "    <tr>\n",
       "      <th>604</th>\n",
       "      <td>内外交困</td>\n",
       "      <td>3</td>\n",
       "    </tr>\n",
       "  </tbody>\n",
       "</table>\n",
       "</div>"
      ],
      "text/plain": [
       "      adj  count\n",
       "562  内忧外患      5\n",
       "692  实事求是      4\n",
       "80   前所未有      4\n",
       "793  自负盈亏      3\n",
       "604  内外交困      3"
      ]
     },
     "execution_count": 13,
     "metadata": {},
     "output_type": "execute_result"
    }
   ],
   "source": [
    "quadgram = df[df['adj'].str.len() == 4]\n",
    "quadgram.sort(['count'],ascending = False).head(5)\n"
   ]
  },
  {
   "cell_type": "code",
   "execution_count": 14,
   "metadata": {
    "collapsed": false
   },
   "outputs": [
    {
     "data": {
      "text/html": [
       "<div>\n",
       "<table border=\"1\" class=\"dataframe\">\n",
       "  <thead>\n",
       "    <tr style=\"text-align: right;\">\n",
       "      <th></th>\n",
       "      <th>adj</th>\n",
       "      <th>count</th>\n",
       "    </tr>\n",
       "  </thead>\n",
       "  <tbody>\n",
       "    <tr>\n",
       "      <th>587</th>\n",
       "      <td>开放</td>\n",
       "      <td>98</td>\n",
       "    </tr>\n",
       "    <tr>\n",
       "      <th>499</th>\n",
       "      <td>和平</td>\n",
       "      <td>76</td>\n",
       "    </tr>\n",
       "    <tr>\n",
       "      <th>3</th>\n",
       "      <td>国际</td>\n",
       "      <td>68</td>\n",
       "    </tr>\n",
       "    <tr>\n",
       "      <th>550</th>\n",
       "      <td>联合</td>\n",
       "      <td>67</td>\n",
       "    </tr>\n",
       "    <tr>\n",
       "      <th>515</th>\n",
       "      <td>民主</td>\n",
       "      <td>60</td>\n",
       "    </tr>\n",
       "  </tbody>\n",
       "</table>\n",
       "</div>"
      ],
      "text/plain": [
       "    adj  count\n",
       "587  开放     98\n",
       "499  和平     76\n",
       "3    国际     68\n",
       "550  联合     67\n",
       "515  民主     60"
      ]
     },
     "execution_count": 14,
     "metadata": {},
     "output_type": "execute_result"
    }
   ],
   "source": [
    "\n",
    "d = hk_現代adj\n",
    "df = pd.DataFrame.from_dict(d, orient='index').reset_index()\n",
    "df.columns = ['adj','count']\n",
    "\n",
    "bigram = df[df['adj'].str.len() == 2]\n",
    "bigram.sort(['count'],ascending = False).head(5)"
   ]
  },
  {
   "cell_type": "code",
   "execution_count": 15,
   "metadata": {
    "collapsed": false
   },
   "outputs": [
    {
     "data": {
      "text/html": [
       "<div>\n",
       "<table border=\"1\" class=\"dataframe\">\n",
       "  <thead>\n",
       "    <tr style=\"text-align: right;\">\n",
       "      <th></th>\n",
       "      <th>adj</th>\n",
       "      <th>count</th>\n",
       "    </tr>\n",
       "  </thead>\n",
       "  <tbody>\n",
       "    <tr>\n",
       "      <th>556</th>\n",
       "      <td>独立自主</td>\n",
       "      <td>14</td>\n",
       "    </tr>\n",
       "    <tr>\n",
       "      <th>85</th>\n",
       "      <td>有识之士</td>\n",
       "      <td>6</td>\n",
       "    </tr>\n",
       "    <tr>\n",
       "      <th>628</th>\n",
       "      <td>内忧外患</td>\n",
       "      <td>6</td>\n",
       "    </tr>\n",
       "    <tr>\n",
       "      <th>176</th>\n",
       "      <td>迫在眉睫</td>\n",
       "      <td>4</td>\n",
       "    </tr>\n",
       "    <tr>\n",
       "      <th>890</th>\n",
       "      <td>自负盈亏</td>\n",
       "      <td>3</td>\n",
       "    </tr>\n",
       "  </tbody>\n",
       "</table>\n",
       "</div>"
      ],
      "text/plain": [
       "      adj  count\n",
       "556  独立自主     14\n",
       "85   有识之士      6\n",
       "628  内忧外患      6\n",
       "176  迫在眉睫      4\n",
       "890  自负盈亏      3"
      ]
     },
     "execution_count": 15,
     "metadata": {},
     "output_type": "execute_result"
    }
   ],
   "source": [
    "quadgram = df[df['adj'].str.len() == 4]\n",
    "quadgram.sort(['count'],ascending = False).head(5)"
   ]
  },
  {
   "cell_type": "code",
   "execution_count": 16,
   "metadata": {
    "collapsed": false
   },
   "outputs": [
    {
     "data": {
      "text/html": [
       "<div>\n",
       "<table border=\"1\" class=\"dataframe\">\n",
       "  <thead>\n",
       "    <tr style=\"text-align: right;\">\n",
       "      <th></th>\n",
       "      <th>adj</th>\n",
       "      <th>count</th>\n",
       "    </tr>\n",
       "  </thead>\n",
       "  <tbody>\n",
       "    <tr>\n",
       "      <th>114</th>\n",
       "      <td>民主</td>\n",
       "      <td>154</td>\n",
       "    </tr>\n",
       "    <tr>\n",
       "      <th>217</th>\n",
       "      <td>科学</td>\n",
       "      <td>72</td>\n",
       "    </tr>\n",
       "    <tr>\n",
       "      <th>205</th>\n",
       "      <td>开放</td>\n",
       "      <td>57</td>\n",
       "    </tr>\n",
       "    <tr>\n",
       "      <th>95</th>\n",
       "      <td>和平</td>\n",
       "      <td>56</td>\n",
       "    </tr>\n",
       "    <tr>\n",
       "      <th>476</th>\n",
       "      <td>封建</td>\n",
       "      <td>55</td>\n",
       "    </tr>\n",
       "  </tbody>\n",
       "</table>\n",
       "</div>"
      ],
      "text/plain": [
       "    adj  count\n",
       "114  民主    154\n",
       "217  科学     72\n",
       "205  开放     57\n",
       "95   和平     56\n",
       "476  封建     55"
      ]
     },
     "execution_count": 16,
     "metadata": {},
     "output_type": "execute_result"
    }
   ],
   "source": [
    "\n",
    "d = ma_人民adj\n",
    "df = pd.DataFrame.from_dict(d, orient='index').reset_index()\n",
    "df.columns = ['adj','count']\n",
    "\n",
    "bigram = df[df['adj'].str.len() == 2]\n",
    "bigram.sort(['count'],ascending = False).head(5)"
   ]
  },
  {
   "cell_type": "code",
   "execution_count": 17,
   "metadata": {
    "collapsed": false
   },
   "outputs": [
    {
     "data": {
      "text/html": [
       "<div>\n",
       "<table border=\"1\" class=\"dataframe\">\n",
       "  <thead>\n",
       "    <tr style=\"text-align: right;\">\n",
       "      <th></th>\n",
       "      <th>adj</th>\n",
       "      <th>count</th>\n",
       "    </tr>\n",
       "  </thead>\n",
       "  <tbody>\n",
       "    <tr>\n",
       "      <th>395</th>\n",
       "      <td>独立自主</td>\n",
       "      <td>11</td>\n",
       "    </tr>\n",
       "    <tr>\n",
       "      <th>231</th>\n",
       "      <td>实事求是</td>\n",
       "      <td>11</td>\n",
       "    </tr>\n",
       "    <tr>\n",
       "      <th>504</th>\n",
       "      <td>拨乱反正</td>\n",
       "      <td>5</td>\n",
       "    </tr>\n",
       "    <tr>\n",
       "      <th>189</th>\n",
       "      <td>轰轰烈烈</td>\n",
       "      <td>5</td>\n",
       "    </tr>\n",
       "    <tr>\n",
       "      <th>124</th>\n",
       "      <td>前仆后继</td>\n",
       "      <td>3</td>\n",
       "    </tr>\n",
       "  </tbody>\n",
       "</table>\n",
       "</div>"
      ],
      "text/plain": [
       "      adj  count\n",
       "395  独立自主     11\n",
       "231  实事求是     11\n",
       "504  拨乱反正      5\n",
       "189  轰轰烈烈      5\n",
       "124  前仆后继      3"
      ]
     },
     "execution_count": 17,
     "metadata": {},
     "output_type": "execute_result"
    }
   ],
   "source": [
    "quadgram = df[df['adj'].str.len() == 4]\n",
    "quadgram.sort(['count'],ascending = False).head(5)"
   ]
  },
  {
   "cell_type": "code",
   "execution_count": 18,
   "metadata": {
    "collapsed": false
   },
   "outputs": [
    {
     "data": {
      "text/html": [
       "<div>\n",
       "<table border=\"1\" class=\"dataframe\">\n",
       "  <thead>\n",
       "    <tr style=\"text-align: right;\">\n",
       "      <th></th>\n",
       "      <th>adj</th>\n",
       "      <th>count</th>\n",
       "    </tr>\n",
       "  </thead>\n",
       "  <tbody>\n",
       "    <tr>\n",
       "      <th>114</th>\n",
       "      <td>民主</td>\n",
       "      <td>124</td>\n",
       "    </tr>\n",
       "    <tr>\n",
       "      <th>226</th>\n",
       "      <td>科学</td>\n",
       "      <td>47</td>\n",
       "    </tr>\n",
       "    <tr>\n",
       "      <th>95</th>\n",
       "      <td>和平</td>\n",
       "      <td>43</td>\n",
       "    </tr>\n",
       "    <tr>\n",
       "      <th>598</th>\n",
       "      <td>重要</td>\n",
       "      <td>43</td>\n",
       "    </tr>\n",
       "    <tr>\n",
       "      <th>497</th>\n",
       "      <td>统一</td>\n",
       "      <td>34</td>\n",
       "    </tr>\n",
       "  </tbody>\n",
       "</table>\n",
       "</div>"
      ],
      "text/plain": [
       "    adj  count\n",
       "114  民主    124\n",
       "226  科学     47\n",
       "95   和平     43\n",
       "598  重要     43\n",
       "497  统一     34"
      ]
     },
     "execution_count": 18,
     "metadata": {},
     "output_type": "execute_result"
    }
   ],
   "source": [
    "\n",
    "d = ma_岳麓adj\n",
    "df = pd.DataFrame.from_dict(d, orient='index').reset_index()\n",
    "df.columns = ['adj','count']\n",
    "\n",
    "bigram = df[df['adj'].str.len() == 2]\n",
    "bigram.sort(['count'],ascending = False).head(5)"
   ]
  },
  {
   "cell_type": "code",
   "execution_count": 19,
   "metadata": {
    "collapsed": false
   },
   "outputs": [
    {
     "data": {
      "text/html": [
       "<div>\n",
       "<table border=\"1\" class=\"dataframe\">\n",
       "  <thead>\n",
       "    <tr style=\"text-align: right;\">\n",
       "      <th></th>\n",
       "      <th>adj</th>\n",
       "      <th>count</th>\n",
       "    </tr>\n",
       "  </thead>\n",
       "  <tbody>\n",
       "    <tr>\n",
       "      <th>172</th>\n",
       "      <td>独立自主</td>\n",
       "      <td>5</td>\n",
       "    </tr>\n",
       "    <tr>\n",
       "      <th>209</th>\n",
       "      <td>百花齐放</td>\n",
       "      <td>4</td>\n",
       "    </tr>\n",
       "    <tr>\n",
       "      <th>186</th>\n",
       "      <td>拨乱反正</td>\n",
       "      <td>3</td>\n",
       "    </tr>\n",
       "    <tr>\n",
       "      <th>351</th>\n",
       "      <td>救亡图存</td>\n",
       "      <td>3</td>\n",
       "    </tr>\n",
       "    <tr>\n",
       "      <th>407</th>\n",
       "      <td>当家做主</td>\n",
       "      <td>3</td>\n",
       "    </tr>\n",
       "  </tbody>\n",
       "</table>\n",
       "</div>"
      ],
      "text/plain": [
       "      adj  count\n",
       "172  独立自主      5\n",
       "209  百花齐放      4\n",
       "186  拨乱反正      3\n",
       "351  救亡图存      3\n",
       "407  当家做主      3"
      ]
     },
     "execution_count": 19,
     "metadata": {},
     "output_type": "execute_result"
    }
   ],
   "source": [
    "quadgram = df[df['adj'].str.len() == 4]\n",
    "quadgram.sort(['count'],ascending = False).head(5)"
   ]
  },
  {
   "cell_type": "code",
   "execution_count": 20,
   "metadata": {
    "collapsed": false
   },
   "outputs": [
    {
     "data": {
      "text/html": [
       "<div>\n",
       "<table border=\"1\" class=\"dataframe\">\n",
       "  <thead>\n",
       "    <tr style=\"text-align: right;\">\n",
       "      <th></th>\n",
       "      <th>adj</th>\n",
       "      <th>count</th>\n",
       "    </tr>\n",
       "  </thead>\n",
       "  <tbody>\n",
       "    <tr>\n",
       "      <th>3</th>\n",
       "      <td>国际</td>\n",
       "      <td>28</td>\n",
       "    </tr>\n",
       "    <tr>\n",
       "      <th>554</th>\n",
       "      <td>重要</td>\n",
       "      <td>28</td>\n",
       "    </tr>\n",
       "    <tr>\n",
       "      <th>203</th>\n",
       "      <td>开放</td>\n",
       "      <td>22</td>\n",
       "    </tr>\n",
       "    <tr>\n",
       "      <th>521</th>\n",
       "      <td>积极</td>\n",
       "      <td>21</td>\n",
       "    </tr>\n",
       "    <tr>\n",
       "      <th>436</th>\n",
       "      <td>主要</td>\n",
       "      <td>19</td>\n",
       "    </tr>\n",
       "  </tbody>\n",
       "</table>\n",
       "</div>"
      ],
      "text/plain": [
       "    adj  count\n",
       "3    国际     28\n",
       "554  重要     28\n",
       "203  开放     22\n",
       "521  积极     21\n",
       "436  主要     19"
      ]
     },
     "execution_count": 20,
     "metadata": {},
     "output_type": "execute_result"
    }
   ],
   "source": [
    "\n",
    "d = tw_南一adj\n",
    "df = pd.DataFrame.from_dict(d, orient='index').reset_index()\n",
    "df.columns = ['adj','count']\n",
    "\n",
    "bigram = df[df['adj'].str.len() == 2]\n",
    "bigram.sort(['count'],ascending = False).head(5)"
   ]
  },
  {
   "cell_type": "code",
   "execution_count": 21,
   "metadata": {
    "collapsed": false
   },
   "outputs": [
    {
     "data": {
      "text/html": [
       "<div>\n",
       "<table border=\"1\" class=\"dataframe\">\n",
       "  <thead>\n",
       "    <tr style=\"text-align: right;\">\n",
       "      <th></th>\n",
       "      <th>adj</th>\n",
       "      <th>count</th>\n",
       "    </tr>\n",
       "  </thead>\n",
       "  <tbody>\n",
       "    <tr>\n",
       "      <th>322</th>\n",
       "      <td>才子佳人</td>\n",
       "      <td>2</td>\n",
       "    </tr>\n",
       "    <tr>\n",
       "      <th>341</th>\n",
       "      <td>东山再起</td>\n",
       "      <td>2</td>\n",
       "    </tr>\n",
       "    <tr>\n",
       "      <th>121</th>\n",
       "      <td>有识之士</td>\n",
       "      <td>2</td>\n",
       "    </tr>\n",
       "    <tr>\n",
       "      <th>253</th>\n",
       "      <td>内忧外患</td>\n",
       "      <td>2</td>\n",
       "    </tr>\n",
       "    <tr>\n",
       "      <th>250</th>\n",
       "      <td>救亡图存</td>\n",
       "      <td>2</td>\n",
       "    </tr>\n",
       "  </tbody>\n",
       "</table>\n",
       "</div>"
      ],
      "text/plain": [
       "      adj  count\n",
       "322  才子佳人      2\n",
       "341  东山再起      2\n",
       "121  有识之士      2\n",
       "253  内忧外患      2\n",
       "250  救亡图存      2"
      ]
     },
     "execution_count": 21,
     "metadata": {},
     "output_type": "execute_result"
    }
   ],
   "source": [
    "quadgram = df[df['adj'].str.len() == 4]\n",
    "quadgram.sort(['count'],ascending = False).head(5)"
   ]
  },
  {
   "cell_type": "code",
   "execution_count": 22,
   "metadata": {
    "collapsed": false
   },
   "outputs": [
    {
     "data": {
      "text/html": [
       "<div>\n",
       "<table border=\"1\" class=\"dataframe\">\n",
       "  <thead>\n",
       "    <tr style=\"text-align: right;\">\n",
       "      <th></th>\n",
       "      <th>adj</th>\n",
       "      <th>count</th>\n",
       "    </tr>\n",
       "  </thead>\n",
       "  <tbody>\n",
       "    <tr>\n",
       "      <th>382</th>\n",
       "      <td>国际</td>\n",
       "      <td>34</td>\n",
       "    </tr>\n",
       "    <tr>\n",
       "      <th>185</th>\n",
       "      <td>开放</td>\n",
       "      <td>32</td>\n",
       "    </tr>\n",
       "    <tr>\n",
       "      <th>540</th>\n",
       "      <td>重要</td>\n",
       "      <td>30</td>\n",
       "    </tr>\n",
       "    <tr>\n",
       "      <th>104</th>\n",
       "      <td>民主</td>\n",
       "      <td>25</td>\n",
       "    </tr>\n",
       "    <tr>\n",
       "      <th>484</th>\n",
       "      <td>成功</td>\n",
       "      <td>25</td>\n",
       "    </tr>\n",
       "  </tbody>\n",
       "</table>\n",
       "</div>"
      ],
      "text/plain": [
       "    adj  count\n",
       "382  国际     34\n",
       "185  开放     32\n",
       "540  重要     30\n",
       "104  民主     25\n",
       "484  成功     25"
      ]
     },
     "execution_count": 22,
     "metadata": {},
     "output_type": "execute_result"
    }
   ],
   "source": [
    "\n",
    "d = tw_康熹adj\n",
    "df = pd.DataFrame.from_dict(d, orient='index').reset_index()\n",
    "df.columns = ['adj','count']\n",
    "\n",
    "bigram = df[df['adj'].str.len() == 2]\n",
    "bigram.sort(['count'],ascending = False).head(5)"
   ]
  },
  {
   "cell_type": "code",
   "execution_count": 23,
   "metadata": {
    "collapsed": false
   },
   "outputs": [
    {
     "data": {
      "text/html": [
       "<div>\n",
       "<table border=\"1\" class=\"dataframe\">\n",
       "  <thead>\n",
       "    <tr style=\"text-align: right;\">\n",
       "      <th></th>\n",
       "      <th>adj</th>\n",
       "      <th>count</th>\n",
       "    </tr>\n",
       "  </thead>\n",
       "  <tbody>\n",
       "    <tr>\n",
       "      <th>106</th>\n",
       "      <td>有识之士</td>\n",
       "      <td>3</td>\n",
       "    </tr>\n",
       "    <tr>\n",
       "      <th>541</th>\n",
       "      <td>苛捐杂税</td>\n",
       "      <td>2</td>\n",
       "    </tr>\n",
       "    <tr>\n",
       "      <th>311</th>\n",
       "      <td>崭露头角</td>\n",
       "      <td>2</td>\n",
       "    </tr>\n",
       "    <tr>\n",
       "      <th>406</th>\n",
       "      <td>贪污腐化</td>\n",
       "      <td>2</td>\n",
       "    </tr>\n",
       "    <tr>\n",
       "      <th>120</th>\n",
       "      <td>百家争鸣</td>\n",
       "      <td>2</td>\n",
       "    </tr>\n",
       "  </tbody>\n",
       "</table>\n",
       "</div>"
      ],
      "text/plain": [
       "      adj  count\n",
       "106  有识之士      3\n",
       "541  苛捐杂税      2\n",
       "311  崭露头角      2\n",
       "406  贪污腐化      2\n",
       "120  百家争鸣      2"
      ]
     },
     "execution_count": 23,
     "metadata": {},
     "output_type": "execute_result"
    }
   ],
   "source": [
    "quadgram = df[df['adj'].str.len() == 4]\n",
    "quadgram.sort(['count'],ascending = False).head(5)"
   ]
  },
  {
   "cell_type": "code",
   "execution_count": 24,
   "metadata": {
    "collapsed": true
   },
   "outputs": [],
   "source": [
    "hk_文達fu =indiv_fu[0] + indiv_fu[1] + indiv_fu[2]\n",
    "hk_現代fu =indiv_fu[3] + indiv_fu[4] + indiv_fu[5]\n",
    "ma_oldfu =indiv_fu[6] + indiv_fu[7] \n",
    "ma_人教fu =indiv_fu[8] + indiv_fu[9] + indiv_fu[10]\n",
    "ma_人民fu =indiv_fu[11] + indiv_fu[12] + indiv_fu[13]\n",
    "ma_岳麓fu =indiv_fu[14] + indiv_fu[15] + indiv_fu[16]\n",
    "searchfu =indiv_fu[17] \n",
    "tw_oldfu =indiv_fu[18] \n",
    "tw_南一fu =indiv_fu[19] \n",
    "tw_康熹fu =indiv_fu[20]"
   ]
  },
  {
   "cell_type": "code",
   "execution_count": 25,
   "metadata": {
    "collapsed": false
   },
   "outputs": [
    {
     "data": {
      "text/html": [
       "<div>\n",
       "<table border=\"1\" class=\"dataframe\">\n",
       "  <thead>\n",
       "    <tr style=\"text-align: right;\">\n",
       "      <th></th>\n",
       "      <th>book</th>\n",
       "      <th>col_ind</th>\n",
       "      <th>adj_ratio</th>\n",
       "      <th>book_length</th>\n",
       "      <th>fu_ratio</th>\n",
       "      <th>adj_count</th>\n",
       "      <th>fu_count</th>\n",
       "      <th>region</th>\n",
       "    </tr>\n",
       "  </thead>\n",
       "  <tbody>\n",
       "    <tr>\n",
       "      <th>19</th>\n",
       "      <td>hk_文達必修4.txt</td>\n",
       "      <td>0</td>\n",
       "      <td>0.046842</td>\n",
       "      <td>23099</td>\n",
       "      <td>0.011386</td>\n",
       "      <td>1082</td>\n",
       "      <td>263</td>\n",
       "      <td>hk_文達</td>\n",
       "    </tr>\n",
       "    <tr>\n",
       "      <th>4</th>\n",
       "      <td>hk_文達必修5.txt</td>\n",
       "      <td>1</td>\n",
       "      <td>0.039397</td>\n",
       "      <td>19367</td>\n",
       "      <td>0.010327</td>\n",
       "      <td>763</td>\n",
       "      <td>200</td>\n",
       "      <td>hk_文達</td>\n",
       "    </tr>\n",
       "    <tr>\n",
       "      <th>12</th>\n",
       "      <td>hk_文達必修6.txt</td>\n",
       "      <td>2</td>\n",
       "      <td>0.049466</td>\n",
       "      <td>28161</td>\n",
       "      <td>0.011044</td>\n",
       "      <td>1393</td>\n",
       "      <td>311</td>\n",
       "      <td>hk_文達</td>\n",
       "    </tr>\n",
       "    <tr>\n",
       "      <th>1</th>\n",
       "      <td>hk_現代4下.txt</td>\n",
       "      <td>3</td>\n",
       "      <td>0.046136</td>\n",
       "      <td>27679</td>\n",
       "      <td>0.010911</td>\n",
       "      <td>1277</td>\n",
       "      <td>302</td>\n",
       "      <td>hk_現代</td>\n",
       "    </tr>\n",
       "    <tr>\n",
       "      <th>7</th>\n",
       "      <td>hk_現代5上.txt</td>\n",
       "      <td>4</td>\n",
       "      <td>0.040775</td>\n",
       "      <td>30435</td>\n",
       "      <td>0.010284</td>\n",
       "      <td>1241</td>\n",
       "      <td>313</td>\n",
       "      <td>hk_現代</td>\n",
       "    </tr>\n",
       "    <tr>\n",
       "      <th>8</th>\n",
       "      <td>hk_現代5下.txt</td>\n",
       "      <td>5</td>\n",
       "      <td>0.049892</td>\n",
       "      <td>32971</td>\n",
       "      <td>0.008523</td>\n",
       "      <td>1645</td>\n",
       "      <td>281</td>\n",
       "      <td>hk_現代</td>\n",
       "    </tr>\n",
       "    <tr>\n",
       "      <th>15</th>\n",
       "      <td>ma_old人教版历史书.txt</td>\n",
       "      <td>6</td>\n",
       "      <td>0.048603</td>\n",
       "      <td>27961</td>\n",
       "      <td>0.009978</td>\n",
       "      <td>1359</td>\n",
       "      <td>279</td>\n",
       "      <td>ma_ol</td>\n",
       "    </tr>\n",
       "    <tr>\n",
       "      <th>17</th>\n",
       "      <td>ma_old人教版历史书下册.txt</td>\n",
       "      <td>7</td>\n",
       "      <td>0.055759</td>\n",
       "      <td>28964</td>\n",
       "      <td>0.009287</td>\n",
       "      <td>1615</td>\n",
       "      <td>269</td>\n",
       "      <td>ma_ol</td>\n",
       "    </tr>\n",
       "    <tr>\n",
       "      <th>10</th>\n",
       "      <td>ma_人教版高中历史必修一现代中国部分.txt</td>\n",
       "      <td>8</td>\n",
       "      <td>0.053690</td>\n",
       "      <td>19203</td>\n",
       "      <td>0.011092</td>\n",
       "      <td>1031</td>\n",
       "      <td>213</td>\n",
       "      <td>ma_人教</td>\n",
       "    </tr>\n",
       "    <tr>\n",
       "      <th>11</th>\n",
       "      <td>ma_人教版高中历史必修三现代中国部分.txt</td>\n",
       "      <td>9</td>\n",
       "      <td>0.057594</td>\n",
       "      <td>10765</td>\n",
       "      <td>0.009568</td>\n",
       "      <td>620</td>\n",
       "      <td>103</td>\n",
       "      <td>ma_人教</td>\n",
       "    </tr>\n",
       "    <tr>\n",
       "      <th>9</th>\n",
       "      <td>ma_人教版高中历史必修二现代中国部分.txt</td>\n",
       "      <td>10</td>\n",
       "      <td>0.056842</td>\n",
       "      <td>11576</td>\n",
       "      <td>0.010712</td>\n",
       "      <td>658</td>\n",
       "      <td>124</td>\n",
       "      <td>ma_人教</td>\n",
       "    </tr>\n",
       "    <tr>\n",
       "      <th>3</th>\n",
       "      <td>ma_人民版高中历史必修一现代中国部分.txt</td>\n",
       "      <td>11</td>\n",
       "      <td>0.054736</td>\n",
       "      <td>26984</td>\n",
       "      <td>0.007931</td>\n",
       "      <td>1477</td>\n",
       "      <td>214</td>\n",
       "      <td>ma_人民</td>\n",
       "    </tr>\n",
       "    <tr>\n",
       "      <th>2</th>\n",
       "      <td>ma_人民版高中历史必修三现代中国部分.txt</td>\n",
       "      <td>12</td>\n",
       "      <td>0.060577</td>\n",
       "      <td>17779</td>\n",
       "      <td>0.010181</td>\n",
       "      <td>1077</td>\n",
       "      <td>181</td>\n",
       "      <td>ma_人民</td>\n",
       "    </tr>\n",
       "    <tr>\n",
       "      <th>18</th>\n",
       "      <td>ma_人民版高中历史必修二现代中国部分.txt</td>\n",
       "      <td>13</td>\n",
       "      <td>0.051394</td>\n",
       "      <td>10721</td>\n",
       "      <td>0.008768</td>\n",
       "      <td>551</td>\n",
       "      <td>94</td>\n",
       "      <td>ma_人民</td>\n",
       "    </tr>\n",
       "    <tr>\n",
       "      <th>13</th>\n",
       "      <td>ma_岳麓版高中历史必修一现代中国部分.txt</td>\n",
       "      <td>14</td>\n",
       "      <td>0.053867</td>\n",
       "      <td>17506</td>\n",
       "      <td>0.009997</td>\n",
       "      <td>943</td>\n",
       "      <td>175</td>\n",
       "      <td>ma_岳麓</td>\n",
       "    </tr>\n",
       "    <tr>\n",
       "      <th>0</th>\n",
       "      <td>ma_岳麓版高中历史必修三现代中国部分.txt</td>\n",
       "      <td>15</td>\n",
       "      <td>0.059989</td>\n",
       "      <td>11202</td>\n",
       "      <td>0.011069</td>\n",
       "      <td>672</td>\n",
       "      <td>124</td>\n",
       "      <td>ma_岳麓</td>\n",
       "    </tr>\n",
       "    <tr>\n",
       "      <th>14</th>\n",
       "      <td>ma_岳麓版高中历史必修二现代中国部分.txt</td>\n",
       "      <td>16</td>\n",
       "      <td>0.055980</td>\n",
       "      <td>10200</td>\n",
       "      <td>0.010392</td>\n",
       "      <td>571</td>\n",
       "      <td>106</td>\n",
       "      <td>ma_岳麓</td>\n",
       "    </tr>\n",
       "    <tr>\n",
       "      <th>5</th>\n",
       "      <td>search_china.txt</td>\n",
       "      <td>17</td>\n",
       "      <td>0.047338</td>\n",
       "      <td>410198</td>\n",
       "      <td>0.013718</td>\n",
       "      <td>19418</td>\n",
       "      <td>5627</td>\n",
       "      <td>searc</td>\n",
       "    </tr>\n",
       "    <tr>\n",
       "      <th>20</th>\n",
       "      <td>tw_old台湾历史书 - 高中历史第三册.txt</td>\n",
       "      <td>18</td>\n",
       "      <td>0.049545</td>\n",
       "      <td>46665</td>\n",
       "      <td>0.012279</td>\n",
       "      <td>2312</td>\n",
       "      <td>573</td>\n",
       "      <td>tw_ol</td>\n",
       "    </tr>\n",
       "    <tr>\n",
       "      <th>16</th>\n",
       "      <td>tw_南一第二.txt</td>\n",
       "      <td>19</td>\n",
       "      <td>0.049331</td>\n",
       "      <td>30792</td>\n",
       "      <td>0.012438</td>\n",
       "      <td>1519</td>\n",
       "      <td>383</td>\n",
       "      <td>tw_南一</td>\n",
       "    </tr>\n",
       "    <tr>\n",
       "      <th>6</th>\n",
       "      <td>tw_康熹.txt</td>\n",
       "      <td>20</td>\n",
       "      <td>0.044233</td>\n",
       "      <td>33640</td>\n",
       "      <td>0.011920</td>\n",
       "      <td>1488</td>\n",
       "      <td>401</td>\n",
       "      <td>tw_康熹</td>\n",
       "    </tr>\n",
       "  </tbody>\n",
       "</table>\n",
       "</div>"
      ],
      "text/plain": [
       "                         book  col_ind  adj_ratio  book_length  fu_ratio  \\\n",
       "19               hk_文達必修4.txt        0   0.046842        23099  0.011386   \n",
       "4                hk_文達必修5.txt        1   0.039397        19367  0.010327   \n",
       "12               hk_文達必修6.txt        2   0.049466        28161  0.011044   \n",
       "1                 hk_現代4下.txt        3   0.046136        27679  0.010911   \n",
       "7                 hk_現代5上.txt        4   0.040775        30435  0.010284   \n",
       "8                 hk_現代5下.txt        5   0.049892        32971  0.008523   \n",
       "15           ma_old人教版历史书.txt        6   0.048603        27961  0.009978   \n",
       "17         ma_old人教版历史书下册.txt        7   0.055759        28964  0.009287   \n",
       "10    ma_人教版高中历史必修一现代中国部分.txt        8   0.053690        19203  0.011092   \n",
       "11    ma_人教版高中历史必修三现代中国部分.txt        9   0.057594        10765  0.009568   \n",
       "9     ma_人教版高中历史必修二现代中国部分.txt       10   0.056842        11576  0.010712   \n",
       "3     ma_人民版高中历史必修一现代中国部分.txt       11   0.054736        26984  0.007931   \n",
       "2     ma_人民版高中历史必修三现代中国部分.txt       12   0.060577        17779  0.010181   \n",
       "18    ma_人民版高中历史必修二现代中国部分.txt       13   0.051394        10721  0.008768   \n",
       "13    ma_岳麓版高中历史必修一现代中国部分.txt       14   0.053867        17506  0.009997   \n",
       "0     ma_岳麓版高中历史必修三现代中国部分.txt       15   0.059989        11202  0.011069   \n",
       "14    ma_岳麓版高中历史必修二现代中国部分.txt       16   0.055980        10200  0.010392   \n",
       "5            search_china.txt       17   0.047338       410198  0.013718   \n",
       "20  tw_old台湾历史书 - 高中历史第三册.txt       18   0.049545        46665  0.012279   \n",
       "16                tw_南一第二.txt       19   0.049331        30792  0.012438   \n",
       "6                   tw_康熹.txt       20   0.044233        33640  0.011920   \n",
       "\n",
       "    adj_count  fu_count region  \n",
       "19       1082       263  hk_文達  \n",
       "4         763       200  hk_文達  \n",
       "12       1393       311  hk_文達  \n",
       "1        1277       302  hk_現代  \n",
       "7        1241       313  hk_現代  \n",
       "8        1645       281  hk_現代  \n",
       "15       1359       279  ma_ol  \n",
       "17       1615       269  ma_ol  \n",
       "10       1031       213  ma_人教  \n",
       "11        620       103  ma_人教  \n",
       "9         658       124  ma_人教  \n",
       "3        1477       214  ma_人民  \n",
       "2        1077       181  ma_人民  \n",
       "18        551        94  ma_人民  \n",
       "13        943       175  ma_岳麓  \n",
       "0         672       124  ma_岳麓  \n",
       "14        571       106  ma_岳麓  \n",
       "5       19418      5627  searc  \n",
       "20       2312       573  tw_ol  \n",
       "16       1519       383  tw_南一  \n",
       "6        1488       401  tw_康熹  "
      ]
     },
     "execution_count": 25,
     "metadata": {},
     "output_type": "execute_result"
    }
   ],
   "source": [
    "#merge adjratio with textbook\n",
    "df = pd.DataFrame.from_dict(book2index, orient='index').reset_index()\n",
    "df.columns = ['book','col_ind']\n",
    "temp = pd.DataFrame({'adj_ratio': adjratio})\n",
    "futemp = pd.DataFrame({'fu_ratio': furatio})\n",
    "temp2 = pd.DataFrame({'book_length': book_length})\n",
    "temp3 = pd.merge(df, temp, left_on = 'col_ind', right_index = True)\n",
    "adjtemp = pd.merge(temp3, temp2, left_on =  'col_ind', right_index = True)\n",
    "df = pd.merge(adjtemp, futemp, left_on = 'col_ind', right_index= True )\n",
    "df['adj_count'] = df['book_length']*df['adj_ratio']\n",
    "df['fu_count'] = df['book_length']*df['fu_ratio']\n",
    "df['region']= df['book'].str[:5]\n",
    "df = df.sort(['col_ind'])\n",
    "df\n",
    "#pd.concat([df, temp], axis=1, ignore_index=True)"
   ]
  },
  {
   "cell_type": "code",
   "execution_count": 26,
   "metadata": {
    "collapsed": false
   },
   "outputs": [
    {
     "data": {
      "text/html": [
       "<div>\n",
       "<table border=\"1\" class=\"dataframe\">\n",
       "  <thead>\n",
       "    <tr style=\"text-align: right;\">\n",
       "      <th></th>\n",
       "      <th>region</th>\n",
       "      <th>adj_count</th>\n",
       "      <th>fu_count</th>\n",
       "      <th>book_length</th>\n",
       "      <th>adj_ratio</th>\n",
       "      <th>fu_ratio</th>\n",
       "    </tr>\n",
       "  </thead>\n",
       "  <tbody>\n",
       "    <tr>\n",
       "      <th>0</th>\n",
       "      <td>hk_文達</td>\n",
       "      <td>3238</td>\n",
       "      <td>774</td>\n",
       "      <td>70627</td>\n",
       "      <td>0.045846</td>\n",
       "      <td>0.010959</td>\n",
       "    </tr>\n",
       "    <tr>\n",
       "      <th>1</th>\n",
       "      <td>hk_現代</td>\n",
       "      <td>4163</td>\n",
       "      <td>896</td>\n",
       "      <td>91085</td>\n",
       "      <td>0.045705</td>\n",
       "      <td>0.009837</td>\n",
       "    </tr>\n",
       "    <tr>\n",
       "      <th>2</th>\n",
       "      <td>ma_ol</td>\n",
       "      <td>2974</td>\n",
       "      <td>548</td>\n",
       "      <td>56925</td>\n",
       "      <td>0.052244</td>\n",
       "      <td>0.009627</td>\n",
       "    </tr>\n",
       "    <tr>\n",
       "      <th>3</th>\n",
       "      <td>ma_人教</td>\n",
       "      <td>2309</td>\n",
       "      <td>440</td>\n",
       "      <td>41544</td>\n",
       "      <td>0.055580</td>\n",
       "      <td>0.010591</td>\n",
       "    </tr>\n",
       "    <tr>\n",
       "      <th>4</th>\n",
       "      <td>ma_人民</td>\n",
       "      <td>3105</td>\n",
       "      <td>489</td>\n",
       "      <td>55484</td>\n",
       "      <td>0.055962</td>\n",
       "      <td>0.008813</td>\n",
       "    </tr>\n",
       "    <tr>\n",
       "      <th>5</th>\n",
       "      <td>ma_岳麓</td>\n",
       "      <td>2186</td>\n",
       "      <td>405</td>\n",
       "      <td>38908</td>\n",
       "      <td>0.056184</td>\n",
       "      <td>0.010409</td>\n",
       "    </tr>\n",
       "    <tr>\n",
       "      <th>6</th>\n",
       "      <td>searc</td>\n",
       "      <td>19418</td>\n",
       "      <td>5627</td>\n",
       "      <td>410198</td>\n",
       "      <td>0.047338</td>\n",
       "      <td>0.013718</td>\n",
       "    </tr>\n",
       "    <tr>\n",
       "      <th>7</th>\n",
       "      <td>tw_ol</td>\n",
       "      <td>2312</td>\n",
       "      <td>573</td>\n",
       "      <td>46665</td>\n",
       "      <td>0.049545</td>\n",
       "      <td>0.012279</td>\n",
       "    </tr>\n",
       "    <tr>\n",
       "      <th>8</th>\n",
       "      <td>tw_南一</td>\n",
       "      <td>1519</td>\n",
       "      <td>383</td>\n",
       "      <td>30792</td>\n",
       "      <td>0.049331</td>\n",
       "      <td>0.012438</td>\n",
       "    </tr>\n",
       "    <tr>\n",
       "      <th>9</th>\n",
       "      <td>tw_康熹</td>\n",
       "      <td>1488</td>\n",
       "      <td>401</td>\n",
       "      <td>33640</td>\n",
       "      <td>0.044233</td>\n",
       "      <td>0.011920</td>\n",
       "    </tr>\n",
       "  </tbody>\n",
       "</table>\n",
       "</div>"
      ],
      "text/plain": [
       "  region  adj_count  fu_count  book_length  adj_ratio  fu_ratio\n",
       "0  hk_文達       3238       774        70627   0.045846  0.010959\n",
       "1  hk_現代       4163       896        91085   0.045705  0.009837\n",
       "2  ma_ol       2974       548        56925   0.052244  0.009627\n",
       "3  ma_人教       2309       440        41544   0.055580  0.010591\n",
       "4  ma_人民       3105       489        55484   0.055962  0.008813\n",
       "5  ma_岳麓       2186       405        38908   0.056184  0.010409\n",
       "6  searc      19418      5627       410198   0.047338  0.013718\n",
       "7  tw_ol       2312       573        46665   0.049545  0.012279\n",
       "8  tw_南一       1519       383        30792   0.049331  0.012438\n",
       "9  tw_康熹       1488       401        33640   0.044233  0.011920"
      ]
     },
     "execution_count": 26,
     "metadata": {},
     "output_type": "execute_result"
    }
   ],
   "source": [
    "booklength = df.groupby('region')[['book_length']].sum().reset_index()\n",
    "modern = df.groupby('region')[['adj_count','fu_count']].sum().reset_index()\n",
    "modern = pd.merge(modern, booklength, on = 'region')\n",
    "modern['adj_ratio'] = modern['adj_count']/modern['book_length']\n",
    "modern['fu_ratio'] = modern['fu_count']/modern['book_length']\n",
    "modern"
   ]
  },
  {
   "cell_type": "markdown",
   "metadata": {},
   "source": [
    "####Plotting"
   ]
  },
  {
   "cell_type": "code",
   "execution_count": null,
   "metadata": {
    "collapsed": false
   },
   "outputs": [],
   "source": [
    "%matplotlib inline  \n",
    "# a bar plot with errorbars\n",
    "import numpy as np\n",
    "import matplotlib.pyplot as plt\n",
    "\n",
    "N = len(modern['region'])\n",
    "\n",
    "ind = np.arange(N)  # the x locations for the groups\n",
    "width = 0.35       # the width of the bars\n",
    "\n",
    "fig, ax = plt.subplots(figsize=(12,5))\n",
    "rects1 = ax.bar(ind, modern['adj_ratio'], width, color='r')\n",
    "rects2 = ax.bar(ind + width,  modern['fu_ratio'], width, color='y')\n",
    "\n",
    "# add some text for labels, title and axes ticks\n",
    "ax.set_ylabel('Ratio')\n",
    "ax.set_title('Adjective and Adverb Ratio')\n",
    "ax.set_xticks(ind + width)\n",
    "ax.set_xticklabels(('hk_manhattan', 'hk_contemporary', 'ma_ol', 'ma_rengiao', 'ma_renmin', 'ma_', 'reference', 'tw_ol','tw_nanye','tw_kangxi'), rotation=45)\n",
    "\n",
    "ax.legend((rects1[0], rects2[0]), ('Adjective', 'Adverb'))\n",
    "\n",
    "\n",
    "def autolabel(rects):\n",
    "    # attach some text labels\n",
    "    for rect in rects:\n",
    "        height = rect.get_height()\n",
    "        ax.text(rect.get_x() + rect.get_width()/2., 1.05*height,\n",
    "                '%d' % int(height),\n",
    "                ha='center', va='bottom')\n",
    "\n",
    "#autolabel(rects1)\n",
    "#autolabel(rects2)\n",
    "\n",
    "plt.show()"
   ]
  },
  {
   "cell_type": "markdown",
   "metadata": {
    "collapsed": true
   },
   "source": [
    "<h3>Adjective content by Events</h3>"
   ]
  },
  {
   "cell_type": "code",
   "execution_count": 46,
   "metadata": {
    "collapsed": true
   },
   "outputs": [],
   "source": [
    "path = '/Users/onyi/Dropbox/textbooks/Events'\n",
    "Word={}\n",
    "WordByBook= []\n",
    "book_length = {}\n",
    "adjcountbyEvent={}\n",
    "adjratiobyEvent={}\n",
    "EventLength = {}"
   ]
  },
  {
   "cell_type": "code",
   "execution_count": 47,
   "metadata": {
    "collapsed": true
   },
   "outputs": [],
   "source": [
    "events = ['invasion.txt', 'civilwar.txt', 'sinojapanwar.txt','xinhai.txt','culture.txt','reform.txt','leap.txt']"
   ]
  },
  {
   "cell_type": "code",
   "execution_count": 48,
   "metadata": {
    "collapsed": false
   },
   "outputs": [],
   "source": [
    "\n",
    "i=0\n",
    "wordlist={}\n",
    "for event in events:\n",
    "    for file in os.listdir(path):\n",
    "        if not file.startswith('.'):\n",
    "            file_path = os.path.join(path, file)\n",
    "            if os.path.isfile(file_path) and file.endswith(event):\n",
    "                with open(file_path) as f: \n",
    "                    adjcountbyEvent[file] = 0\n",
    "                    RawEvent = f.read()\n",
    "                    RawEvent = re.sub(\"[。，；:!：“、〈〉\\n\\t■◆”《》~ ;﹜﹛()*.,a-zA-Z「」﹔（）〔〕？\\d+]\", \"\", RawEvent)\n",
    "                    book_length[file] = len(RawEvent)\n",
    "                    Word[file]= jieba.cut(RawEvent, cut_all=True)\n",
    "                    for word in Word[file]:\n",
    "                        if \"not found in Dictionary.\" in dictionary(word):\n",
    "                            pass\n",
    "                        else:\n",
    "                            temp = dictionary(word)\n",
    "                            if (' 形 ' in temp or ' 成 ' in temp) and word not in stopwords:\n",
    "                                adjcountbyEvent[file] = adjcountbyEvent[file]+1\n",
    "            else:\n",
    "                pass\n",
    " "
   ]
  },
  {
   "cell_type": "code",
   "execution_count": 125,
   "metadata": {
    "collapsed": false
   },
   "outputs": [],
   "source": [
    "adjcount_event = pd.DataFrame.from_dict(adjcountbyEvent, orient = 'index').reset_index()\n",
    "booklength = pd.DataFrame.from_dict(book_length, orient = 'index').reset_index()\n",
    "adjcount_event.columns = ['book','adj_count']\n",
    "booklength.columns = ['book','event_length']\n"
   ]
  },
  {
   "cell_type": "code",
   "execution_count": 131,
   "metadata": {
    "collapsed": false
   },
   "outputs": [],
   "source": [
    "event_order = pd.DataFrame.from_dict({'ivilwar.txt':4, 'culture.txt':6, 'nvasion.txt':1, 'eatleap.txt':5,'_reform.txt':7, 'apanwar.txt':3,'_xinhai.txt':2 }, orient = 'index')\n",
    "event_order.columns = ['event_order']"
   ]
  },
  {
   "cell_type": "code",
   "execution_count": 132,
   "metadata": {
    "collapsed": false
   },
   "outputs": [],
   "source": [
    "event = pd.merge(adjcount_event, booklength, on = 'book')\n",
    "event['version']= event['book'].str[:5]\n",
    "event['adj_ratio'] = event['adj_count']/event['event_length']\n",
    "event = event.sort('book')\n",
    "book_df = pd.merge(event, modern, left_on = 'version', right_on = 'region')\n",
    "book_df['event_ratio'] = book_df['event_length']/book_df['book_length']\n",
    "event['version'] = event['book'].str[:5]\n",
    "event['event_code'] = event['book'].str[-11:]\n",
    "event['region'] = event['book'].str[:2]\n",
    "event = pd.merge(event, event_order, left_on = 'event_code',right_index = True)"
   ]
  },
  {
   "cell_type": "code",
   "execution_count": 134,
   "metadata": {
    "collapsed": false
   },
   "outputs": [],
   "source": [
    "\n",
    "#separating into old and new versions, and removing the hk versions\n",
    "modern_versions = event[~event['book'].str.startswith(('ma_old','tw_old','sc_','hk_'))]\n",
    "old_versions = event[event['book'].str.startswith(('ma_old','tw_old'))]\n",
    "\n",
    "modern_adj = pd.DataFrame(modern_versions.groupby(['region','event_code','event_order'])['adj_ratio'].mean()).reset_index()\n",
    "old_adj = pd.DataFrame(old_versions.groupby(['region','event_code','event_order'])['adj_ratio'].mean()).reset_index()"
   ]
  },
  {
   "cell_type": "code",
   "execution_count": 137,
   "metadata": {
    "collapsed": false
   },
   "outputs": [
    {
     "data": {
      "text/html": [
       "<div>\n",
       "<table border=\"1\" class=\"dataframe\">\n",
       "  <thead>\n",
       "    <tr style=\"text-align: right;\">\n",
       "      <th></th>\n",
       "      <th>region</th>\n",
       "      <th>event_code</th>\n",
       "      <th>event_order</th>\n",
       "      <th>adj_ratio</th>\n",
       "    </tr>\n",
       "  </thead>\n",
       "  <tbody>\n",
       "    <tr>\n",
       "      <th>6</th>\n",
       "      <td>ma</td>\n",
       "      <td>nvasion.txt</td>\n",
       "      <td>1</td>\n",
       "      <td>0.043647</td>\n",
       "    </tr>\n",
       "    <tr>\n",
       "      <th>1</th>\n",
       "      <td>ma</td>\n",
       "      <td>_xinhai.txt</td>\n",
       "      <td>2</td>\n",
       "      <td>0.050454</td>\n",
       "    </tr>\n",
       "    <tr>\n",
       "      <th>2</th>\n",
       "      <td>ma</td>\n",
       "      <td>apanwar.txt</td>\n",
       "      <td>3</td>\n",
       "      <td>0.042899</td>\n",
       "    </tr>\n",
       "    <tr>\n",
       "      <th>5</th>\n",
       "      <td>ma</td>\n",
       "      <td>ivilwar.txt</td>\n",
       "      <td>4</td>\n",
       "      <td>0.050942</td>\n",
       "    </tr>\n",
       "    <tr>\n",
       "      <th>4</th>\n",
       "      <td>ma</td>\n",
       "      <td>eatleap.txt</td>\n",
       "      <td>5</td>\n",
       "      <td>0.070218</td>\n",
       "    </tr>\n",
       "    <tr>\n",
       "      <th>3</th>\n",
       "      <td>ma</td>\n",
       "      <td>culture.txt</td>\n",
       "      <td>6</td>\n",
       "      <td>0.052253</td>\n",
       "    </tr>\n",
       "    <tr>\n",
       "      <th>0</th>\n",
       "      <td>ma</td>\n",
       "      <td>_reform.txt</td>\n",
       "      <td>7</td>\n",
       "      <td>0.062215</td>\n",
       "    </tr>\n",
       "    <tr>\n",
       "      <th>10</th>\n",
       "      <td>tw</td>\n",
       "      <td>nvasion.txt</td>\n",
       "      <td>1</td>\n",
       "      <td>0.045286</td>\n",
       "    </tr>\n",
       "    <tr>\n",
       "      <th>7</th>\n",
       "      <td>tw</td>\n",
       "      <td>_xinhai.txt</td>\n",
       "      <td>2</td>\n",
       "      <td>0.052632</td>\n",
       "    </tr>\n",
       "    <tr>\n",
       "      <th>8</th>\n",
       "      <td>tw</td>\n",
       "      <td>apanwar.txt</td>\n",
       "      <td>3</td>\n",
       "      <td>0.048427</td>\n",
       "    </tr>\n",
       "    <tr>\n",
       "      <th>9</th>\n",
       "      <td>tw</td>\n",
       "      <td>ivilwar.txt</td>\n",
       "      <td>4</td>\n",
       "      <td>0.043160</td>\n",
       "    </tr>\n",
       "  </tbody>\n",
       "</table>\n",
       "</div>"
      ],
      "text/plain": [
       "   region   event_code  event_order  adj_ratio\n",
       "6      ma  nvasion.txt            1   0.043647\n",
       "1      ma  _xinhai.txt            2   0.050454\n",
       "2      ma  apanwar.txt            3   0.042899\n",
       "5      ma  ivilwar.txt            4   0.050942\n",
       "4      ma  eatleap.txt            5   0.070218\n",
       "3      ma  culture.txt            6   0.052253\n",
       "0      ma  _reform.txt            7   0.062215\n",
       "10     tw  nvasion.txt            1   0.045286\n",
       "7      tw  _xinhai.txt            2   0.052632\n",
       "8      tw  apanwar.txt            3   0.048427\n",
       "9      tw  ivilwar.txt            4   0.043160"
      ]
     },
     "execution_count": 137,
     "metadata": {},
     "output_type": "execute_result"
    }
   ],
   "source": [
    "old_adj = old_adj.sort(['region','event_order'])\n"
   ]
  },
  {
   "cell_type": "code",
   "execution_count": 136,
   "metadata": {
    "collapsed": false
   },
   "outputs": [
    {
     "data": {
      "text/html": [
       "<div>\n",
       "<table border=\"1\" class=\"dataframe\">\n",
       "  <thead>\n",
       "    <tr style=\"text-align: right;\">\n",
       "      <th></th>\n",
       "      <th>region</th>\n",
       "      <th>event_code</th>\n",
       "      <th>event_order</th>\n",
       "      <th>adj_ratio</th>\n",
       "    </tr>\n",
       "  </thead>\n",
       "  <tbody>\n",
       "    <tr>\n",
       "      <th>6</th>\n",
       "      <td>ma</td>\n",
       "      <td>nvasion.txt</td>\n",
       "      <td>1</td>\n",
       "      <td>0.041771</td>\n",
       "    </tr>\n",
       "    <tr>\n",
       "      <th>1</th>\n",
       "      <td>ma</td>\n",
       "      <td>_xinhai.txt</td>\n",
       "      <td>2</td>\n",
       "      <td>0.049898</td>\n",
       "    </tr>\n",
       "    <tr>\n",
       "      <th>2</th>\n",
       "      <td>ma</td>\n",
       "      <td>apanwar.txt</td>\n",
       "      <td>3</td>\n",
       "      <td>0.042374</td>\n",
       "    </tr>\n",
       "    <tr>\n",
       "      <th>5</th>\n",
       "      <td>ma</td>\n",
       "      <td>ivilwar.txt</td>\n",
       "      <td>4</td>\n",
       "      <td>0.055872</td>\n",
       "    </tr>\n",
       "    <tr>\n",
       "      <th>4</th>\n",
       "      <td>ma</td>\n",
       "      <td>eatleap.txt</td>\n",
       "      <td>5</td>\n",
       "      <td>0.076912</td>\n",
       "    </tr>\n",
       "    <tr>\n",
       "      <th>3</th>\n",
       "      <td>ma</td>\n",
       "      <td>culture.txt</td>\n",
       "      <td>6</td>\n",
       "      <td>0.045274</td>\n",
       "    </tr>\n",
       "    <tr>\n",
       "      <th>0</th>\n",
       "      <td>ma</td>\n",
       "      <td>_reform.txt</td>\n",
       "      <td>7</td>\n",
       "      <td>0.059242</td>\n",
       "    </tr>\n",
       "    <tr>\n",
       "      <th>13</th>\n",
       "      <td>tw</td>\n",
       "      <td>nvasion.txt</td>\n",
       "      <td>1</td>\n",
       "      <td>0.040434</td>\n",
       "    </tr>\n",
       "    <tr>\n",
       "      <th>8</th>\n",
       "      <td>tw</td>\n",
       "      <td>_xinhai.txt</td>\n",
       "      <td>2</td>\n",
       "      <td>0.047810</td>\n",
       "    </tr>\n",
       "    <tr>\n",
       "      <th>9</th>\n",
       "      <td>tw</td>\n",
       "      <td>apanwar.txt</td>\n",
       "      <td>3</td>\n",
       "      <td>0.048234</td>\n",
       "    </tr>\n",
       "    <tr>\n",
       "      <th>12</th>\n",
       "      <td>tw</td>\n",
       "      <td>ivilwar.txt</td>\n",
       "      <td>4</td>\n",
       "      <td>0.040774</td>\n",
       "    </tr>\n",
       "    <tr>\n",
       "      <th>11</th>\n",
       "      <td>tw</td>\n",
       "      <td>eatleap.txt</td>\n",
       "      <td>5</td>\n",
       "      <td>0.055443</td>\n",
       "    </tr>\n",
       "    <tr>\n",
       "      <th>10</th>\n",
       "      <td>tw</td>\n",
       "      <td>culture.txt</td>\n",
       "      <td>6</td>\n",
       "      <td>0.041628</td>\n",
       "    </tr>\n",
       "    <tr>\n",
       "      <th>7</th>\n",
       "      <td>tw</td>\n",
       "      <td>_reform.txt</td>\n",
       "      <td>7</td>\n",
       "      <td>0.051545</td>\n",
       "    </tr>\n",
       "  </tbody>\n",
       "</table>\n",
       "</div>"
      ],
      "text/plain": [
       "   region   event_code  event_order  adj_ratio\n",
       "6      ma  nvasion.txt            1   0.041771\n",
       "1      ma  _xinhai.txt            2   0.049898\n",
       "2      ma  apanwar.txt            3   0.042374\n",
       "5      ma  ivilwar.txt            4   0.055872\n",
       "4      ma  eatleap.txt            5   0.076912\n",
       "3      ma  culture.txt            6   0.045274\n",
       "0      ma  _reform.txt            7   0.059242\n",
       "13     tw  nvasion.txt            1   0.040434\n",
       "8      tw  _xinhai.txt            2   0.047810\n",
       "9      tw  apanwar.txt            3   0.048234\n",
       "12     tw  ivilwar.txt            4   0.040774\n",
       "11     tw  eatleap.txt            5   0.055443\n",
       "10     tw  culture.txt            6   0.041628\n",
       "7      tw  _reform.txt            7   0.051545"
      ]
     },
     "execution_count": 136,
     "metadata": {},
     "output_type": "execute_result"
    }
   ],
   "source": [
    "modern_adj = modern_adj.sort(['region','event_order'])\n"
   ]
  },
  {
   "cell_type": "code",
   "execution_count": 138,
   "metadata": {
    "collapsed": false
   },
   "outputs": [],
   "source": [
    "compare_old_modern = pd.merge(old_adj, modern_adj[['region','event_code','adj_ratio']],on = ['region','event_code'])\n",
    "compare_old_modern.columns = ['region','event_code','event_order', 'adj_ratio_old','adj_ratio_modern']"
   ]
  },
  {
   "cell_type": "code",
   "execution_count": 139,
   "metadata": {
    "collapsed": false
   },
   "outputs": [
    {
     "data": {
      "text/html": [
       "<div>\n",
       "<table border=\"1\" class=\"dataframe\">\n",
       "  <thead>\n",
       "    <tr style=\"text-align: right;\">\n",
       "      <th></th>\n",
       "      <th>region</th>\n",
       "      <th>event_code</th>\n",
       "      <th>event_order</th>\n",
       "      <th>adj_ratio_old</th>\n",
       "      <th>adj_ratio_modern</th>\n",
       "    </tr>\n",
       "  </thead>\n",
       "  <tbody>\n",
       "    <tr>\n",
       "      <th>0</th>\n",
       "      <td>ma</td>\n",
       "      <td>nvasion.txt</td>\n",
       "      <td>1</td>\n",
       "      <td>0.043647</td>\n",
       "      <td>0.041771</td>\n",
       "    </tr>\n",
       "    <tr>\n",
       "      <th>1</th>\n",
       "      <td>ma</td>\n",
       "      <td>_xinhai.txt</td>\n",
       "      <td>2</td>\n",
       "      <td>0.050454</td>\n",
       "      <td>0.049898</td>\n",
       "    </tr>\n",
       "    <tr>\n",
       "      <th>2</th>\n",
       "      <td>ma</td>\n",
       "      <td>apanwar.txt</td>\n",
       "      <td>3</td>\n",
       "      <td>0.042899</td>\n",
       "      <td>0.042374</td>\n",
       "    </tr>\n",
       "    <tr>\n",
       "      <th>3</th>\n",
       "      <td>ma</td>\n",
       "      <td>ivilwar.txt</td>\n",
       "      <td>4</td>\n",
       "      <td>0.050942</td>\n",
       "      <td>0.055872</td>\n",
       "    </tr>\n",
       "    <tr>\n",
       "      <th>4</th>\n",
       "      <td>ma</td>\n",
       "      <td>eatleap.txt</td>\n",
       "      <td>5</td>\n",
       "      <td>0.070218</td>\n",
       "      <td>0.076912</td>\n",
       "    </tr>\n",
       "    <tr>\n",
       "      <th>5</th>\n",
       "      <td>ma</td>\n",
       "      <td>culture.txt</td>\n",
       "      <td>6</td>\n",
       "      <td>0.052253</td>\n",
       "      <td>0.045274</td>\n",
       "    </tr>\n",
       "    <tr>\n",
       "      <th>6</th>\n",
       "      <td>ma</td>\n",
       "      <td>_reform.txt</td>\n",
       "      <td>7</td>\n",
       "      <td>0.062215</td>\n",
       "      <td>0.059242</td>\n",
       "    </tr>\n",
       "    <tr>\n",
       "      <th>7</th>\n",
       "      <td>tw</td>\n",
       "      <td>nvasion.txt</td>\n",
       "      <td>1</td>\n",
       "      <td>0.045286</td>\n",
       "      <td>0.040434</td>\n",
       "    </tr>\n",
       "    <tr>\n",
       "      <th>8</th>\n",
       "      <td>tw</td>\n",
       "      <td>_xinhai.txt</td>\n",
       "      <td>2</td>\n",
       "      <td>0.052632</td>\n",
       "      <td>0.047810</td>\n",
       "    </tr>\n",
       "    <tr>\n",
       "      <th>9</th>\n",
       "      <td>tw</td>\n",
       "      <td>apanwar.txt</td>\n",
       "      <td>3</td>\n",
       "      <td>0.048427</td>\n",
       "      <td>0.048234</td>\n",
       "    </tr>\n",
       "    <tr>\n",
       "      <th>10</th>\n",
       "      <td>tw</td>\n",
       "      <td>ivilwar.txt</td>\n",
       "      <td>4</td>\n",
       "      <td>0.043160</td>\n",
       "      <td>0.040774</td>\n",
       "    </tr>\n",
       "  </tbody>\n",
       "</table>\n",
       "</div>"
      ],
      "text/plain": [
       "   region   event_code  event_order  adj_ratio_old  adj_ratio_modern\n",
       "0      ma  nvasion.txt            1       0.043647          0.041771\n",
       "1      ma  _xinhai.txt            2       0.050454          0.049898\n",
       "2      ma  apanwar.txt            3       0.042899          0.042374\n",
       "3      ma  ivilwar.txt            4       0.050942          0.055872\n",
       "4      ma  eatleap.txt            5       0.070218          0.076912\n",
       "5      ma  culture.txt            6       0.052253          0.045274\n",
       "6      ma  _reform.txt            7       0.062215          0.059242\n",
       "7      tw  nvasion.txt            1       0.045286          0.040434\n",
       "8      tw  _xinhai.txt            2       0.052632          0.047810\n",
       "9      tw  apanwar.txt            3       0.048427          0.048234\n",
       "10     tw  ivilwar.txt            4       0.043160          0.040774"
      ]
     },
     "execution_count": 139,
     "metadata": {},
     "output_type": "execute_result"
    }
   ],
   "source": [
    "compare_old_modern"
   ]
  },
  {
   "cell_type": "code",
   "execution_count": 65,
   "metadata": {
    "collapsed": false
   },
   "outputs": [
    {
     "data": {
      "text/plain": [
       "<matplotlib.legend.Legend at 0x11724ef98>"
      ]
     },
     "execution_count": 65,
     "metadata": {},
     "output_type": "execute_result"
    },
    {
     "data": {
      "image/png": "[encoded data removed]",
      "text/plain": [
       "<matplotlib.figure.Figure at 0x117106358>"
      ]
     },
     "metadata": {},
     "output_type": "display_data"
    }
   ],
   "source": [
    "%matplotlib inline  \n",
    "\n",
    "#remove the sc version\n",
    "event = event[~event['book'].str.startswith(('ma_old','tw_old','sc_'))]\n",
    "\n",
    "civilwar = event[event['book'].str.endswith('civilwar.txt')]\n",
    "invasion = event[event['book'].str.endswith('invasion.txt')]\n",
    "xinhai = event[event['book'].str.endswith('xinhai.txt')]\n",
    "japan = event[event['book'].str.endswith('japanwar.txt')]\n",
    "\n",
    "fig, ax = plt.subplots(figsize = (9,6))\n",
    "ind = np.arange(len(civilwar['book']))\n",
    "width = 0\n",
    "\n",
    "rects1 = ax.plot(ind, civilwar['adj_ratio'],'.b-')\n",
    "rects2 = ax.plot(ind, invasion['adj_ratio'],'.r-')\n",
    "rects3 = ax.plot(ind, xinhai['adj_ratio'],'.g-')\n",
    "rects4 = ax.plot(ind, japan['adj_ratio'],'.y-')\n",
    "\n",
    "# add some text for labels, title and axes ticks\n",
    "ax.set_ylabel('Ratio')\n",
    "ax.set_title('Adjective and Adverb Ratio')\n",
    "\n",
    "\n",
    "\n",
    "plt.xticks(ind + width , civilwar['book'].values)\n",
    "plt.title('Adjective Ratio by Event')\n",
    "fig.autofmt_xdate()\n",
    "ax.legend((rects1[0], rects2[0],rects3[0], rects4[0]), ('Civil War', 'Foreign Invasion','Xinhai Revolution','Sino-Japan War'), loc='best')\n",
    "\n"
   ]
  },
  {
   "cell_type": "code",
   "execution_count": 66,
   "metadata": {
    "collapsed": false
   },
   "outputs": [
    {
     "data": {
      "text/plain": [
       "<matplotlib.legend.Legend at 0x140fbe978>"
      ]
     },
     "execution_count": 66,
     "metadata": {},
     "output_type": "execute_result"
    },
    {
     "data": {
      "image/png": "[encoded data removed]",
      "text/plain": [
       "<matplotlib.figure.Figure at 0x11725bc18>"
      ]
     },
     "metadata": {},
     "output_type": "display_data"
    }
   ],
   "source": [
    "#post 1949\n",
    "%matplotlib inline  \n",
    "\n",
    "leap = event[event['book'].str.endswith('leap.txt')]\n",
    "culture = event[event['book'].str.endswith('culture.txt')]\n",
    "reform = event[event['book'].str.endswith('reform.txt')]\n",
    "\n",
    "fig, ax = plt.subplots(figsize = (9,6))\n",
    "ind = np.arange(len(leap['book']))\n",
    "width = 0\n",
    "\n",
    "rects1 = ax.plot(ind, leap['adj_ratio'],'.b-')\n",
    "rects2 = ax.plot(ind, culture['adj_ratio'],'.r-')\n",
    "rects3 = ax.plot(ind, reform['adj_ratio'],'.g-')\n",
    "\n",
    "# add some text for labels, title and axes ticks\n",
    "ax.set_ylabel('Ratio')\n",
    "ax.set_title('Adjective and Adverb Ratio')\n",
    "\n",
    "\n",
    "\n",
    "plt.xticks(ind + width , leap['book'].values)\n",
    "plt.title('Adjective Ratio by Event')\n",
    "fig.autofmt_xdate()\n",
    "ax.legend((rects1[0], rects2[0],rects3[0]), ('Great Leap Forward', 'Cultural Revolution','Reform and Open',), loc='best')\n",
    "\n"
   ]
  },
  {
   "cell_type": "code",
   "execution_count": 152,
   "metadata": {
    "collapsed": false
   },
   "outputs": [
    {
     "data": {
      "image/png": "[encoded data removed]",
      "text/plain": [
       "<matplotlib.figure.Figure at 0x116999630>"
      ]
     },
     "metadata": {},
     "output_type": "display_data"
    }
   ],
   "source": [
    "%matplotlib inline  \n",
    "# a bar plot with errorbars\n",
    "import numpy as np\n",
    "import matplotlib.pyplot as plt\n",
    "\n",
    "N = len(compare_old_modern['adj_ratio_old'])\n",
    "\n",
    "ind = np.arange(N)  # the x locations for the groups\n",
    "width = 0.35       # the width of the bars\n",
    "\n",
    "fig, ax = plt.subplots(figsize=(12,4))\n",
    "rects1 = ax.bar(ind, compare_old_modern['adj_ratio_old'], width, color='w')\n",
    "rects2 = ax.bar(ind + width,  compare_old_modern['adj_ratio_modern'], width, color='b')\n",
    "\n",
    "# add some text for labels, title and axes ticks\n",
    "ax.set_ylabel('Ratio')\n",
    "ax.set_title('Adjective Ratio for old and modern versions')\n",
    "ax.set_xticks(ind + 0.35)\n",
    "ax.set_xticklabels(('ma: foreign invasion', 'ma: xinhai', 'ma: sino-japan war', 'ma: civil war', 'ma: great leap', 'ma: cultural Revolution', \n",
    "                    'ma: Reform', 'tw: foreign invasion', 'tw: xinhai', 'tw: sino-japan war', 'tw: civil war'), rotation=90)\n",
    "\n",
    "ax.legend((rects1[0], rects2[0]), ( 'Old','Modern'))\n",
    "\n",
    "\n",
    "\n",
    "plt.show()"
   ]
  },
  {
   "cell_type": "markdown",
   "metadata": {},
   "source": [
    "###Adjectives pre and post 1949"
   ]
  },
  {
   "cell_type": "code",
   "execution_count": 153,
   "metadata": {
    "collapsed": false
   },
   "outputs": [
    {
     "name": "stdout",
     "output_type": "stream",
     "text": [
      "hk_文達post1949.txt\n",
      "hk_文達pre1949.txt\n",
      "hk_現代post1949.txt\n",
      "hk_現代pre1949.txt\n",
      "ma_old_post1949.txt\n",
      "ma_old_pre1949.txt\n",
      "ma_人教版pre1949.txt\n",
      "ma_人教版高中历史必修一post1949.txt\n",
      "ma_人民版pre1949.txt\n",
      "ma_人民版高中历史必修post1949.txt\n",
      "ma_岳麓版pre1949.txt\n",
      "ma_岳麓版高中历史必修一post1949.txt\n",
      "search_china_post1949.txt\n",
      "search_china_pre1949.txt\n",
      "tw_old_post1949.txt\n",
      "tw_old_pre1949.txt\n",
      "tw_南一post1949.txt\n",
      "tw_南一pre1949.txt\n",
      "tw_康熹post1949.txt\n",
      "tw_康熹pre1949.txt\n"
     ]
    }
   ],
   "source": [
    "path = '/Users/onyi/Dropbox/textbooks/Events/Post1949'\n",
    "book={}\n",
    "phrases = {}\n",
    "bookindex = {}\n",
    "adjcountbyperiod = {}\n",
    "length1949 = {}\n",
    "for file in os.listdir(path):\n",
    "    if not file.startswith('.'):\n",
    "        file_path = os.path.join(path, file)\n",
    "        if os.path.isfile(file_path) and file.endswith(\".txt\"):\n",
    "            with open(file_path) as f: \n",
    "                book[file] = f.read()\n",
    "                print(file)\n",
    "                book[file] = re.sub(\"[。，；:!：“、〈〉\\n\\t■◆”《》~ ;()*.,a-zA-Z「」〔〕]\", \"\", book[file])\n",
    "                length1949[file] = len(book[file])\n",
    "                #book_file_name.append(file)\n",
    "                phrases[file]= jieba.cut(book[file], cut_all=False) #segmenting the content \n",
    "                adjcountbyperiod[file] = 0\n",
    "                for word in phrases[file]:\n",
    "                    if \"not found in Dictionary.\" in dictionary(word):\n",
    "                        pass\n",
    "                    else:\n",
    "                        temp = dictionary(word)\n",
    "                        if (' 形 ' in temp or ' 成 ' in temp) and word not in stopwords:\n",
    "                            adjcountbyperiod[file] = adjcountbyperiod[file]+1\n",
    "                        else:\n",
    "                            pass\n",
    " \n"
   ]
  },
  {
   "cell_type": "code",
   "execution_count": 210,
   "metadata": {
    "collapsed": false
   },
   "outputs": [],
   "source": [
    "pp49 = pd.DataFrame.from_dict(adjcountbyperiod, orient = 'index').reset_index()\n",
    "temp = pd.DataFrame.from_dict(length1949, orient = 'index').reset_index()\n",
    "pp1949 = pd.merge(pp49, temp, on = 'index')\n",
    "pp1949.columns = ['book','adj','word_count']\n",
    "pp1949['post1949'] = 0\n",
    "#posneg = posneg.reset_index()\n",
    "pp1949.ix[pp1949['book'].str.endswith('post1949.txt'), 'post1949'] = 1\n",
    "pp1949['book_version'] = pp1949['book'].str[:5]\n",
    "pp1949['adj_ratio'] = pp1949['adj']/pp1949['word_count']\n"
   ]
  },
  {
   "cell_type": "code",
   "execution_count": 211,
   "metadata": {
    "collapsed": false
   },
   "outputs": [],
   "source": [
    "\n",
    "pp1949 = pp1949.pivot(index='book_version', columns='post1949', values='adj_ratio').reset_index() #convert dataframe from long to wide\n",
    "pp1949.columns = ['book_version','pre1949','post1949']\n",
    "\n"
   ]
  },
  {
   "cell_type": "code",
   "execution_count": 212,
   "metadata": {
    "collapsed": true
   },
   "outputs": [],
   "source": [
    "#separating into old and new versions, and removing the hk versions\n",
    "modern_versions = pp1949[~pp1949['book_version'].str.startswith(('ma_ol','tw_ol','searc','hk_'))]\n",
    "old_versions =pp1949[pp1949['book_version'].str.startswith(('ma_ol','tw_ol'))]\n",
    "\n",
    "\n",
    "pp1949 = pp1949[pp1949['book_version'] != 'ma_ol']\n",
    "pp1949 = pp1949[pp1949['book_version'] != 'ma_ol']\n",
    "pp1949 = pp1949[pp1949['book_version'] != 'tw_ol']\n",
    "pp1949['region'] = pp1949['book_version'].str[:2]"
   ]
  },
  {
   "cell_type": "code",
   "execution_count": 213,
   "metadata": {
    "collapsed": false
   },
   "outputs": [
    {
     "data": {
      "text/html": [
       "<div>\n",
       "<table border=\"1\" class=\"dataframe\">\n",
       "  <thead>\n",
       "    <tr style=\"text-align: right;\">\n",
       "      <th></th>\n",
       "      <th>book_version</th>\n",
       "      <th>pre1949</th>\n",
       "      <th>post1949</th>\n",
       "      <th>region</th>\n",
       "    </tr>\n",
       "  </thead>\n",
       "  <tbody>\n",
       "    <tr>\n",
       "      <th>0</th>\n",
       "      <td>hk_文達</td>\n",
       "      <td>0.029441</td>\n",
       "      <td>0.031797</td>\n",
       "      <td>hk</td>\n",
       "    </tr>\n",
       "    <tr>\n",
       "      <th>1</th>\n",
       "      <td>hk_現代</td>\n",
       "      <td>0.029750</td>\n",
       "      <td>0.032104</td>\n",
       "      <td>hk</td>\n",
       "    </tr>\n",
       "    <tr>\n",
       "      <th>3</th>\n",
       "      <td>ma_人教</td>\n",
       "      <td>0.029480</td>\n",
       "      <td>0.041318</td>\n",
       "      <td>ma</td>\n",
       "    </tr>\n",
       "    <tr>\n",
       "      <th>4</th>\n",
       "      <td>ma_人民</td>\n",
       "      <td>0.026661</td>\n",
       "      <td>0.039298</td>\n",
       "      <td>ma</td>\n",
       "    </tr>\n",
       "    <tr>\n",
       "      <th>5</th>\n",
       "      <td>ma_岳麓</td>\n",
       "      <td>0.031730</td>\n",
       "      <td>0.036617</td>\n",
       "      <td>ma</td>\n",
       "    </tr>\n",
       "    <tr>\n",
       "      <th>6</th>\n",
       "      <td>searc</td>\n",
       "      <td>0.026766</td>\n",
       "      <td>0.026601</td>\n",
       "      <td>se</td>\n",
       "    </tr>\n",
       "    <tr>\n",
       "      <th>8</th>\n",
       "      <td>tw_南一</td>\n",
       "      <td>0.034323</td>\n",
       "      <td>0.035719</td>\n",
       "      <td>tw</td>\n",
       "    </tr>\n",
       "    <tr>\n",
       "      <th>9</th>\n",
       "      <td>tw_康熹</td>\n",
       "      <td>0.031952</td>\n",
       "      <td>0.035127</td>\n",
       "      <td>tw</td>\n",
       "    </tr>\n",
       "  </tbody>\n",
       "</table>\n",
       "</div>"
      ],
      "text/plain": [
       "  book_version   pre1949  post1949 region\n",
       "0        hk_文達  0.029441  0.031797     hk\n",
       "1        hk_現代  0.029750  0.032104     hk\n",
       "3        ma_人教  0.029480  0.041318     ma\n",
       "4        ma_人民  0.026661  0.039298     ma\n",
       "5        ma_岳麓  0.031730  0.036617     ma\n",
       "6        searc  0.026766  0.026601     se\n",
       "8        tw_南一  0.034323  0.035719     tw\n",
       "9        tw_康熹  0.031952  0.035127     tw"
      ]
     },
     "execution_count": 213,
     "metadata": {},
     "output_type": "execute_result"
    }
   ],
   "source": [
    "pp1949"
   ]
  },
  {
   "cell_type": "code",
   "execution_count": 214,
   "metadata": {
    "collapsed": false
   },
   "outputs": [
    {
     "data": {
      "image/png": "[encoded data removed]",
      "text/plain": [
       "<matplotlib.figure.Figure at 0x15376e2b0>"
      ]
     },
     "metadata": {},
     "output_type": "display_data"
    }
   ],
   "source": [
    "%matplotlib inline  \n",
    "colors = {'ma':'red', 'tw':'green', 'hk':'blue', 'se':'black'}\n",
    "x = [0,1]\n",
    "y_mat = pp1949[[ 'pre1949', 'post1949']].values\n",
    "color = pp1949['region'].apply(lambda x: colors[x])\n",
    "\n",
    "fig, ax = plt.subplots(figsize=(6,6))\n",
    "for y, color in zip(y_mat, color):\n",
    "    #print(x, y, str(color))\n",
    "    ax.plot(x, y,'-o', color = color  )\n",
    "handles, labels = ax.get_legend_handles_labels()\n",
    "\n",
    "#Create legend from custom artist/label lists\n",
    "ax.legend([handle for i,handle in enumerate(handles) if i in display]+[ma, tw,hk, ref],\n",
    "          [label for i,label in enumerate(labels) if i in display]+['Mainland', 'Taiwan', 'Hong Kong','Reference'],\n",
    "           loc = 'best')\n",
    "labels = [item.get_text() for item in ax.get_xticklabels()]\n",
    "labels[0] = 'Pre-1949'\n",
    "labels[5] = 'Post-1949'\n",
    "\n",
    "ax.set_xticklabels(labels)\n",
    "ax.set_ylabel(\"Adjective Ratio\" )\n",
    "plt.show()\n"
   ]
  },
  {
   "cell_type": "code",
   "execution_count": 215,
   "metadata": {
    "collapsed": false
   },
   "outputs": [],
   "source": [
    "modern_ave = modern_versions.groupby(modern_versions['book_version'].str[:2])['pre1949','post1949'].mean().reset_index()\n",
    "pp49_oldnew = old_versions.append(modern_ave)"
   ]
  },
  {
   "cell_type": "code",
   "execution_count": 216,
   "metadata": {
    "collapsed": false
   },
   "outputs": [
    {
     "data": {
      "text/html": [
       "<div>\n",
       "<table border=\"1\" class=\"dataframe\">\n",
       "  <thead>\n",
       "    <tr style=\"text-align: right;\">\n",
       "      <th></th>\n",
       "      <th>book_version</th>\n",
       "      <th>pre1949</th>\n",
       "      <th>post1949</th>\n",
       "    </tr>\n",
       "  </thead>\n",
       "  <tbody>\n",
       "    <tr>\n",
       "      <th>2</th>\n",
       "      <td>ma_ol</td>\n",
       "      <td>0.031608</td>\n",
       "      <td>0.042429</td>\n",
       "    </tr>\n",
       "    <tr>\n",
       "      <th>7</th>\n",
       "      <td>tw_ol</td>\n",
       "      <td>0.033835</td>\n",
       "      <td>0.047445</td>\n",
       "    </tr>\n",
       "    <tr>\n",
       "      <th>0</th>\n",
       "      <td>ma</td>\n",
       "      <td>0.029290</td>\n",
       "      <td>0.039078</td>\n",
       "    </tr>\n",
       "    <tr>\n",
       "      <th>1</th>\n",
       "      <td>tw</td>\n",
       "      <td>0.033137</td>\n",
       "      <td>0.035423</td>\n",
       "    </tr>\n",
       "  </tbody>\n",
       "</table>\n",
       "</div>"
      ],
      "text/plain": [
       "  book_version   pre1949  post1949\n",
       "2        ma_ol  0.031608  0.042429\n",
       "7        tw_ol  0.033835  0.047445\n",
       "0           ma  0.029290  0.039078\n",
       "1           tw  0.033137  0.035423"
      ]
     },
     "execution_count": 216,
     "metadata": {},
     "output_type": "execute_result"
    }
   ],
   "source": [
    "pp49_oldnew"
   ]
  },
  {
   "cell_type": "code",
   "execution_count": 222,
   "metadata": {
    "collapsed": false
   },
   "outputs": [
    {
     "data": {
      "image/png": "[encoded data removed]",
      "text/plain": [
       "<matplotlib.figure.Figure at 0x153e4d0b8>"
      ]
     },
     "metadata": {},
     "output_type": "display_data"
    }
   ],
   "source": [
    "\n",
    "%matplotlib inline  \n",
    "colors = {'ma':'red', 'ma_ol': 'darkred', 'tw':'blue', 'tw_ol': 'darkblue' }\n",
    "x = [0,1]\n",
    "y_mat = pp49_oldnew[[ 'pre1949', 'post1949']].values\n",
    "color = pp49_oldnew['book_version'].apply(lambda x: colors[x])\n",
    "\n",
    "fig, ax = plt.subplots(figsize=(6,6))\n",
    "for y, color in zip(y_mat, color):\n",
    "    #print(x, y, str(color))\n",
    "    ax.plot(x, y,'-o', color = color  )\n",
    "handles, labels = ax.get_legend_handles_labels()\n",
    "\n",
    "#Create custom artists\n",
    "\n",
    "ma = plt.Line2D((0,1),(0,0), color='r', marker='o', linestyle='-')\n",
    "ma_ol = plt.Line2D((0,1),(0,0), color='darkred', marker='o', linestyle='-')\n",
    "tw = plt.Line2D((0,1),(0,0), color='b', marker='o', linestyle='-')\n",
    "tw_ol = plt.Line2D((0,1),(0,0), color='darkblue', marker='o', linestyle='-')\n",
    "\n",
    "#Create legend from custom artist/label lists\n",
    "ax.legend([handle for i,handle in enumerate(handles) if i in display]+[ma_ol, ma,tw_ol, tw],\n",
    "          [label for i,label in enumerate(labels) if i in display]+['Mainland Old', 'Mainland','Taiwan','Taiwan Old'],\n",
    "           loc = 'best')\n",
    "labels = [item.get_text() for item in ax.get_xticklabels()]\n",
    "labels[0] = 'Pre-1949'\n",
    "labels[5] = 'Post-1949'\n",
    "\n",
    "ax.set_xticklabels(labels)\n",
    "ax.set_ylabel(\"Adjective Ratio\" )\n",
    "plt.show()\n"
   ]
  },
  {
   "cell_type": "markdown",
   "metadata": {},
   "source": [
    "##Mention of Political Figures"
   ]
  },
  {
   "cell_type": "code",
   "execution_count": 188,
   "metadata": {
    "collapsed": false
   },
   "outputs": [],
   "source": [
    "#select all sentences that contains figures of party significance\n",
    "path = '/Users/onyi/Dropbox/textbooks'\n",
    "maocount={}\n",
    "suncount={}\n",
    "changcount={}\n",
    "marxcount={}\n",
    "commcount = {}\n",
    "kmtcount ={}\n",
    "verycount = {}\n",
    "book ={}\n",
    "for file in os.listdir(path):\n",
    "    if not file.startswith('.'):\n",
    "        file_path = os.path.join(path, file)\n",
    "        if os.path.isfile(file_path) and file.endswith(\".txt\"):\n",
    "            with open(file_path) as f: \n",
    "                book[file] = f.read()\n",
    "                book[file] = re.sub(\"[。，；：“、\\n\\t■◆”《》~]\", \"\", book[file])\n",
    "                verycount[file] = book[file].count('十分')+book[file].count('非常') + book[file].count('很')+book[file].count( '颇')+book[file].count( '太')+book[file].count('极')+ book[file].count('过分')+book[file].count('相当') \n",
    "                maocount[file] = book[file].count('毛泽东')\n",
    "                suncount[file]  = book[file].count('孙中山') + book[file].count('孫逸仙')\n",
    "                changcount[file] = book[file].count('蒋介石') + book[file].count('蒋中正') + book[file].count('蒋总司令') + book[file].count('蒋委员长') +book[file].count('蒋主席')\n",
    "                marxcount[file] = book[file].count('马克思') + book[file].count('馬克思')\n",
    "                commcount[file] = book[file].count('共产党') + book[file].count('中共') + book[file].count('共党')\n",
    "                kmtcount[file] = book[file].count('国民党') "
   ]
  },
  {
   "cell_type": "code",
   "execution_count": 189,
   "metadata": {
    "collapsed": false
   },
   "outputs": [],
   "source": [
    "marx = pd.DataFrame.from_dict(marxcount, orient = 'index')\n",
    "marx.columns = ['marx']\n",
    "sun = pd.DataFrame.from_dict(suncount, orient = 'index')\n",
    "sun.columns = ['sun']\n",
    "chang = pd.DataFrame.from_dict(changcount, orient = 'index')\n",
    "chang.columns = ['chang']\n",
    "mao = pd.DataFrame.from_dict(maocount, orient = 'index')\n",
    "mao.columns = ['mao']\n",
    "comm = pd.DataFrame.from_dict(commcount, orient = 'index')\n",
    "comm.columns = ['communist']\n",
    "kmt = pd.DataFrame.from_dict(kmtcount, orient = 'index')\n",
    "kmt.columns = ['kmt']\n",
    "very = pd.DataFrame.from_dict(verycount, orient = 'index')\n",
    "very.columns = ['very']"
   ]
  },
  {
   "cell_type": "code",
   "execution_count": 190,
   "metadata": {
    "collapsed": false
   },
   "outputs": [],
   "source": [
    "df_list = [mao, sun, chang, marx, comm, kmt, very]\n",
    "\n",
    "for i, df in enumerate(df_list):\n",
    "    if i == 0:\n",
    "        figures = pd.merge(df_list[i], df_list[i+1], left_index = True, right_index = True)\n",
    "    elif i < len(df_list)-1 :\n",
    "        figures = pd.merge(figures, df_list[i+1], left_index = True, right_index = True)\n",
    "    else:\n",
    "        pass"
   ]
  },
  {
   "cell_type": "code",
   "execution_count": 213,
   "metadata": {
    "collapsed": false
   },
   "outputs": [],
   "source": [
    "figures['book']= figures.index.str[:5]"
   ]
  },
  {
   "cell_type": "code",
   "execution_count": 217,
   "metadata": {
    "collapsed": false
   },
   "outputs": [],
   "source": [
    "figures_count = figures.groupby(['book']).sum().reset_index()\n",
    "figures_count = pd.merge(figures_count, modern, left_on = 'book', right_on = 'region')\n",
    "figures_count['mao_ratio'] = figures_count['mao']/figures_count['book_length']\n",
    "figures_count['sun_ratio'] = figures_count['sun']/figures_count['book_length']\n",
    "figures_count['chang_ratio'] = figures_count['chang']/figures_count['book_length']\n",
    "figures_count['marx_ratio'] = figures_count['marx']/figures_count['book_length']\n",
    "figures_count['communist_ratio'] = figures_count['communist']/figures_count['book_length']\n",
    "figures_count['kmt_ratio'] = figures_count['kmt']/figures_count['book_length']\n",
    "figures_count['very_ratio'] = figures_count['very']/figures_count['book_length']\n",
    "figures_count['ccp_kmt'] = (figures_count['communist'] + figures_count['marx'] + figures_count['mao'])/(figures_count['sun'] + figures_count['chang'] +figures_count['kmt']) \n",
    "#figures_count\n",
    "figures_count= figures_count[figures_count['book'] != 'ma_ol']\n",
    "figures_count= figures_count[figures_count['book'] != '_ol']"
   ]
  },
  {
   "cell_type": "markdown",
   "metadata": {},
   "source": [
    "###Plot ratio of Pro-CCP Figures to Pro-KMT Figures\n"
   ]
  },
  {
   "cell_type": "code",
   "execution_count": 218,
   "metadata": {
    "collapsed": false
   },
   "outputs": [
    {
     "data": {
      "image/png": "[encoded data removed]",
      "text/plain": [
       "<matplotlib.figure.Figure at 0x12fb33198>"
      ]
     },
     "metadata": {},
     "output_type": "display_data"
    }
   ],
   "source": [
    "%matplotlib inline  \n",
    "\n",
    "from matplotlib import pyplot as plt\n",
    "fig = plt.figure()\n",
    "width = .3\n",
    "ind = np.arange(len(figures_count['ccp_kmt']))\n",
    "plt.bar(ind, figures_count['ccp_kmt'],color = 'b')\n",
    "plt.xticks(ind + width/2 , figures_count['book'].values)\n",
    "plt.title('Ratio of Pro-CCP Figures to Pro-KMT Figures')\n",
    "fig.autofmt_xdate()"
   ]
  },
  {
   "cell_type": "markdown",
   "metadata": {},
   "source": [
    "## Positive to Negative"
   ]
  },
  {
   "cell_type": "code",
   "execution_count": 8,
   "metadata": {
    "collapsed": true
   },
   "outputs": [],
   "source": [
    "import re, math, collections, itertools\n",
    "import nltk, nltk.classify.util, nltk.metrics\n",
    "from nltk.classify import NaiveBayesClassifier\n",
    "from nltk.metrics import BigramAssocMeasures\n",
    "from nltk.probability import FreqDist, ConditionalFreqDist"
   ]
  },
  {
   "cell_type": "code",
   "execution_count": 9,
   "metadata": {
    "collapsed": false
   },
   "outputs": [],
   "source": [
    "posFile = open('/Users/onyi/Dropbox/HistoryTextbook/sentiment/正面情感词语（中文）.txt',  encoding=\"gbk\")\n",
    "posWords = posFile.readlines()\n",
    "posWords = list(map(lambda x:x.strip(),posWords))\n"
   ]
  },
  {
   "cell_type": "code",
   "execution_count": 10,
   "metadata": {
    "collapsed": false
   },
   "outputs": [],
   "source": [
    "posFile2 = open('/Users/onyi/Dropbox/HistoryTextbook/sentiment/正面评价词语（中文）.txt',  encoding=\"gbk\")\n",
    "posWords2 = posFile2.readlines()\n",
    "posWords2 = list(map(lambda x:x.strip(),posWords2))\n",
    "posWords.extend(posWords2)\n"
   ]
  },
  {
   "cell_type": "code",
   "execution_count": 11,
   "metadata": {
    "collapsed": false
   },
   "outputs": [],
   "source": [
    "negFile = open('/Users/onyi/Dropbox/HistoryTextbook/sentiment/负面情感词语（中文）.txt',  encoding=\"gbk\")\n",
    "negWords = negFile.readlines()\n",
    "negWords = list(map(lambda x:x.strip(), negWords))"
   ]
  },
  {
   "cell_type": "code",
   "execution_count": 12,
   "metadata": {
    "collapsed": true
   },
   "outputs": [],
   "source": [
    "negFile2 = open('/Users/onyi/Dropbox/HistoryTextbook/sentiment/负面评价词语（中文）.txt',  encoding=\"gbk\")\n",
    "negWords2 = negFile2.readlines()\n",
    "negWords2 = list(map(lambda x:x.strip(),negWords2))\n",
    "negWords.extend(negWords2)\n"
   ]
  },
  {
   "cell_type": "markdown",
   "metadata": {},
   "source": [
    "####All versions"
   ]
  },
  {
   "cell_type": "code",
   "execution_count": 13,
   "metadata": {
    "collapsed": false
   },
   "outputs": [
    {
     "name": "stdout",
     "output_type": "stream",
     "text": [
      "hk_文達必修4.txt\n",
      "hk_文達必修5.txt\n",
      "hk_文達必修6.txt\n",
      "hk_現代4下.txt\n",
      "hk_現代5上.txt\n",
      "hk_現代5下.txt\n",
      "ma_old人教版历史书.txt\n",
      "ma_old人教版历史书下册.txt\n",
      "ma_人教版高中历史必修一现代中国部分.txt\n",
      "ma_人教版高中历史必修三现代中国部分.txt\n",
      "ma_人教版高中历史必修二现代中国部分.txt\n",
      "ma_人民版高中历史必修一现代中国部分.txt\n",
      "ma_人民版高中历史必修三现代中国部分.txt\n",
      "ma_人民版高中历史必修二现代中国部分.txt\n",
      "ma_岳麓版高中历史必修一现代中国部分.txt\n",
      "ma_岳麓版高中历史必修三现代中国部分.txt\n",
      "ma_岳麓版高中历史必修二现代中国部分.txt\n",
      "search_china.txt\n",
      "tw_old台湾历史书 - 高中历史第三册.txt\n",
      "tw_南一第二.txt\n",
      "tw_康熹.txt\n"
     ]
    }
   ],
   "source": [
    "path = '/Users/onyi/Dropbox/textbooks'\n",
    "book={}\n",
    "phrases = {}\n",
    "bookindex = {}\n",
    "NumPosWords = {}\n",
    "NumNegWords = {}\n",
    "for file in os.listdir(path):\n",
    "    if not file.startswith('.'):\n",
    "        file_path = os.path.join(path, file)\n",
    "        if os.path.isfile(file_path) and file.endswith(\".txt\"):\n",
    "            with open(file_path) as f: \n",
    "                book[file] = f.read()\n",
    "                print(file)\n",
    "                book[file] = re.sub(\"[。，；:!：“、〈〉\\n\\t■◆”《》~ ;﹜﹛()*.,a-zA-Z「」﹔（）〔〕？\\d+]\", \"\", book[file])\n",
    "                #book_file_name.append(file)\n",
    "                phrases[file]= jieba.cut(book[file], cut_all=True) #segmenting the content  \n",
    "                #count number of positive phrases\n",
    "                NumPosWords[file] = 0\n",
    "                NumNegWords[file] = 0\n",
    "                for phrase in phrases[file]:\n",
    "                    if phrase in posWords:\n",
    "                        NumPosWords[file] = NumPosWords[file] + 1\n",
    "                    if phrase in negWords:\n",
    "                        NumNegWords[file] = NumNegWords[file] + 1\n",
    "                #print(temp)\n",
    "       "
   ]
  },
  {
   "cell_type": "code",
   "execution_count": 14,
   "metadata": {
    "collapsed": false
   },
   "outputs": [
    {
     "data": {
      "text/html": [
       "<div>\n",
       "<table border=\"1\" class=\"dataframe\">\n",
       "  <thead>\n",
       "    <tr style=\"text-align: right;\">\n",
       "      <th></th>\n",
       "      <th>book</th>\n",
       "      <th>pos</th>\n",
       "      <th>neg</th>\n",
       "      <th>posneg_ratio</th>\n",
       "    </tr>\n",
       "  </thead>\n",
       "  <tbody>\n",
       "    <tr>\n",
       "      <th>0</th>\n",
       "      <td>hk_文達</td>\n",
       "      <td>3376</td>\n",
       "      <td>1003</td>\n",
       "      <td>3.365902</td>\n",
       "    </tr>\n",
       "    <tr>\n",
       "      <th>1</th>\n",
       "      <td>hk_現代</td>\n",
       "      <td>4088</td>\n",
       "      <td>1149</td>\n",
       "      <td>3.557876</td>\n",
       "    </tr>\n",
       "    <tr>\n",
       "      <th>3</th>\n",
       "      <td>ma_人教</td>\n",
       "      <td>2415</td>\n",
       "      <td>531</td>\n",
       "      <td>4.548023</td>\n",
       "    </tr>\n",
       "    <tr>\n",
       "      <th>4</th>\n",
       "      <td>ma_人民</td>\n",
       "      <td>3721</td>\n",
       "      <td>740</td>\n",
       "      <td>5.028378</td>\n",
       "    </tr>\n",
       "    <tr>\n",
       "      <th>5</th>\n",
       "      <td>ma_岳麓</td>\n",
       "      <td>2404</td>\n",
       "      <td>495</td>\n",
       "      <td>4.856566</td>\n",
       "    </tr>\n",
       "    <tr>\n",
       "      <th>6</th>\n",
       "      <td>searc</td>\n",
       "      <td>21171</td>\n",
       "      <td>8367</td>\n",
       "      <td>2.530298</td>\n",
       "    </tr>\n",
       "    <tr>\n",
       "      <th>8</th>\n",
       "      <td>tw_南一</td>\n",
       "      <td>1605</td>\n",
       "      <td>581</td>\n",
       "      <td>2.762478</td>\n",
       "    </tr>\n",
       "    <tr>\n",
       "      <th>9</th>\n",
       "      <td>tw_康熹</td>\n",
       "      <td>1433</td>\n",
       "      <td>465</td>\n",
       "      <td>3.081720</td>\n",
       "    </tr>\n",
       "  </tbody>\n",
       "</table>\n",
       "</div>"
      ],
      "text/plain": [
       "    book    pos   neg  posneg_ratio\n",
       "0  hk_文達   3376  1003      3.365902\n",
       "1  hk_現代   4088  1149      3.557876\n",
       "3  ma_人教   2415   531      4.548023\n",
       "4  ma_人民   3721   740      5.028378\n",
       "5  ma_岳麓   2404   495      4.856566\n",
       "6  searc  21171  8367      2.530298\n",
       "8  tw_南一   1605   581      2.762478\n",
       "9  tw_康熹   1433   465      3.081720"
      ]
     },
     "execution_count": 14,
     "metadata": {},
     "output_type": "execute_result"
    }
   ],
   "source": [
    "#calculate the ratio of positive and negative words\n",
    "NumPosWords_df = pd.DataFrame.from_dict(NumPosWords, orient = 'index')\n",
    "NumNegWords_df = pd.DataFrame.from_dict(NumNegWords, orient = 'index')\n",
    "posneg = pd.merge(NumPosWords_df, NumNegWords_df, left_index = True, right_index = True)\n",
    "posneg.columns = ['pos','neg']\n",
    "posneg = posneg.reset_index()\n",
    "posneg['book'] = posneg['index'].str[:5]\n",
    "posneg = posneg.groupby(['book']).sum()\n",
    "posneg['posneg_ratio'] = posneg['pos']/posneg['neg']\n",
    "#removing the old textbooks\n",
    "\n",
    "posneg = posneg.reset_index()\n",
    "posneg = posneg[posneg['book'] != 'ma_ol']\n",
    "posneg = posneg[posneg['book'] != 'ma_老版']\n",
    "posneg = posneg[posneg['book'] != 'tw_台湾']\n",
    "posneg = posneg[posneg['book'] != 'tw_ol']\n",
    "posneg"
   ]
  },
  {
   "cell_type": "markdown",
   "metadata": {},
   "source": [
    "###Pre- to post-1949"
   ]
  },
  {
   "cell_type": "code",
   "execution_count": 15,
   "metadata": {
    "collapsed": false
   },
   "outputs": [],
   "source": [
    "#number of words that are in each episode\n",
    "path = '/Users/onyi/Dropbox/textbooks/Events/Post1949'\n",
    "book={}\n",
    "phrases = {}\n",
    "bookindex = {}\n",
    "NumPosWords = {}\n",
    "NumNegWords = {}\n",
    "length1949 = {}\n",
    "for file in os.listdir(path):\n",
    "    if not file.startswith('.'):\n",
    "        file_path = os.path.join(path, file)\n",
    "        if os.path.isfile(file_path) and file.endswith(\".txt\"):\n",
    "            with open(file_path) as f: \n",
    "                book[file] = f.read()\n",
    "                #print(file)\n",
    "                book[file] = re.sub(\"[。，；:!：“、〈〉\\n\\t■◆”《》~ ;()*.,a-zA-Z「」〔〕]\", \"\", book[file])\n",
    "                length1949[file] = len(book[file])\n",
    "                #book_file_name.append(file)\n",
    "                phrases[file]= jieba.cut(book[file], cut_all=False) #segmenting the content  \n",
    "                #count number of positive phrases\n",
    "                NumPosWords[file] = 0\n",
    "                NumNegWords[file] = 0\n",
    "                for phrase in phrases[file]:\n",
    "                    if phrase in posWords:\n",
    "                        NumPosWords[file] = NumPosWords[file] + 1\n",
    "                    if phrase in negWords:\n",
    "                        NumNegWords[file] = NumNegWords[file] + 1\n",
    "                    #  posWords.count(phrase)\n",
    "                    #NumNegWords[file] =+ negWords.count(phrase)\n",
    "                \n"
   ]
  },
  {
   "cell_type": "code",
   "execution_count": 20,
   "metadata": {
    "collapsed": false
   },
   "outputs": [
    {
     "name": "stdout",
     "output_type": "stream",
     "text": [
      "4570 4374\n"
     ]
    }
   ],
   "source": [
    "print(len(posWords), len(negWords))"
   ]
  },
  {
   "cell_type": "code",
   "execution_count": 49,
   "metadata": {
    "collapsed": false
   },
   "outputs": [],
   "source": [
    "#calculate the ratio of positive and negative words\n",
    "NumPosWords_df = pd.DataFrame.from_dict(NumPosWords, orient = 'index')\n",
    "NumNegWords_df = pd.DataFrame.from_dict(NumNegWords, orient = 'index')\n",
    "posneg = pd.merge(NumPosWords_df, NumNegWords_df, left_index = True, right_index = True)\n",
    "posneg.columns = ['pos','neg']\n",
    "posneg['posneg_ratio'] = posneg['pos']/posneg['neg']\n",
    "posneg['post1949'] = 0\n",
    "posneg = posneg.reset_index()\n",
    "posneg.ix[posneg['index'].str.endswith('post1949.txt'), 'post1949'] = 1\n",
    "posneg['book'] = posneg['index'].str[:5]\n",
    "posneg = posneg.pivot(index='book', columns='post1949', values='posneg_ratio').reset_index() #convert dataframe from long to wide\n",
    "#posneg.columns\n",
    "posneg.columns = ['book', 'pre1949', 'post1949' ]\n",
    "posneg['region'] = posneg['book'].str[:2]\n",
    "\n"
   ]
  },
  {
   "cell_type": "code",
   "execution_count": 50,
   "metadata": {
    "collapsed": true
   },
   "outputs": [],
   "source": [
    "#separating the old textbooks\n",
    "old_posneg = posneg[posneg['book'].str.startswith(('ma_ol','tw_ol'))]\n",
    "posneg = posneg[~posneg['book'].str.startswith(('ma_ol','tw_ol','se','hk'))]\n"
   ]
  },
  {
   "cell_type": "code",
   "execution_count": 51,
   "metadata": {
    "collapsed": false
   },
   "outputs": [],
   "source": [
    "modern_posneg = posneg.groupby(['region'])['pre1949','post1949'].mean().reset_index()\n",
    "posneg_49 = modern_posneg.append(old_posneg)"
   ]
  },
  {
   "cell_type": "code",
   "execution_count": 52,
   "metadata": {
    "collapsed": false
   },
   "outputs": [],
   "source": [
    "posneg_49.ix[posneg_49['book'] == 'ma_ol', 'region'] = 'ma_ol'\n",
    "posneg_49.ix[posneg_49['book'] == 'tw_ol', 'region'] = 'tw_ol'"
   ]
  },
  {
   "cell_type": "code",
   "execution_count": 53,
   "metadata": {
    "collapsed": false
   },
   "outputs": [
    {
     "data": {
      "text/html": [
       "<div>\n",
       "<table border=\"1\" class=\"dataframe\">\n",
       "  <thead>\n",
       "    <tr style=\"text-align: right;\">\n",
       "      <th></th>\n",
       "      <th>book</th>\n",
       "      <th>post1949</th>\n",
       "      <th>pre1949</th>\n",
       "      <th>region</th>\n",
       "    </tr>\n",
       "  </thead>\n",
       "  <tbody>\n",
       "    <tr>\n",
       "      <th>0</th>\n",
       "      <td>NaN</td>\n",
       "      <td>9.718078</td>\n",
       "      <td>4.023054</td>\n",
       "      <td>ma</td>\n",
       "    </tr>\n",
       "    <tr>\n",
       "      <th>1</th>\n",
       "      <td>NaN</td>\n",
       "      <td>2.908139</td>\n",
       "      <td>3.686117</td>\n",
       "      <td>tw</td>\n",
       "    </tr>\n",
       "    <tr>\n",
       "      <th>2</th>\n",
       "      <td>ma_ol</td>\n",
       "      <td>4.907104</td>\n",
       "      <td>4.086849</td>\n",
       "      <td>ma_ol</td>\n",
       "    </tr>\n",
       "    <tr>\n",
       "      <th>7</th>\n",
       "      <td>tw_ol</td>\n",
       "      <td>1.222222</td>\n",
       "      <td>3.614428</td>\n",
       "      <td>tw_ol</td>\n",
       "    </tr>\n",
       "  </tbody>\n",
       "</table>\n",
       "</div>"
      ],
      "text/plain": [
       "    book  post1949   pre1949 region\n",
       "0    NaN  9.718078  4.023054     ma\n",
       "1    NaN  2.908139  3.686117     tw\n",
       "2  ma_ol  4.907104  4.086849  ma_ol\n",
       "7  tw_ol  1.222222  3.614428  tw_ol"
      ]
     },
     "execution_count": 53,
     "metadata": {},
     "output_type": "execute_result"
    }
   ],
   "source": [
    "posneg_49"
   ]
  },
  {
   "cell_type": "code",
   "execution_count": 55,
   "metadata": {
    "collapsed": false
   },
   "outputs": [
    {
     "data": {
      "image/png": "[encoded data removed]",
      "text/plain": [
       "<matplotlib.figure.Figure at 0x113542c50>"
      ]
     },
     "metadata": {},
     "output_type": "display_data"
    }
   ],
   "source": [
    "%matplotlib inline  \n",
    "colors = {'ma':'red', 'ma_ol':'darkred', 'tw': 'b', 'tw_ol':'darkblue'}\n",
    "x = [0,1]\n",
    "y_mat = posneg_49[[ 'pre1949', 'post1949']].values\n",
    "color = posneg_49['region'].apply(lambda x: colors[x])\n",
    "\n",
    "fig, ax = plt.subplots(figsize=(6,6))\n",
    "for y, color in zip(y_mat, color):\n",
    "    ax.plot(x, y,'-o' , c= color  )\n",
    "handles, labels = ax.get_legend_handles_labels()\n",
    "#Create custom artists\n",
    "\n",
    "ma = plt.Line2D((0,1),(0,0), color='r', marker='o', linestyle='-')\n",
    "ma_ol = plt.Line2D((0,1),(0,0), color='darkred', marker='o', linestyle='-')\n",
    "tw = plt.Line2D((0,1),(0,0), color='blue', marker='o', linestyle='-')\n",
    "tw_ol = plt.Line2D((0,1),(0,0), color='darkblue', marker='o', linestyle='-')\n",
    "\n",
    "\n",
    "#Create legend from custom artist/label lists\n",
    "ax.legend([handle for i,handle in enumerate(handles) if i in display]+[ma, ma_ol, tw, tw_ol],\n",
    "          [label for i,label in enumerate(labels) if i in display]+['Mainland', 'Old Mainland', 'Taiwan','Old Taiwan'],\n",
    "           loc = 'best')\n",
    "labels = [item.get_text() for item in ax.get_xticklabels()]\n",
    "labels[0] = 'Pre-1949'\n",
    "labels[5] = 'Post-1949'\n",
    "\n",
    "ax.set_xticklabels(labels)\n",
    "ax.set_ylabel(\"Positive to Negative Phrase Ratio\" )\n",
    "plt.title('Positive to Negative Phrase Ratio')\n",
    "plt.show()"
   ]
  },
  {
   "cell_type": "code",
   "execution_count": null,
   "metadata": {
    "collapsed": true
   },
   "outputs": [],
   "source": [
    "## Old vs Modern Textbooks\n",
    "%matplotlib inline  \n",
    "colors = {'ma':'red', 'tw':'green', 'hk':'blue', 'se':'black'}\n",
    "x = [0,1]\n",
    "y_mat = old_posneg[[ 'pre1949', 'post1949']].values\n",
    "color = posneg['region'].apply(lambda x: colors[x])\n",
    "\n",
    "fig, ax = plt.subplots(figsize=(6,6))\n",
    "for y, color in zip(y_mat, color):\n",
    "    ax.plot(x, y,'-o' , c=color  )\n",
    "handles, labels = ax.get_legend_handles_labels()\n",
    "#Create custom artists\n",
    "\n",
    "ma = plt.Line2D((0,1),(0,0), color='r', marker='o', linestyle='-')\n",
    "tw = plt.Line2D((0,1),(0,0), color='g', marker='o', linestyle='-')\n",
    "hk = plt.Line2D((0,1),(0,0), color='blue', marker='o', linestyle='-')\n",
    "ref = plt.Line2D((0,1),(0,0), color='black', marker='o', linestyle='-')\n",
    "\n",
    "\n",
    "#Create legend from custom artist/label lists\n",
    "ax.legend([handle for i,handle in enumerate(handles) if i in display]+[ma, tw,hk, ref],\n",
    "          [label for i,label in enumerate(labels) if i in display]+['Mainland', 'Taiwan', 'Hong Kong','Reference'],\n",
    "           loc = 'best')\n",
    "labels = [item.get_text() for item in ax.get_xticklabels()]\n",
    "labels[0] = 'Pre-1949'\n",
    "labels[5] = 'Post-1949'\n",
    "\n",
    "ax.set_xticklabels(labels)\n",
    "ax.set_ylabel(\"Positive to Negative Phrase Ratio\" )\n",
    "plt.title('Positive to Negative Phrase Ratio for Modern Textbooks')\n",
    "plt.show()"
   ]
  },
  {
   "cell_type": "markdown",
   "metadata": {},
   "source": [
    "### Historical Episodes"
   ]
  },
  {
   "cell_type": "code",
   "execution_count": 21,
   "metadata": {
    "collapsed": false
   },
   "outputs": [],
   "source": [
    "path = '/Users/onyi/Dropbox/textbooks/Events'\n",
    "\n",
    "book={}\n",
    "phrases = {}\n",
    "bookindex = {}\n",
    "NumPosWords = {}\n",
    "NumNegWords = {}\n",
    "length1949 = {}\n",
    "for event in events:\n",
    "    for file in os.listdir(path):\n",
    "        if not file.startswith('.'):\n",
    "            file_path = os.path.join(path, file)\n",
    "            if os.path.isfile(file_path) and file.endswith(event):\n",
    "                with open(file_path) as f: \n",
    "                    book[file] = f.read()\n",
    "                    #print(file)\n",
    "                    book[file] = re.sub(\"[。，；:!：“、〈〉\\n\\t■◆”《》~ ;()*.,a-zA-Z「」〔〕]\", \"\", book[file])\n",
    "                    length1949[file] = len(book[file])\n",
    "                    #book_file_name.append(file)\n",
    "                    phrases[file]= jieba.cut(book[file], cut_all=False) #segmenting the content  \n",
    "                    #count number of positive phrases\n",
    "                    NumPosWords[file] = 0\n",
    "                    NumNegWords[file] = 0\n",
    "                    for phrase in phrases[file]:\n",
    "                        if phrase in posWords:\n",
    "                            NumPosWords[file] = NumPosWords[file] + 1\n",
    "                        if phrase in negWords:\n",
    "                            NumNegWords[file] = NumNegWords[file] + 1\n",
    "                    #  posWords.count(phrase)\n",
    "                    #NumNegWords[file] =+ negWords.count(phrase)\n",
    " "
   ]
  },
  {
   "cell_type": "code",
   "execution_count": 22,
   "metadata": {
    "collapsed": false
   },
   "outputs": [
    {
     "data": {
      "text/html": [
       "<div>\n",
       "<table border=\"1\" class=\"dataframe\">\n",
       "  <thead>\n",
       "    <tr style=\"text-align: right;\">\n",
       "      <th></th>\n",
       "      <th>index</th>\n",
       "      <th>pos</th>\n",
       "      <th>neg</th>\n",
       "      <th>posneg_ratio</th>\n",
       "      <th>book</th>\n",
       "    </tr>\n",
       "  </thead>\n",
       "  <tbody>\n",
       "    <tr>\n",
       "      <th>46</th>\n",
       "      <td>hk_文達_civilwar.txt</td>\n",
       "      <td>118</td>\n",
       "      <td>31</td>\n",
       "      <td>3.806452</td>\n",
       "      <td>hk_文達</td>\n",
       "    </tr>\n",
       "    <tr>\n",
       "      <th>1</th>\n",
       "      <td>hk_文達_culture.txt</td>\n",
       "      <td>236</td>\n",
       "      <td>61</td>\n",
       "      <td>3.868852</td>\n",
       "      <td>hk_文達</td>\n",
       "    </tr>\n",
       "    <tr>\n",
       "      <th>49</th>\n",
       "      <td>hk_文達_foreigninvasion.txt</td>\n",
       "      <td>451</td>\n",
       "      <td>130</td>\n",
       "      <td>3.469231</td>\n",
       "      <td>hk_文達</td>\n",
       "    </tr>\n",
       "    <tr>\n",
       "      <th>39</th>\n",
       "      <td>hk_文達_greatleap.txt</td>\n",
       "      <td>78</td>\n",
       "      <td>24</td>\n",
       "      <td>3.250000</td>\n",
       "      <td>hk_文達</td>\n",
       "    </tr>\n",
       "    <tr>\n",
       "      <th>56</th>\n",
       "      <td>hk_文達_reform.txt</td>\n",
       "      <td>291</td>\n",
       "      <td>57</td>\n",
       "      <td>5.105263</td>\n",
       "      <td>hk_文達</td>\n",
       "    </tr>\n",
       "    <tr>\n",
       "      <th>43</th>\n",
       "      <td>hk_文達_sinojapanwar.txt</td>\n",
       "      <td>130</td>\n",
       "      <td>24</td>\n",
       "      <td>5.416667</td>\n",
       "      <td>hk_文達</td>\n",
       "    </tr>\n",
       "    <tr>\n",
       "      <th>13</th>\n",
       "      <td>hk_文達_xinhai.txt</td>\n",
       "      <td>199</td>\n",
       "      <td>47</td>\n",
       "      <td>4.234043</td>\n",
       "      <td>hk_文達</td>\n",
       "    </tr>\n",
       "    <tr>\n",
       "      <th>17</th>\n",
       "      <td>hk_現代_civilwar.txt</td>\n",
       "      <td>138</td>\n",
       "      <td>50</td>\n",
       "      <td>2.760000</td>\n",
       "      <td>hk_現代</td>\n",
       "    </tr>\n",
       "    <tr>\n",
       "      <th>15</th>\n",
       "      <td>hk_現代_culture.txt</td>\n",
       "      <td>164</td>\n",
       "      <td>46</td>\n",
       "      <td>3.565217</td>\n",
       "      <td>hk_現代</td>\n",
       "    </tr>\n",
       "    <tr>\n",
       "      <th>27</th>\n",
       "      <td>hk_現代_foreigninvasion.txt</td>\n",
       "      <td>629</td>\n",
       "      <td>180</td>\n",
       "      <td>3.494444</td>\n",
       "      <td>hk_現代</td>\n",
       "    </tr>\n",
       "    <tr>\n",
       "      <th>24</th>\n",
       "      <td>hk_現代_greatleap.txt</td>\n",
       "      <td>83</td>\n",
       "      <td>38</td>\n",
       "      <td>2.184211</td>\n",
       "      <td>hk_現代</td>\n",
       "    </tr>\n",
       "    <tr>\n",
       "      <th>14</th>\n",
       "      <td>hk_現代_reform.txt</td>\n",
       "      <td>268</td>\n",
       "      <td>42</td>\n",
       "      <td>6.380952</td>\n",
       "      <td>hk_現代</td>\n",
       "    </tr>\n",
       "    <tr>\n",
       "      <th>59</th>\n",
       "      <td>hk_現代_sinojapanwar.txt</td>\n",
       "      <td>183</td>\n",
       "      <td>50</td>\n",
       "      <td>3.660000</td>\n",
       "      <td>hk_現代</td>\n",
       "    </tr>\n",
       "    <tr>\n",
       "      <th>4</th>\n",
       "      <td>hk_現代_xinhai.txt</td>\n",
       "      <td>226</td>\n",
       "      <td>51</td>\n",
       "      <td>4.431373</td>\n",
       "      <td>hk_現代</td>\n",
       "    </tr>\n",
       "    <tr>\n",
       "      <th>37</th>\n",
       "      <td>ma_人教_civilwar.txt</td>\n",
       "      <td>116</td>\n",
       "      <td>27</td>\n",
       "      <td>4.296296</td>\n",
       "      <td>ma_人教</td>\n",
       "    </tr>\n",
       "    <tr>\n",
       "      <th>58</th>\n",
       "      <td>ma_人教_culture.txt</td>\n",
       "      <td>40</td>\n",
       "      <td>15</td>\n",
       "      <td>2.666667</td>\n",
       "      <td>ma_人教</td>\n",
       "    </tr>\n",
       "    <tr>\n",
       "      <th>57</th>\n",
       "      <td>ma_人教_foreigninvasion.txt</td>\n",
       "      <td>83</td>\n",
       "      <td>23</td>\n",
       "      <td>3.608696</td>\n",
       "      <td>ma_人教</td>\n",
       "    </tr>\n",
       "    <tr>\n",
       "      <th>53</th>\n",
       "      <td>ma_人教_greatleap.txt</td>\n",
       "      <td>24</td>\n",
       "      <td>9</td>\n",
       "      <td>2.666667</td>\n",
       "      <td>ma_人教</td>\n",
       "    </tr>\n",
       "    <tr>\n",
       "      <th>18</th>\n",
       "      <td>ma_人教_reform.txt</td>\n",
       "      <td>134</td>\n",
       "      <td>10</td>\n",
       "      <td>13.400000</td>\n",
       "      <td>ma_人教</td>\n",
       "    </tr>\n",
       "    <tr>\n",
       "      <th>22</th>\n",
       "      <td>ma_人教_sinojapanwar.txt</td>\n",
       "      <td>32</td>\n",
       "      <td>13</td>\n",
       "      <td>2.461538</td>\n",
       "      <td>ma_人教</td>\n",
       "    </tr>\n",
       "    <tr>\n",
       "      <th>40</th>\n",
       "      <td>ma_人教_xinhai.txt</td>\n",
       "      <td>59</td>\n",
       "      <td>15</td>\n",
       "      <td>3.933333</td>\n",
       "      <td>ma_人教</td>\n",
       "    </tr>\n",
       "    <tr>\n",
       "      <th>35</th>\n",
       "      <td>ma_人民_civilwar.txt</td>\n",
       "      <td>30</td>\n",
       "      <td>10</td>\n",
       "      <td>3.000000</td>\n",
       "      <td>ma_人民</td>\n",
       "    </tr>\n",
       "    <tr>\n",
       "      <th>38</th>\n",
       "      <td>ma_人民_culture.txt</td>\n",
       "      <td>35</td>\n",
       "      <td>13</td>\n",
       "      <td>2.692308</td>\n",
       "      <td>ma_人民</td>\n",
       "    </tr>\n",
       "    <tr>\n",
       "      <th>32</th>\n",
       "      <td>ma_人民_foreigninvasion.txt</td>\n",
       "      <td>117</td>\n",
       "      <td>42</td>\n",
       "      <td>2.785714</td>\n",
       "      <td>ma_人民</td>\n",
       "    </tr>\n",
       "    <tr>\n",
       "      <th>29</th>\n",
       "      <td>ma_人民_greatleap.txt</td>\n",
       "      <td>14</td>\n",
       "      <td>5</td>\n",
       "      <td>2.800000</td>\n",
       "      <td>ma_人民</td>\n",
       "    </tr>\n",
       "    <tr>\n",
       "      <th>42</th>\n",
       "      <td>ma_人民_reform.txt</td>\n",
       "      <td>154</td>\n",
       "      <td>13</td>\n",
       "      <td>11.846154</td>\n",
       "      <td>ma_人民</td>\n",
       "    </tr>\n",
       "    <tr>\n",
       "      <th>30</th>\n",
       "      <td>ma_人民_sinojapanwar.txt</td>\n",
       "      <td>96</td>\n",
       "      <td>16</td>\n",
       "      <td>6.000000</td>\n",
       "      <td>ma_人民</td>\n",
       "    </tr>\n",
       "    <tr>\n",
       "      <th>52</th>\n",
       "      <td>ma_人民_xinhai.txt</td>\n",
       "      <td>50</td>\n",
       "      <td>5</td>\n",
       "      <td>10.000000</td>\n",
       "      <td>ma_人民</td>\n",
       "    </tr>\n",
       "    <tr>\n",
       "      <th>47</th>\n",
       "      <td>ma_岳麓_civilwar.txt</td>\n",
       "      <td>49</td>\n",
       "      <td>8</td>\n",
       "      <td>6.125000</td>\n",
       "      <td>ma_岳麓</td>\n",
       "    </tr>\n",
       "    <tr>\n",
       "      <th>34</th>\n",
       "      <td>ma_岳麓_culture.txt</td>\n",
       "      <td>13</td>\n",
       "      <td>10</td>\n",
       "      <td>1.300000</td>\n",
       "      <td>ma_岳麓</td>\n",
       "    </tr>\n",
       "    <tr>\n",
       "      <th>28</th>\n",
       "      <td>ma_岳麓_foreigninvasion.txt</td>\n",
       "      <td>66</td>\n",
       "      <td>26</td>\n",
       "      <td>2.538462</td>\n",
       "      <td>ma_岳麓</td>\n",
       "    </tr>\n",
       "    <tr>\n",
       "      <th>44</th>\n",
       "      <td>ma_岳麓_greatleap.txt</td>\n",
       "      <td>21</td>\n",
       "      <td>7</td>\n",
       "      <td>3.000000</td>\n",
       "      <td>ma_岳麓</td>\n",
       "    </tr>\n",
       "    <tr>\n",
       "      <th>50</th>\n",
       "      <td>ma_岳麓_reform.txt</td>\n",
       "      <td>142</td>\n",
       "      <td>12</td>\n",
       "      <td>11.833333</td>\n",
       "      <td>ma_岳麓</td>\n",
       "    </tr>\n",
       "    <tr>\n",
       "      <th>8</th>\n",
       "      <td>ma_岳麓_sinojapanwar.txt</td>\n",
       "      <td>23</td>\n",
       "      <td>7</td>\n",
       "      <td>3.285714</td>\n",
       "      <td>ma_岳麓</td>\n",
       "    </tr>\n",
       "    <tr>\n",
       "      <th>10</th>\n",
       "      <td>ma_岳麓_xinhai.txt</td>\n",
       "      <td>52</td>\n",
       "      <td>8</td>\n",
       "      <td>6.500000</td>\n",
       "      <td>ma_岳麓</td>\n",
       "    </tr>\n",
       "    <tr>\n",
       "      <th>16</th>\n",
       "      <td>sc_civilwar.txt</td>\n",
       "      <td>325</td>\n",
       "      <td>77</td>\n",
       "      <td>4.220779</td>\n",
       "      <td>sc_ci</td>\n",
       "    </tr>\n",
       "    <tr>\n",
       "      <th>2</th>\n",
       "      <td>sc_foreigninvasion.txt</td>\n",
       "      <td>446</td>\n",
       "      <td>97</td>\n",
       "      <td>4.597938</td>\n",
       "      <td>sc_fo</td>\n",
       "    </tr>\n",
       "    <tr>\n",
       "      <th>6</th>\n",
       "      <td>sc_sinojapanwar.txt</td>\n",
       "      <td>568</td>\n",
       "      <td>123</td>\n",
       "      <td>4.617886</td>\n",
       "      <td>sc_si</td>\n",
       "    </tr>\n",
       "    <tr>\n",
       "      <th>45</th>\n",
       "      <td>sc_xinhai.txt</td>\n",
       "      <td>107</td>\n",
       "      <td>18</td>\n",
       "      <td>5.944444</td>\n",
       "      <td>sc_xi</td>\n",
       "    </tr>\n",
       "    <tr>\n",
       "      <th>51</th>\n",
       "      <td>tw_南一_civilwar.txt</td>\n",
       "      <td>55</td>\n",
       "      <td>23</td>\n",
       "      <td>2.391304</td>\n",
       "      <td>tw_南一</td>\n",
       "    </tr>\n",
       "    <tr>\n",
       "      <th>7</th>\n",
       "      <td>tw_南一_culture.txt</td>\n",
       "      <td>18</td>\n",
       "      <td>5</td>\n",
       "      <td>3.600000</td>\n",
       "      <td>tw_南一</td>\n",
       "    </tr>\n",
       "    <tr>\n",
       "      <th>23</th>\n",
       "      <td>tw_南一_foreigninvasion.txt</td>\n",
       "      <td>62</td>\n",
       "      <td>20</td>\n",
       "      <td>3.100000</td>\n",
       "      <td>tw_南一</td>\n",
       "    </tr>\n",
       "    <tr>\n",
       "      <th>3</th>\n",
       "      <td>tw_南一_greatleap.txt</td>\n",
       "      <td>24</td>\n",
       "      <td>12</td>\n",
       "      <td>2.000000</td>\n",
       "      <td>tw_南一</td>\n",
       "    </tr>\n",
       "    <tr>\n",
       "      <th>0</th>\n",
       "      <td>tw_南一_reform.txt</td>\n",
       "      <td>57</td>\n",
       "      <td>17</td>\n",
       "      <td>3.352941</td>\n",
       "      <td>tw_南一</td>\n",
       "    </tr>\n",
       "    <tr>\n",
       "      <th>9</th>\n",
       "      <td>tw_南一_sinojapanwar.txt</td>\n",
       "      <td>59</td>\n",
       "      <td>19</td>\n",
       "      <td>3.105263</td>\n",
       "      <td>tw_南一</td>\n",
       "    </tr>\n",
       "    <tr>\n",
       "      <th>21</th>\n",
       "      <td>tw_南一_xinhai.txt</td>\n",
       "      <td>90</td>\n",
       "      <td>17</td>\n",
       "      <td>5.294118</td>\n",
       "      <td>tw_南一</td>\n",
       "    </tr>\n",
       "    <tr>\n",
       "      <th>61</th>\n",
       "      <td>tw_康熹_culture.txt</td>\n",
       "      <td>58</td>\n",
       "      <td>42</td>\n",
       "      <td>1.380952</td>\n",
       "      <td>tw_康熹</td>\n",
       "    </tr>\n",
       "    <tr>\n",
       "      <th>11</th>\n",
       "      <td>tw_康熹_foreigninvasion.txt</td>\n",
       "      <td>74</td>\n",
       "      <td>26</td>\n",
       "      <td>2.846154</td>\n",
       "      <td>tw_康熹</td>\n",
       "    </tr>\n",
       "    <tr>\n",
       "      <th>48</th>\n",
       "      <td>tw_康熹_greatleap.txt</td>\n",
       "      <td>16</td>\n",
       "      <td>6</td>\n",
       "      <td>2.666667</td>\n",
       "      <td>tw_康熹</td>\n",
       "    </tr>\n",
       "    <tr>\n",
       "      <th>25</th>\n",
       "      <td>tw_康熹_reform.txt</td>\n",
       "      <td>56</td>\n",
       "      <td>16</td>\n",
       "      <td>3.500000</td>\n",
       "      <td>tw_康熹</td>\n",
       "    </tr>\n",
       "    <tr>\n",
       "      <th>5</th>\n",
       "      <td>tw_康熹_sinojapanwar.txt</td>\n",
       "      <td>67</td>\n",
       "      <td>12</td>\n",
       "      <td>5.583333</td>\n",
       "      <td>tw_康熹</td>\n",
       "    </tr>\n",
       "    <tr>\n",
       "      <th>20</th>\n",
       "      <td>tw_康熹_xinhai.txt</td>\n",
       "      <td>113</td>\n",
       "      <td>23</td>\n",
       "      <td>4.913043</td>\n",
       "      <td>tw_康熹</td>\n",
       "    </tr>\n",
       "    <tr>\n",
       "      <th>33</th>\n",
       "      <td>tw_康熹civilwar.txt</td>\n",
       "      <td>67</td>\n",
       "      <td>20</td>\n",
       "      <td>3.350000</td>\n",
       "      <td>tw_康熹</td>\n",
       "    </tr>\n",
       "  </tbody>\n",
       "</table>\n",
       "</div>"
      ],
      "text/plain": [
       "                        index  pos  neg  posneg_ratio   book\n",
       "46         hk_文達_civilwar.txt  118   31      3.806452  hk_文達\n",
       "1           hk_文達_culture.txt  236   61      3.868852  hk_文達\n",
       "49  hk_文達_foreigninvasion.txt  451  130      3.469231  hk_文達\n",
       "39        hk_文達_greatleap.txt   78   24      3.250000  hk_文達\n",
       "56           hk_文達_reform.txt  291   57      5.105263  hk_文達\n",
       "43     hk_文達_sinojapanwar.txt  130   24      5.416667  hk_文達\n",
       "13           hk_文達_xinhai.txt  199   47      4.234043  hk_文達\n",
       "17         hk_現代_civilwar.txt  138   50      2.760000  hk_現代\n",
       "15          hk_現代_culture.txt  164   46      3.565217  hk_現代\n",
       "27  hk_現代_foreigninvasion.txt  629  180      3.494444  hk_現代\n",
       "24        hk_現代_greatleap.txt   83   38      2.184211  hk_現代\n",
       "14           hk_現代_reform.txt  268   42      6.380952  hk_現代\n",
       "59     hk_現代_sinojapanwar.txt  183   50      3.660000  hk_現代\n",
       "4            hk_現代_xinhai.txt  226   51      4.431373  hk_現代\n",
       "37         ma_人教_civilwar.txt  116   27      4.296296  ma_人教\n",
       "58          ma_人教_culture.txt   40   15      2.666667  ma_人教\n",
       "57  ma_人教_foreigninvasion.txt   83   23      3.608696  ma_人教\n",
       "53        ma_人教_greatleap.txt   24    9      2.666667  ma_人教\n",
       "18           ma_人教_reform.txt  134   10     13.400000  ma_人教\n",
       "22     ma_人教_sinojapanwar.txt   32   13      2.461538  ma_人教\n",
       "40           ma_人教_xinhai.txt   59   15      3.933333  ma_人教\n",
       "35         ma_人民_civilwar.txt   30   10      3.000000  ma_人民\n",
       "38          ma_人民_culture.txt   35   13      2.692308  ma_人民\n",
       "32  ma_人民_foreigninvasion.txt  117   42      2.785714  ma_人民\n",
       "29        ma_人民_greatleap.txt   14    5      2.800000  ma_人民\n",
       "42           ma_人民_reform.txt  154   13     11.846154  ma_人民\n",
       "30     ma_人民_sinojapanwar.txt   96   16      6.000000  ma_人民\n",
       "52           ma_人民_xinhai.txt   50    5     10.000000  ma_人民\n",
       "47         ma_岳麓_civilwar.txt   49    8      6.125000  ma_岳麓\n",
       "34          ma_岳麓_culture.txt   13   10      1.300000  ma_岳麓\n",
       "28  ma_岳麓_foreigninvasion.txt   66   26      2.538462  ma_岳麓\n",
       "44        ma_岳麓_greatleap.txt   21    7      3.000000  ma_岳麓\n",
       "50           ma_岳麓_reform.txt  142   12     11.833333  ma_岳麓\n",
       "8      ma_岳麓_sinojapanwar.txt   23    7      3.285714  ma_岳麓\n",
       "10           ma_岳麓_xinhai.txt   52    8      6.500000  ma_岳麓\n",
       "16            sc_civilwar.txt  325   77      4.220779  sc_ci\n",
       "2      sc_foreigninvasion.txt  446   97      4.597938  sc_fo\n",
       "6         sc_sinojapanwar.txt  568  123      4.617886  sc_si\n",
       "45              sc_xinhai.txt  107   18      5.944444  sc_xi\n",
       "51         tw_南一_civilwar.txt   55   23      2.391304  tw_南一\n",
       "7           tw_南一_culture.txt   18    5      3.600000  tw_南一\n",
       "23  tw_南一_foreigninvasion.txt   62   20      3.100000  tw_南一\n",
       "3         tw_南一_greatleap.txt   24   12      2.000000  tw_南一\n",
       "0            tw_南一_reform.txt   57   17      3.352941  tw_南一\n",
       "9      tw_南一_sinojapanwar.txt   59   19      3.105263  tw_南一\n",
       "21           tw_南一_xinhai.txt   90   17      5.294118  tw_南一\n",
       "61          tw_康熹_culture.txt   58   42      1.380952  tw_康熹\n",
       "11  tw_康熹_foreigninvasion.txt   74   26      2.846154  tw_康熹\n",
       "48        tw_康熹_greatleap.txt   16    6      2.666667  tw_康熹\n",
       "25           tw_康熹_reform.txt   56   16      3.500000  tw_康熹\n",
       "5      tw_康熹_sinojapanwar.txt   67   12      5.583333  tw_康熹\n",
       "20           tw_康熹_xinhai.txt  113   23      4.913043  tw_康熹\n",
       "33          tw_康熹civilwar.txt   67   20      3.350000  tw_康熹"
      ]
     },
     "execution_count": 22,
     "metadata": {},
     "output_type": "execute_result"
    }
   ],
   "source": [
    "#calculate the ratio of positive and negative words\n",
    "NumPosWords_df = pd.DataFrame.from_dict(NumPosWords, orient = 'index')\n",
    "NumNegWords_df = pd.DataFrame.from_dict(NumNegWords, orient = 'index')\n",
    "posneg = pd.merge(NumPosWords_df, NumNegWords_df, left_index = True, right_index = True)\n",
    "posneg.columns = ['pos','neg']\n",
    "posneg['posneg_ratio'] = posneg['pos']/posneg['neg']\n",
    "posneg = posneg.reset_index()\n",
    "posneg['book'] = posneg['index'].str[:5]\n",
    "\n",
    "#removing the old textbooks\n",
    "posneg = posneg[posneg['book'] != 'ma_ol']\n",
    "posneg = posneg[posneg['book'] != 'ma_老版']\n",
    "posneg = posneg[posneg['book'] != 'tw_ol']\n",
    "posneg = posneg.sort(['index'])\n",
    "posneg"
   ]
  },
  {
   "cell_type": "code",
   "execution_count": 23,
   "metadata": {
    "collapsed": false
   },
   "outputs": [
    {
     "data": {
      "text/plain": [
       "<matplotlib.legend.Legend at 0x129c330f0>"
      ]
     },
     "execution_count": 23,
     "metadata": {},
     "output_type": "execute_result"
    },
    {
     "data": {
      "image/png": "[encoded data removed]",
      "text/plain": [
       "<matplotlib.figure.Figure at 0x129a82a90>"
      ]
     },
     "metadata": {},
     "output_type": "display_data"
    }
   ],
   "source": [
    "###Plotting\n",
    "\n",
    "%matplotlib inline  \n",
    "\n",
    "civilwar = posneg[posneg['index'].str.endswith('civilwar.txt')]\n",
    "invasion = posneg[posneg['index'].str.endswith('invasion.txt')]\n",
    "xinhai = posneg[posneg['index'].str.endswith('xinhai.txt')]\n",
    "japan = posneg[posneg['index'].str.endswith('japanwar.txt')]\n",
    "\n",
    "fig, ax = plt.subplots(figsize = (9,6))\n",
    "ind = np.arange(len(civilwar['book']))\n",
    "width = 0\n",
    "\n",
    "rects1 = ax.plot(ind, civilwar['posneg_ratio'],'xb-')\n",
    "rects2 = ax.plot(ind, invasion['posneg_ratio'],'xr-')\n",
    "rects3 = ax.plot(ind, xinhai['posneg_ratio'],'xg-')\n",
    "rects4 = ax.plot(ind, japan['posneg_ratio'],'xy-')\n",
    "\n",
    "# add some text for labels, title and axes ticks\n",
    "ax.set_ylabel('Ratio')\n",
    "ax.set_title('Positive to Negative Word Ratio')\n",
    "\n",
    "\n",
    "\n",
    "plt.xticks(ind + width , civilwar['book'].values)\n",
    "fig.autofmt_xdate()\n",
    "ax.legend((rects1[0], rects2[0],rects3[0], rects4[0]), ('Civil War', 'Foreign Invasion','Xinhai Revolution','Sino-Japan War'), loc='best')\n",
    "\n"
   ]
  },
  {
   "cell_type": "code",
   "execution_count": 25,
   "metadata": {
    "collapsed": false
   },
   "outputs": [
    {
     "data": {
      "text/plain": [
       "<matplotlib.legend.Legend at 0x129e50eb8>"
      ]
     },
     "execution_count": 25,
     "metadata": {},
     "output_type": "execute_result"
    },
    {
     "data": {
      "image/png": "[encoded data removed]",
      "text/plain": [
       "<matplotlib.figure.Figure at 0x108751f60>"
      ]
     },
     "metadata": {},
     "output_type": "display_data"
    }
   ],
   "source": [
    "#post 1949 historical episodes\n",
    "\n",
    "%matplotlib inline  \n",
    "\n",
    "leap = posneg[posneg['index'].str.endswith('leap.txt')]\n",
    "culture = posneg[posneg['index'].str.endswith('culture.txt')]\n",
    "reform = posneg[posneg['index'].str.endswith('reform.txt')]\n",
    "\n",
    "fig, ax = plt.subplots(figsize = (9,6))\n",
    "ind = np.arange(len(leap['book']))\n",
    "width = 0\n",
    "\n",
    "rects1 = ax.plot(ind, leap['posneg_ratio'],'xb-')\n",
    "rects2 = ax.plot(ind, culture['posneg_ratio'],'xr-')\n",
    "rects3 = ax.plot(ind, reform['posneg_ratio'],'xg-')\n",
    "\n",
    "# add some text for labels, title and axes ticks\n",
    "ax.set_ylabel('Ratio')\n",
    "ax.set_title('Positive to Negative Word Ratio')\n",
    "\n",
    "\n",
    "\n",
    "plt.xticks(ind + width , leap['book'].values)\n",
    "fig.autofmt_xdate()\n",
    "ax.legend((rects1[0], rects2[0],rects3[0]), ('Great Leap Forward', 'Cultrual Revolution','Reform and Open'), loc='best')\n",
    "\n",
    "\n"
   ]
  },
  {
   "cell_type": "markdown",
   "metadata": {},
   "source": [
    "###Sun of Positive and Negative Words"
   ]
  },
  {
   "cell_type": "code",
   "execution_count": 23,
   "metadata": {
    "collapsed": false
   },
   "outputs": [],
   "source": [
    "NumPosWords_df = pd.DataFrame.from_dict(NumPosWords, orient = 'index')\n",
    "NumNegWords_df = pd.DataFrame.from_dict(NumNegWords, orient = 'index')\n",
    "posneg = pd.merge(NumPosWords_df, NumNegWords_df, left_index = True, right_index = True)\n",
    "posneg.columns = ['pos','neg']\n",
    "posneg['sum'] = posneg['pos'] + posneg['neg']\n",
    "posneg['post1949'] = 0\n",
    "posneg = posneg.reset_index()\n",
    "posneg.ix[posneg['index'].str.endswith('post1949.txt'), 'post1949'] = 1\n",
    "posneg['book'] = posneg['index'].str[:5]"
   ]
  },
  {
   "cell_type": "code",
   "execution_count": 29,
   "metadata": {
    "collapsed": false
   },
   "outputs": [
    {
     "data": {
      "text/html": [
       "<div>\n",
       "<table border=\"1\" class=\"dataframe\">\n",
       "  <thead>\n",
       "    <tr style=\"text-align: right;\">\n",
       "      <th></th>\n",
       "      <th>book</th>\n",
       "      <th>pre49</th>\n",
       "      <th>post49</th>\n",
       "      <th>posneg_ratio</th>\n",
       "    </tr>\n",
       "  </thead>\n",
       "  <tbody>\n",
       "    <tr>\n",
       "      <th>0</th>\n",
       "      <td>hk_文達</td>\n",
       "      <td>1948</td>\n",
       "      <td>1493</td>\n",
       "      <td>0.766427</td>\n",
       "    </tr>\n",
       "    <tr>\n",
       "      <th>1</th>\n",
       "      <td>hk_現代</td>\n",
       "      <td>2641</td>\n",
       "      <td>1614</td>\n",
       "      <td>0.611132</td>\n",
       "    </tr>\n",
       "    <tr>\n",
       "      <th>3</th>\n",
       "      <td>ma_人教</td>\n",
       "      <td>502</td>\n",
       "      <td>408</td>\n",
       "      <td>0.812749</td>\n",
       "    </tr>\n",
       "    <tr>\n",
       "      <th>4</th>\n",
       "      <td>ma_人民</td>\n",
       "      <td>630</td>\n",
       "      <td>767</td>\n",
       "      <td>1.217460</td>\n",
       "    </tr>\n",
       "    <tr>\n",
       "      <th>5</th>\n",
       "      <td>ma_岳麓</td>\n",
       "      <td>444</td>\n",
       "      <td>412</td>\n",
       "      <td>0.927928</td>\n",
       "    </tr>\n",
       "    <tr>\n",
       "      <th>7</th>\n",
       "      <td>searc</td>\n",
       "      <td>7741</td>\n",
       "      <td>6051</td>\n",
       "      <td>0.781682</td>\n",
       "    </tr>\n",
       "    <tr>\n",
       "      <th>8</th>\n",
       "      <td>tw_南一</td>\n",
       "      <td>1096</td>\n",
       "      <td>349</td>\n",
       "      <td>0.318431</td>\n",
       "    </tr>\n",
       "    <tr>\n",
       "      <th>10</th>\n",
       "      <td>tw_康熹</td>\n",
       "      <td>945</td>\n",
       "      <td>540</td>\n",
       "      <td>0.571429</td>\n",
       "    </tr>\n",
       "  </tbody>\n",
       "</table>\n",
       "</div>"
      ],
      "text/plain": [
       "     book  pre49  post49  posneg_ratio\n",
       "0   hk_文達   1948    1493      0.766427\n",
       "1   hk_現代   2641    1614      0.611132\n",
       "3   ma_人教    502     408      0.812749\n",
       "4   ma_人民    630     767      1.217460\n",
       "5   ma_岳麓    444     412      0.927928\n",
       "7   searc   7741    6051      0.781682\n",
       "8   tw_南一   1096     349      0.318431\n",
       "10  tw_康熹    945     540      0.571429"
      ]
     },
     "execution_count": 29,
     "metadata": {},
     "output_type": "execute_result"
    }
   ],
   "source": [
    "posneg2 = posneg.pivot(index='book', columns='post1949', values='sum').reset_index() #convert dataframe from long to wide\n",
    "posneg2.columns = ['book','pre49', 'post49']\n",
    "posneg2['posneg_ratio'] = posneg2['post49']/posneg2['pre49']\n",
    "#posneg2 = posneg2[posneg2['book'] != 'ma_ol']\n",
    "#posneg2 = posneg2[posneg2['book'] != 'ma_老版']\n",
    "#posneg2 = posneg2[posneg2['book'] != 'tw_台湾']\n",
    "posneg2"
   ]
  },
  {
   "cell_type": "code",
   "execution_count": 32,
   "metadata": {
    "collapsed": false
   },
   "outputs": [
    {
     "data": {
      "image/png": "[encoded data removed]",
      "text/plain": [
       "<matplotlib.figure.Figure at 0x1048109e8>"
      ]
     },
     "metadata": {},
     "output_type": "display_data"
    }
   ],
   "source": [
    "%matplotlib inline  \n",
    "# a bar plot with errorbars\n",
    "fig = plt.figure()\n",
    "width = .1\n",
    "ind = np.arange(len(posneg2['book']))\n",
    "plt.bar(ind, posneg2['posneg_ratio'],color = 'r')\n",
    "plt.xticks(ind + width/2 , posneg2['book'].values)\n",
    "plt.title('Ratio of Both Positive and Negative Words after and before 1949')\n",
    "fig.autofmt_xdate()"
   ]
  },
  {
   "cell_type": "markdown",
   "metadata": {},
   "source": [
    "###  Pre1949 to Post1949"
   ]
  },
  {
   "cell_type": "code",
   "execution_count": 10,
   "metadata": {
    "collapsed": false
   },
   "outputs": [],
   "source": [
    "length_post49 = { key:value for key, value in length1949.items() if 'post' in key }\n",
    "length_pre49 = { key:value for key, value in length1949.items() if 'pre' in key }"
   ]
  },
  {
   "cell_type": "code",
   "execution_count": 11,
   "metadata": {
    "collapsed": false
   },
   "outputs": [],
   "source": [
    "length_post49_df = pd.DataFrame.from_dict(length_post49, orient = 'index')\n",
    "length_post49_df.columns = ['post49_length']\n",
    "length_pre49_df = pd.DataFrame.from_dict(length_pre49, orient = 'index')\n",
    "length_pre49_df.columns = ['pre49_length']"
   ]
  },
  {
   "cell_type": "code",
   "execution_count": 12,
   "metadata": {
    "collapsed": false
   },
   "outputs": [],
   "source": [
    "length_post49_df['book']= length_post49_df.index.str[:5]\n",
    "length_pre49_df['book']= length_pre49_df.index.str[:5]"
   ]
  },
  {
   "cell_type": "code",
   "execution_count": 13,
   "metadata": {
    "collapsed": false
   },
   "outputs": [],
   "source": [
    "prepost49 = pd.merge(length_post49_df, length_pre49_df, on = 'book')\n",
    "prepost49['post_pre_ratio'] = prepost49['post49_length']/prepost49['pre49_length']\n",
    "prepost49 = prepost49[prepost49['book'] != 'ma_ol']\n",
    "prepost49 = prepost49.sort(['book'])"
   ]
  },
  {
   "cell_type": "code",
   "execution_count": 175,
   "metadata": {
    "collapsed": false
   },
   "outputs": [
    {
     "data": {
      "image/png": "[encoded data removed]",
      "text/plain": [
       "<matplotlib.figure.Figure at 0x1374f15c0>"
      ]
     },
     "metadata": {},
     "output_type": "display_data"
    }
   ],
   "source": [
    "from matplotlib import pyplot as plt\n",
    "fig = plt.figure()\n",
    "width = .3\n",
    "ind = np.arange(len(prepost49['book']))\n",
    "plt.bar(ind, prepost49['post_pre_ratio'],color = 'b')\n",
    "plt.xticks(ind + width/2 , prepost49['book'].values)\n",
    "plt.title('Total number of words post-1949 to number of words pre-1949')\n",
    "fig.autofmt_xdate()"
   ]
  },
  {
   "cell_type": "code",
   "execution_count": 14,
   "metadata": {
    "collapsed": false
   },
   "outputs": [
    {
     "data": {
      "text/html": [
       "<div>\n",
       "<table border=\"1\" class=\"dataframe\">\n",
       "  <thead>\n",
       "    <tr style=\"text-align: right;\">\n",
       "      <th></th>\n",
       "      <th>post49_length</th>\n",
       "      <th>book</th>\n",
       "      <th>pre49_length</th>\n",
       "      <th>post_pre_ratio</th>\n",
       "    </tr>\n",
       "  </thead>\n",
       "  <tbody>\n",
       "    <tr>\n",
       "      <th>0</th>\n",
       "      <td>28808</td>\n",
       "      <td>hk_文達</td>\n",
       "      <td>43851</td>\n",
       "      <td>0.656952</td>\n",
       "    </tr>\n",
       "    <tr>\n",
       "      <th>4</th>\n",
       "      <td>34451</td>\n",
       "      <td>hk_現代</td>\n",
       "      <td>59798</td>\n",
       "      <td>0.576123</td>\n",
       "    </tr>\n",
       "    <tr>\n",
       "      <th>3</th>\n",
       "      <td>7769</td>\n",
       "      <td>ma_人教</td>\n",
       "      <td>12144</td>\n",
       "      <td>0.639740</td>\n",
       "    </tr>\n",
       "    <tr>\n",
       "      <th>5</th>\n",
       "      <td>13156</td>\n",
       "      <td>ma_人民</td>\n",
       "      <td>15003</td>\n",
       "      <td>0.876891</td>\n",
       "    </tr>\n",
       "    <tr>\n",
       "      <th>6</th>\n",
       "      <td>8384</td>\n",
       "      <td>ma_岳麓</td>\n",
       "      <td>9959</td>\n",
       "      <td>0.841852</td>\n",
       "    </tr>\n",
       "    <tr>\n",
       "      <th>2</th>\n",
       "      <td>174094</td>\n",
       "      <td>searc</td>\n",
       "      <td>235970</td>\n",
       "      <td>0.737780</td>\n",
       "    </tr>\n",
       "    <tr>\n",
       "      <th>1</th>\n",
       "      <td>8231</td>\n",
       "      <td>tw_南一</td>\n",
       "      <td>25027</td>\n",
       "      <td>0.328885</td>\n",
       "    </tr>\n",
       "    <tr>\n",
       "      <th>8</th>\n",
       "      <td>11928</td>\n",
       "      <td>tw_康熹</td>\n",
       "      <td>22346</td>\n",
       "      <td>0.533787</td>\n",
       "    </tr>\n",
       "  </tbody>\n",
       "</table>\n",
       "</div>"
      ],
      "text/plain": [
       "   post49_length   book  pre49_length  post_pre_ratio\n",
       "0          28808  hk_文達         43851        0.656952\n",
       "4          34451  hk_現代         59798        0.576123\n",
       "3           7769  ma_人教         12144        0.639740\n",
       "5          13156  ma_人民         15003        0.876891\n",
       "6           8384  ma_岳麓          9959        0.841852\n",
       "2         174094  searc        235970        0.737780\n",
       "1           8231  tw_南一         25027        0.328885\n",
       "8          11928  tw_康熹         22346        0.533787"
      ]
     },
     "execution_count": 14,
     "metadata": {},
     "output_type": "execute_result"
    }
   ],
   "source": [
    "prepost49"
   ]
  },
  {
   "cell_type": "markdown",
   "metadata": {},
   "source": [
    "###Time Series Analysis"
   ]
  },
  {
   "cell_type": "code",
   "execution_count": null,
   "metadata": {
    "collapsed": true
   },
   "outputs": [],
   "source": [
    "###Plotting\n",
    "\n",
    "%matplotlib inline  \n",
    "\n",
    "civilwar = posneg[posneg['index'].str.endswith('civilwar.txt')]\n",
    "invasion = posneg[posneg['index'].str.endswith('invasion.txt')]\n",
    "xinhai = posneg[posneg['index'].str.endswith('xinhai.txt')]\n",
    "japan = posneg[posneg['index'].str.endswith('japanwar.txt')]\n",
    "\n",
    "fig, ax = plt.subplots(figsize = (9,6))\n",
    "ind = np.arange(len(civilwar['book']))\n",
    "width = 0\n",
    "\n",
    "rects1 = ax.plot(ind, civilwar['posneg_ratio'],'xb-')\n",
    "rects2 = ax.plot(ind, invasion['posneg_ratio'],'xr-')\n",
    "rects3 = ax.plot(ind, xinhai['posneg_ratio'],'xg-')\n",
    "rects4 = ax.plot(ind, japan['posneg_ratio'],'xy-')\n",
    "\n",
    "# add some text for labels, title and axes ticks\n",
    "ax.set_ylabel('Ratio')\n",
    "ax.set_title('Positive to Negative Word Ratio')\n",
    "\n",
    "\n",
    "\n",
    "plt.xticks(ind + width , civilwar['book'].values)\n",
    "fig.autofmt_xdate()\n",
    "ax.legend((rects1[0], rects2[0],rects3[0], rects4[0]), ('Civil War', 'Foreign Invasion','Xinhai Revolution','Sino-Japan War'), loc='best')\n",
    "\n"
   ]
  }
 ],
 "metadata": {
  "kernelspec": {
   "display_name": "Python 2",
   "language": "python",
   "name": "python2"
  },
  "language_info": {
   "codemirror_mode": {
    "name": "ipython",
    "version": 2
   },
   "file_extension": ".py",
   "mimetype": "text/x-python",
   "name": "python",
   "nbconvert_exporter": "python",
   "pygments_lexer": "ipython2",
   "version": "2.7.10"
  }
 },
 "nbformat": 4,
 "nbformat_minor": 0
}
