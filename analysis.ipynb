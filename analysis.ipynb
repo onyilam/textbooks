{
 "cells": [
  {
   "cell_type": "code",
   "execution_count": 1,
   "metadata": {
    "collapsed": false
   },
   "outputs": [],
   "source": [
    "#encoding=utf-8,\n",
    "import jieba\n",
    "import sys, codecs, re, os, csv\n",
    "from io import open\n",
    "from pandas import Series, DataFrame\n",
    "import pandas as pd\n",
    "import numpy as np\n",
    "import itertools\n",
    "from DictionaryServices import *\n",
    "import matplotlib.pyplot as plt"
   ]
  },
  {
   "cell_type": "code",
   "execution_count": 2,
   "metadata": {
    "collapsed": false
   },
   "outputs": [],
   "source": [
    "pd.options.display.max_rows = 9999999\n",
    "path = '/Users/onyi/Dropbox/textbooks'"
   ]
  },
  {
   "cell_type": "markdown",
   "metadata": {},
   "source": [
    "<h4> A Dictionary Function that looks up the word definition using Dictionary App </h4>"
   ]
  },
  {
   "cell_type": "code",
   "execution_count": 3,
   "metadata": {
    "collapsed": true
   },
   "outputs": [],
   "source": [
    "#dictionary function\n",
    "def dictionary(searchword):\n",
    "    wordrange = (0, len(searchword))\n",
    "    dictresult = DCSCopyTextDefinition(None, searchword, wordrange)\n",
    "    if not dictresult:\n",
    "        errmsg = \"'%s' not found in Dictionary.\" % (searchword)\n",
    "        return(errmsg)\n",
    "    else:\n",
    "        return(dictresult)"
   ]
  },
  {
   "cell_type": "markdown",
   "metadata": {},
   "source": [
    "####Add words to dictionary"
   ]
  },
  {
   "cell_type": "code",
   "execution_count": 4,
   "metadata": {
    "collapsed": false
   },
   "outputs": [
    {
     "name": "stderr",
     "output_type": "stream",
     "text": [
      "Building prefix dict from the default dictionary ...\n",
      "DEBUG:jieba:Building prefix dict from the default dictionary ...\n",
      "Loading model from cache /var/folders/_w/wb0_lsb14ls2qrdq804s92tr0000gn/T/jieba.cache\n",
      "DEBUG:jieba:Loading model from cache /var/folders/_w/wb0_lsb14ls2qrdq804s92tr0000gn/T/jieba.cache\n",
      "Loading model cost 1.041 seconds.\n",
      "DEBUG:jieba:Loading model cost 1.041 seconds.\n",
      "Prefix dict has been built succesfully.\n",
      "DEBUG:jieba:Prefix dict has been built succesfully.\n"
     ]
    }
   ],
   "source": [
    "new_words = ['关係','窘','锐意','无奈','势孤力弱','远远','蓄谋已久']\n",
    "for word in new_words:\n",
    "    jieba.add_word(word, freq=None, tag=None)\n",
    "    jieba.suggest_freq(word, True)"
   ]
  },
  {
   "cell_type": "code",
   "execution_count": 4,
   "metadata": {
    "collapsed": false
   },
   "outputs": [],
   "source": [
    "book={}\n",
    "words={}\n",
    "WordDef={}\n",
    "NoFile= len([file for file in os.listdir(path) if os.path.isfile(os.path.join(path, file)) \n",
    "             and file.endswith(\".txt\") ])\n",
    "book2index={}\n",
    "wordlist = [[] for i in range(NoFile)]\n"
   ]
  },
  {
   "cell_type": "code",
   "execution_count": 5,
   "metadata": {
    "collapsed": false
   },
   "outputs": [
    {
     "name": "stderr",
     "output_type": "stream",
     "text": [
      "Building prefix dict from the default dictionary ...\n",
      "DEBUG:jieba:Building prefix dict from the default dictionary ...\n",
      "Dumping model to file cache /var/folders/_w/wb0_lsb14ls2qrdq804s92tr0000gn/T/jieba.cache\n",
      "DEBUG:jieba:Dumping model to file cache /var/folders/_w/wb0_lsb14ls2qrdq804s92tr0000gn/T/jieba.cache\n",
      "Loading model cost 1.479 seconds.\n",
      "DEBUG:jieba:Loading model cost 1.479 seconds.\n",
      "Prefix dict has been built succesfully.\n",
      "DEBUG:jieba:Prefix dict has been built succesfully.\n"
     ]
    },
    {
     "name": "stdout",
     "output_type": "stream",
     "text": [
      "hk_文達必修4.txt\n",
      "hk_文達必修5.txt\n",
      "hk_文達必修6.txt\n",
      "hk_現代4下.txt\n",
      "hk_現代5上.txt\n",
      "hk_現代5下.txt\n",
      "ma_old人教版历史书.txt\n",
      "ma_old人教版历史书下册.txt\n",
      "ma_人教版高中历史必修一现代中国部分.txt\n",
      "ma_人教版高中历史必修三现代中国部分.txt\n",
      "ma_人教版高中历史必修二现代中国部分.txt\n",
      "ma_人民版高中历史必修一现代中国部分.txt\n",
      "ma_人民版高中历史必修三现代中国部分.txt\n",
      "ma_人民版高中历史必修二现代中国部分.txt\n",
      "ma_岳麓版高中历史必修一现代中国部分.txt\n",
      "ma_岳麓版高中历史必修三现代中国部分.txt\n",
      "ma_岳麓版高中历史必修二现代中国部分.txt\n",
      "search_china.txt\n",
      "tw_old台湾历史书 - 高中历史第三册.txt\n",
      "tw_南一第二.txt\n",
      "tw_康熹.txt\n"
     ]
    }
   ],
   "source": [
    "\n",
    "i=0\n",
    "book_file_name = []\n",
    "book_length=[]\n",
    "for file in os.listdir(path):\n",
    "    if not file.startswith('.'):\n",
    "        file_path = os.path.join(path, file)\n",
    "        if os.path.isfile(file_path) and file.endswith(\".txt\"):\n",
    "            with open(file_path) as f: \n",
    "                book[file] = f.read()\n",
    "                print(file)\n",
    "                book[file] = re.sub(\"[。，；:!：“、〈〉\\n\\t■◆”《》~ ;﹜﹛()*.,a-zA-Z「」﹔（）〔〕？\\d+]\", \"\", book[file])\n",
    "                book_file_name.append(file)\n",
    "                words[file]= jieba.cut(book[file], cut_all=True) #segmenting the content  \n",
    "                book2index[file] = i\n",
    "                for word in words[file]:\n",
    "                    if \"not found in Dictionary.\" in dictionary(word):\n",
    "                        pass\n",
    "                    else:\n",
    "                        WordDef[word] = dictionary(word)\n",
    "                        wordlist[i].append(word)\n",
    "                temp = len(book[file])\n",
    "                #print(temp)\n",
    "                i=i+1\n",
    "                #count number of words in each book\n",
    "                book_length.append(temp)"
   ]
  },
  {
   "cell_type": "code",
   "execution_count": 6,
   "metadata": {
    "collapsed": false
   },
   "outputs": [],
   "source": [
    "books = pd.DataFrame.from_dict(dict(zip(book_file_name, book_length)), orient = 'index').reset_index()\n",
    "books.columns = ['book_edition','book length']"
   ]
  },
  {
   "cell_type": "code",
   "execution_count": 7,
   "metadata": {
    "collapsed": false
   },
   "outputs": [],
   "source": [
    "from collections import Counter\n",
    "adjcount_res = [[] for i in range(NoFile)] \n",
    "adjcount = [[] for i in range(NoFile)] \n",
    "adjratio_res = [[] for i in range(NoFile)]\n",
    "adjratio = [[] for i in range(NoFile)]\n",
    "adjlist= [[] for i in range(NoFile)]\n",
    "adjlist_res = [[] for i in range(NoFile)]\n",
    "indiv_adj = [[] for i in range(NoFile)]\n",
    "indiv_adj_res = [[] for i in range(NoFile)]\n",
    "\n",
    "fucount = [[] for i in range(NoFile)] \n",
    "furatio = [[] for i in range(NoFile)]\n",
    "fulist= [[] for i in range(NoFile)]\n",
    "indiv_fu = [[] for i in range(NoFile)]\n",
    "\n",
    "stopwords = ['就','可以', '从','出','三','者','奕','著','可能','太平','鲁','交','分别','奉',\n",
    "             '為','對','便','张','係','喎','是','等','和','到','对','本','面','动', '相',\n",
    "             '在','了','为','以','月','年','人','下','於','已','来','于','一','可是',\n",
    "             '二','十','就','时','所','中','1','成','藉','來','然','但','或', '将', '不过','至',\n",
    "            '曾', '不', '又', '都', '却', '即', '已经', '自', '还', '随', '没有', '就是', \n",
    "             '还是', '另', '突', '可', '每', '尔','未', '年前', '尤其',  '至少', '乃','许',\n",
    "             '曾经','力','顶', '权','万' ,'勿', '故','居中','革命', '经济','先','英','定']\n",
    "    \n",
    "for i in range(NoFile):\n",
    "    adjcount[i] = 0\n",
    "    fucount[i] = 0\n",
    "    for j in range(len(wordlist[i])):\n",
    "        try: \n",
    "            temp = WordDef[wordlist[i][j]]\n",
    "            if (' 形 ' in temp or ' 成 ' in temp) and wordlist[i][j] not in stopwords:\n",
    "                adjcount[i] = adjcount[i]+1\n",
    "                adjlist[i].append(wordlist[i][j])\n",
    "                indiv_adj[i] = Counter(adjlist[i])\n",
    "            elif ' 副 ' in temp and wordlist[i][j] not in stopwords:\n",
    "                fucount[i] = fucount[i]+1\n",
    "                fulist[i].append(wordlist[i][j])\n",
    "                indiv_fu[i] = Counter(fulist[i])\n",
    "        except KeyError:\n",
    "            continue\n",
    "    adjratio[i] = adjcount[i]/book_length[i]        \n",
    "    furatio[i] = fucount[i]/book_length[i]\n",
    "            "
   ]
  },
  {
   "cell_type": "code",
   "execution_count": 8,
   "metadata": {
    "collapsed": false
   },
   "outputs": [],
   "source": [
    "hk_文達adj =indiv_adj[0] + indiv_adj[1] + indiv_adj[2]\n",
    "hk_現代adj =indiv_adj[3] + indiv_adj[4] + indiv_adj[5]\n",
    "ma_oldadj =indiv_adj[6] + indiv_adj[7] \n",
    "ma_人教adj =indiv_adj[8] + indiv_adj[9] + indiv_adj[10]\n",
    "ma_人民adj =indiv_adj[11] + indiv_adj[12] + indiv_adj[13]\n",
    "ma_岳麓adj =indiv_adj[14] + indiv_adj[15] + indiv_adj[16]\n",
    "searchadj =indiv_adj[17] \n",
    "tw_oldadj =indiv_adj[18] \n",
    "tw_南一adj =indiv_adj[19] \n",
    "tw_康熹adj =indiv_adj[20] \n"
   ]
  },
  {
   "cell_type": "code",
   "execution_count": 40,
   "metadata": {
    "collapsed": false
   },
   "outputs": [
    {
     "data": {
      "text/html": [
       "<div>\n",
       "<table border=\"1\" class=\"dataframe\">\n",
       "  <thead>\n",
       "    <tr style=\"text-align: right;\">\n",
       "      <th></th>\n",
       "      <th>adj</th>\n",
       "      <th>count</th>\n",
       "    </tr>\n",
       "  </thead>\n",
       "  <tbody>\n",
       "    <tr>\n",
       "      <th>232</th>\n",
       "      <td>开放</td>\n",
       "      <td>69</td>\n",
       "    </tr>\n",
       "    <tr>\n",
       "      <th>321</th>\n",
       "      <td>民主</td>\n",
       "      <td>58</td>\n",
       "    </tr>\n",
       "    <tr>\n",
       "      <th>74</th>\n",
       "      <td>国际</td>\n",
       "      <td>53</td>\n",
       "    </tr>\n",
       "    <tr>\n",
       "      <th>307</th>\n",
       "      <td>严重</td>\n",
       "      <td>48</td>\n",
       "    </tr>\n",
       "    <tr>\n",
       "      <th>101</th>\n",
       "      <td>联合</td>\n",
       "      <td>45</td>\n",
       "    </tr>\n",
       "  </tbody>\n",
       "</table>\n",
       "</div>"
      ],
      "text/plain": [
       "    adj  count\n",
       "232  开放     69\n",
       "321  民主     58\n",
       "74   国际     53\n",
       "307  严重     48\n",
       "101  联合     45"
      ]
     },
     "execution_count": 40,
     "metadata": {},
     "output_type": "execute_result"
    }
   ],
   "source": [
    "d = hk_文達adj\n",
    "df = pd.DataFrame.from_dict(d, orient='index').reset_index()\n",
    "df.columns = ['adj','count']\n",
    "\n",
    "bigram = df[df['adj'].str.len() == 2]\n",
    "bigram.sort(['count'],ascending = False).head(5)\n"
   ]
  },
  {
   "cell_type": "code",
   "execution_count": 42,
   "metadata": {
    "collapsed": false
   },
   "outputs": [
    {
     "data": {
      "text/html": [
       "<div>\n",
       "<table border=\"1\" class=\"dataframe\">\n",
       "  <thead>\n",
       "    <tr style=\"text-align: right;\">\n",
       "      <th></th>\n",
       "      <th>adj</th>\n",
       "      <th>count</th>\n",
       "    </tr>\n",
       "  </thead>\n",
       "  <tbody>\n",
       "    <tr>\n",
       "      <th>761</th>\n",
       "      <td>内忧外患</td>\n",
       "      <td>5</td>\n",
       "    </tr>\n",
       "    <tr>\n",
       "      <th>343</th>\n",
       "      <td>实事求是</td>\n",
       "      <td>4</td>\n",
       "    </tr>\n",
       "    <tr>\n",
       "      <th>361</th>\n",
       "      <td>前所未有</td>\n",
       "      <td>4</td>\n",
       "    </tr>\n",
       "    <tr>\n",
       "      <th>147</th>\n",
       "      <td>自负盈亏</td>\n",
       "      <td>3</td>\n",
       "    </tr>\n",
       "    <tr>\n",
       "      <th>752</th>\n",
       "      <td>国计民生</td>\n",
       "      <td>3</td>\n",
       "    </tr>\n",
       "  </tbody>\n",
       "</table>\n",
       "</div>"
      ],
      "text/plain": [
       "      adj  count\n",
       "761  内忧外患      5\n",
       "343  实事求是      4\n",
       "361  前所未有      4\n",
       "147  自负盈亏      3\n",
       "752  国计民生      3"
      ]
     },
     "execution_count": 42,
     "metadata": {},
     "output_type": "execute_result"
    }
   ],
   "source": [
    "quadgram = df[df['adj'].str.len() == 4]\n",
    "quadgram.sort(['count'],ascending = False).head(5)\n"
   ]
  },
  {
   "cell_type": "code",
   "execution_count": 43,
   "metadata": {
    "collapsed": false
   },
   "outputs": [
    {
     "data": {
      "text/html": [
       "<div>\n",
       "<table border=\"1\" class=\"dataframe\">\n",
       "  <thead>\n",
       "    <tr style=\"text-align: right;\">\n",
       "      <th></th>\n",
       "      <th>adj</th>\n",
       "      <th>count</th>\n",
       "    </tr>\n",
       "  </thead>\n",
       "  <tbody>\n",
       "    <tr>\n",
       "      <th>263</th>\n",
       "      <td>开放</td>\n",
       "      <td>98</td>\n",
       "    </tr>\n",
       "    <tr>\n",
       "      <th>386</th>\n",
       "      <td>和平</td>\n",
       "      <td>76</td>\n",
       "    </tr>\n",
       "    <tr>\n",
       "      <th>472</th>\n",
       "      <td>国际</td>\n",
       "      <td>68</td>\n",
       "    </tr>\n",
       "    <tr>\n",
       "      <th>115</th>\n",
       "      <td>联合</td>\n",
       "      <td>67</td>\n",
       "    </tr>\n",
       "    <tr>\n",
       "      <th>355</th>\n",
       "      <td>民主</td>\n",
       "      <td>60</td>\n",
       "    </tr>\n",
       "  </tbody>\n",
       "</table>\n",
       "</div>"
      ],
      "text/plain": [
       "    adj  count\n",
       "263  开放     98\n",
       "386  和平     76\n",
       "472  国际     68\n",
       "115  联合     67\n",
       "355  民主     60"
      ]
     },
     "execution_count": 43,
     "metadata": {},
     "output_type": "execute_result"
    }
   ],
   "source": [
    "\n",
    "d = hk_現代adj\n",
    "df = pd.DataFrame.from_dict(d, orient='index').reset_index()\n",
    "df.columns = ['adj','count']\n",
    "\n",
    "bigram = df[df['adj'].str.len() == 2]\n",
    "bigram.sort(['count'],ascending = False).head(5)"
   ]
  },
  {
   "cell_type": "code",
   "execution_count": 44,
   "metadata": {
    "collapsed": false
   },
   "outputs": [
    {
     "data": {
      "text/html": [
       "<div>\n",
       "<table border=\"1\" class=\"dataframe\">\n",
       "  <thead>\n",
       "    <tr style=\"text-align: right;\">\n",
       "      <th></th>\n",
       "      <th>adj</th>\n",
       "      <th>count</th>\n",
       "    </tr>\n",
       "  </thead>\n",
       "  <tbody>\n",
       "    <tr>\n",
       "      <th>718</th>\n",
       "      <td>独立自主</td>\n",
       "      <td>14</td>\n",
       "    </tr>\n",
       "    <tr>\n",
       "      <th>383</th>\n",
       "      <td>内忧外患</td>\n",
       "      <td>6</td>\n",
       "    </tr>\n",
       "    <tr>\n",
       "      <th>609</th>\n",
       "      <td>有识之士</td>\n",
       "      <td>6</td>\n",
       "    </tr>\n",
       "    <tr>\n",
       "      <th>417</th>\n",
       "      <td>迫在眉睫</td>\n",
       "      <td>4</td>\n",
       "    </tr>\n",
       "    <tr>\n",
       "      <th>164</th>\n",
       "      <td>自负盈亏</td>\n",
       "      <td>3</td>\n",
       "    </tr>\n",
       "  </tbody>\n",
       "</table>\n",
       "</div>"
      ],
      "text/plain": [
       "      adj  count\n",
       "718  独立自主     14\n",
       "383  内忧外患      6\n",
       "609  有识之士      6\n",
       "417  迫在眉睫      4\n",
       "164  自负盈亏      3"
      ]
     },
     "execution_count": 44,
     "metadata": {},
     "output_type": "execute_result"
    }
   ],
   "source": [
    "quadgram = df[df['adj'].str.len() == 4]\n",
    "quadgram.sort(['count'],ascending = False).head(5)"
   ]
  },
  {
   "cell_type": "code",
   "execution_count": 9,
   "metadata": {
    "collapsed": false
   },
   "outputs": [
    {
     "data": {
      "text/html": [
       "<div>\n",
       "<table border=\"1\" class=\"dataframe\">\n",
       "  <thead>\n",
       "    <tr style=\"text-align: right;\">\n",
       "      <th></th>\n",
       "      <th>adj</th>\n",
       "      <th>count</th>\n",
       "    </tr>\n",
       "  </thead>\n",
       "  <tbody>\n",
       "    <tr>\n",
       "      <th>810</th>\n",
       "      <td>民主</td>\n",
       "      <td>229</td>\n",
       "    </tr>\n",
       "    <tr>\n",
       "      <th>979</th>\n",
       "      <td>国际</td>\n",
       "      <td>169</td>\n",
       "    </tr>\n",
       "    <tr>\n",
       "      <th>570</th>\n",
       "      <td>科学</td>\n",
       "      <td>153</td>\n",
       "    </tr>\n",
       "    <tr>\n",
       "      <th>753</th>\n",
       "      <td>自由</td>\n",
       "      <td>133</td>\n",
       "    </tr>\n",
       "    <tr>\n",
       "      <th>776</th>\n",
       "      <td>主要</td>\n",
       "      <td>131</td>\n",
       "    </tr>\n",
       "  </tbody>\n",
       "</table>\n",
       "</div>"
      ],
      "text/plain": [
       "    adj  count\n",
       "810  民主    229\n",
       "979  国际    169\n",
       "570  科学    153\n",
       "753  自由    133\n",
       "776  主要    131"
      ]
     },
     "execution_count": 9,
     "metadata": {},
     "output_type": "execute_result"
    }
   ],
   "source": [
    "\n",
    "d = ma_人民adj\n",
    "df = pd.DataFrame.from_dict(d, orient='index').reset_index()\n",
    "df.columns = ['adj','count']\n",
    "\n",
    "bigram = df[df['adj'].str.len() == 2]\n",
    "bigram.sort(['count'],ascending = False).head(5)"
   ]
  },
  {
   "cell_type": "code",
   "execution_count": 10,
   "metadata": {
    "collapsed": false
   },
   "outputs": [
    {
     "data": {
      "text/html": [
       "<div>\n",
       "<table border=\"1\" class=\"dataframe\">\n",
       "  <thead>\n",
       "    <tr style=\"text-align: right;\">\n",
       "      <th></th>\n",
       "      <th>adj</th>\n",
       "      <th>count</th>\n",
       "    </tr>\n",
       "  </thead>\n",
       "  <tbody>\n",
       "    <tr>\n",
       "      <th>167</th>\n",
       "      <td>独立自主</td>\n",
       "      <td>16</td>\n",
       "    </tr>\n",
       "    <tr>\n",
       "      <th>805</th>\n",
       "      <td>实事求是</td>\n",
       "      <td>11</td>\n",
       "    </tr>\n",
       "    <tr>\n",
       "      <th>1100</th>\n",
       "      <td>与时俱进</td>\n",
       "      <td>6</td>\n",
       "    </tr>\n",
       "    <tr>\n",
       "      <th>1056</th>\n",
       "      <td>轰轰烈烈</td>\n",
       "      <td>6</td>\n",
       "    </tr>\n",
       "    <tr>\n",
       "      <th>45</th>\n",
       "      <td>拨乱反正</td>\n",
       "      <td>5</td>\n",
       "    </tr>\n",
       "  </tbody>\n",
       "</table>\n",
       "</div>"
      ],
      "text/plain": [
       "       adj  count\n",
       "167   独立自主     16\n",
       "805   实事求是     11\n",
       "1100  与时俱进      6\n",
       "1056  轰轰烈烈      6\n",
       "45    拨乱反正      5"
      ]
     },
     "execution_count": 10,
     "metadata": {},
     "output_type": "execute_result"
    }
   ],
   "source": [
    "quadgram = df[df['adj'].str.len() == 4]\n",
    "quadgram.sort(['count'],ascending = False).head(5)"
   ]
  },
  {
   "cell_type": "code",
   "execution_count": 52,
   "metadata": {
    "collapsed": false
   },
   "outputs": [
    {
     "data": {
      "text/html": [
       "<div>\n",
       "<table border=\"1\" class=\"dataframe\">\n",
       "  <thead>\n",
       "    <tr style=\"text-align: right;\">\n",
       "      <th></th>\n",
       "      <th>adj</th>\n",
       "      <th>count</th>\n",
       "    </tr>\n",
       "  </thead>\n",
       "  <tbody>\n",
       "    <tr>\n",
       "      <th>499</th>\n",
       "      <td>民主</td>\n",
       "      <td>124</td>\n",
       "    </tr>\n",
       "    <tr>\n",
       "      <th>492</th>\n",
       "      <td>科学</td>\n",
       "      <td>47</td>\n",
       "    </tr>\n",
       "    <tr>\n",
       "      <th>539</th>\n",
       "      <td>重要</td>\n",
       "      <td>43</td>\n",
       "    </tr>\n",
       "    <tr>\n",
       "      <th>546</th>\n",
       "      <td>和平</td>\n",
       "      <td>43</td>\n",
       "    </tr>\n",
       "    <tr>\n",
       "      <th>13</th>\n",
       "      <td>统一</td>\n",
       "      <td>34</td>\n",
       "    </tr>\n",
       "  </tbody>\n",
       "</table>\n",
       "</div>"
      ],
      "text/plain": [
       "    adj  count\n",
       "499  民主    124\n",
       "492  科学     47\n",
       "539  重要     43\n",
       "546  和平     43\n",
       "13   统一     34"
      ]
     },
     "execution_count": 52,
     "metadata": {},
     "output_type": "execute_result"
    }
   ],
   "source": [
    "\n",
    "d = ma_岳麓adj\n",
    "df = pd.DataFrame.from_dict(d, orient='index').reset_index()\n",
    "df.columns = ['adj','count']\n",
    "\n",
    "bigram = df[df['adj'].str.len() == 2]\n",
    "bigram.sort(['count'],ascending = False).head(5)"
   ]
  },
  {
   "cell_type": "code",
   "execution_count": 53,
   "metadata": {
    "collapsed": false
   },
   "outputs": [
    {
     "data": {
      "text/html": [
       "<div>\n",
       "<table border=\"1\" class=\"dataframe\">\n",
       "  <thead>\n",
       "    <tr style=\"text-align: right;\">\n",
       "      <th></th>\n",
       "      <th>adj</th>\n",
       "      <th>count</th>\n",
       "    </tr>\n",
       "  </thead>\n",
       "  <tbody>\n",
       "    <tr>\n",
       "      <th>382</th>\n",
       "      <td>独立自主</td>\n",
       "      <td>5</td>\n",
       "    </tr>\n",
       "    <tr>\n",
       "      <th>342</th>\n",
       "      <td>百花齐放</td>\n",
       "      <td>4</td>\n",
       "    </tr>\n",
       "    <tr>\n",
       "      <th>376</th>\n",
       "      <td>深入人心</td>\n",
       "      <td>3</td>\n",
       "    </tr>\n",
       "    <tr>\n",
       "      <th>390</th>\n",
       "      <td>当家做主</td>\n",
       "      <td>3</td>\n",
       "    </tr>\n",
       "    <tr>\n",
       "      <th>331</th>\n",
       "      <td>拨乱反正</td>\n",
       "      <td>3</td>\n",
       "    </tr>\n",
       "  </tbody>\n",
       "</table>\n",
       "</div>"
      ],
      "text/plain": [
       "      adj  count\n",
       "382  独立自主      5\n",
       "342  百花齐放      4\n",
       "376  深入人心      3\n",
       "390  当家做主      3\n",
       "331  拨乱反正      3"
      ]
     },
     "execution_count": 53,
     "metadata": {},
     "output_type": "execute_result"
    }
   ],
   "source": [
    "quadgram = df[df['adj'].str.len() == 4]\n",
    "quadgram.sort(['count'],ascending = False).head(5)"
   ]
  },
  {
   "cell_type": "code",
   "execution_count": 54,
   "metadata": {
    "collapsed": false
   },
   "outputs": [
    {
     "data": {
      "text/html": [
       "<div>\n",
       "<table border=\"1\" class=\"dataframe\">\n",
       "  <thead>\n",
       "    <tr style=\"text-align: right;\">\n",
       "      <th></th>\n",
       "      <th>adj</th>\n",
       "      <th>count</th>\n",
       "    </tr>\n",
       "  </thead>\n",
       "  <tbody>\n",
       "    <tr>\n",
       "      <th>105</th>\n",
       "      <td>国际</td>\n",
       "      <td>28</td>\n",
       "    </tr>\n",
       "    <tr>\n",
       "      <th>489</th>\n",
       "      <td>重要</td>\n",
       "      <td>28</td>\n",
       "    </tr>\n",
       "    <tr>\n",
       "      <th>331</th>\n",
       "      <td>开放</td>\n",
       "      <td>22</td>\n",
       "    </tr>\n",
       "    <tr>\n",
       "      <th>485</th>\n",
       "      <td>积极</td>\n",
       "      <td>21</td>\n",
       "    </tr>\n",
       "    <tr>\n",
       "      <th>103</th>\n",
       "      <td>主要</td>\n",
       "      <td>19</td>\n",
       "    </tr>\n",
       "  </tbody>\n",
       "</table>\n",
       "</div>"
      ],
      "text/plain": [
       "    adj  count\n",
       "105  国际     28\n",
       "489  重要     28\n",
       "331  开放     22\n",
       "485  积极     21\n",
       "103  主要     19"
      ]
     },
     "execution_count": 54,
     "metadata": {},
     "output_type": "execute_result"
    }
   ],
   "source": [
    "\n",
    "d = tw_南一adj\n",
    "df = pd.DataFrame.from_dict(d, orient='index').reset_index()\n",
    "df.columns = ['adj','count']\n",
    "\n",
    "bigram = df[df['adj'].str.len() == 2]\n",
    "bigram.sort(['count'],ascending = False).head(5)"
   ]
  },
  {
   "cell_type": "code",
   "execution_count": 55,
   "metadata": {
    "collapsed": false
   },
   "outputs": [
    {
     "data": {
      "text/html": [
       "<div>\n",
       "<table border=\"1\" class=\"dataframe\">\n",
       "  <thead>\n",
       "    <tr style=\"text-align: right;\">\n",
       "      <th></th>\n",
       "      <th>adj</th>\n",
       "      <th>count</th>\n",
       "    </tr>\n",
       "  </thead>\n",
       "  <tbody>\n",
       "    <tr>\n",
       "      <th>462</th>\n",
       "      <td>才子佳人</td>\n",
       "      <td>2</td>\n",
       "    </tr>\n",
       "    <tr>\n",
       "      <th>77</th>\n",
       "      <td>救亡图存</td>\n",
       "      <td>2</td>\n",
       "    </tr>\n",
       "    <tr>\n",
       "      <th>422</th>\n",
       "      <td>痛定思痛</td>\n",
       "      <td>2</td>\n",
       "    </tr>\n",
       "    <tr>\n",
       "      <th>493</th>\n",
       "      <td>剑拔弩张</td>\n",
       "      <td>2</td>\n",
       "    </tr>\n",
       "    <tr>\n",
       "      <th>122</th>\n",
       "      <td>改弦易辙</td>\n",
       "      <td>2</td>\n",
       "    </tr>\n",
       "  </tbody>\n",
       "</table>\n",
       "</div>"
      ],
      "text/plain": [
       "      adj  count\n",
       "462  才子佳人      2\n",
       "77   救亡图存      2\n",
       "422  痛定思痛      2\n",
       "493  剑拔弩张      2\n",
       "122  改弦易辙      2"
      ]
     },
     "execution_count": 55,
     "metadata": {},
     "output_type": "execute_result"
    }
   ],
   "source": [
    "quadgram = df[df['adj'].str.len() == 4]\n",
    "quadgram.sort(['count'],ascending = False).head(5)"
   ]
  },
  {
   "cell_type": "code",
   "execution_count": 56,
   "metadata": {
    "collapsed": false
   },
   "outputs": [
    {
     "data": {
      "text/html": [
       "<div>\n",
       "<table border=\"1\" class=\"dataframe\">\n",
       "  <thead>\n",
       "    <tr style=\"text-align: right;\">\n",
       "      <th></th>\n",
       "      <th>adj</th>\n",
       "      <th>count</th>\n",
       "    </tr>\n",
       "  </thead>\n",
       "  <tbody>\n",
       "    <tr>\n",
       "      <th>100</th>\n",
       "      <td>国际</td>\n",
       "      <td>34</td>\n",
       "    </tr>\n",
       "    <tr>\n",
       "      <th>325</th>\n",
       "      <td>开放</td>\n",
       "      <td>32</td>\n",
       "    </tr>\n",
       "    <tr>\n",
       "      <th>478</th>\n",
       "      <td>重要</td>\n",
       "      <td>30</td>\n",
       "    </tr>\n",
       "    <tr>\n",
       "      <th>441</th>\n",
       "      <td>民主</td>\n",
       "      <td>25</td>\n",
       "    </tr>\n",
       "    <tr>\n",
       "      <th>215</th>\n",
       "      <td>成功</td>\n",
       "      <td>25</td>\n",
       "    </tr>\n",
       "  </tbody>\n",
       "</table>\n",
       "</div>"
      ],
      "text/plain": [
       "    adj  count\n",
       "100  国际     34\n",
       "325  开放     32\n",
       "478  重要     30\n",
       "441  民主     25\n",
       "215  成功     25"
      ]
     },
     "execution_count": 56,
     "metadata": {},
     "output_type": "execute_result"
    }
   ],
   "source": [
    "\n",
    "d = tw_康熹adj\n",
    "df = pd.DataFrame.from_dict(d, orient='index').reset_index()\n",
    "df.columns = ['adj','count']\n",
    "\n",
    "bigram = df[df['adj'].str.len() == 2]\n",
    "bigram.sort(['count'],ascending = False).head(5)"
   ]
  },
  {
   "cell_type": "code",
   "execution_count": 57,
   "metadata": {
    "collapsed": false
   },
   "outputs": [
    {
     "data": {
      "text/html": [
       "<div>\n",
       "<table border=\"1\" class=\"dataframe\">\n",
       "  <thead>\n",
       "    <tr style=\"text-align: right;\">\n",
       "      <th></th>\n",
       "      <th>adj</th>\n",
       "      <th>count</th>\n",
       "    </tr>\n",
       "  </thead>\n",
       "  <tbody>\n",
       "    <tr>\n",
       "      <th>211</th>\n",
       "      <td>有识之士</td>\n",
       "      <td>3</td>\n",
       "    </tr>\n",
       "    <tr>\n",
       "      <th>17</th>\n",
       "      <td>苛捐杂税</td>\n",
       "      <td>2</td>\n",
       "    </tr>\n",
       "    <tr>\n",
       "      <th>532</th>\n",
       "      <td>孤立无援</td>\n",
       "      <td>2</td>\n",
       "    </tr>\n",
       "    <tr>\n",
       "      <th>328</th>\n",
       "      <td>崭露头角</td>\n",
       "      <td>2</td>\n",
       "    </tr>\n",
       "    <tr>\n",
       "      <th>481</th>\n",
       "      <td>内忧外患</td>\n",
       "      <td>2</td>\n",
       "    </tr>\n",
       "  </tbody>\n",
       "</table>\n",
       "</div>"
      ],
      "text/plain": [
       "      adj  count\n",
       "211  有识之士      3\n",
       "17   苛捐杂税      2\n",
       "532  孤立无援      2\n",
       "328  崭露头角      2\n",
       "481  内忧外患      2"
      ]
     },
     "execution_count": 57,
     "metadata": {},
     "output_type": "execute_result"
    }
   ],
   "source": [
    "quadgram = df[df['adj'].str.len() == 4]\n",
    "quadgram.sort(['count'],ascending = False).head(5)"
   ]
  },
  {
   "cell_type": "code",
   "execution_count": 11,
   "metadata": {
    "collapsed": true
   },
   "outputs": [],
   "source": [
    "hk_文達fu =indiv_fu[0] + indiv_fu[1] + indiv_fu[2]\n",
    "hk_現代fu =indiv_fu[3] + indiv_fu[4] + indiv_fu[5]\n",
    "ma_oldfu =indiv_fu[6] + indiv_fu[7] \n",
    "ma_人教fu =indiv_fu[8] + indiv_fu[9] + indiv_fu[10]\n",
    "ma_人民fu =indiv_fu[11] + indiv_fu[12] + indiv_fu[13]\n",
    "ma_岳麓fu =indiv_fu[14] + indiv_fu[15] + indiv_fu[16]\n",
    "searchfu =indiv_fu[17] \n",
    "tw_oldfu =indiv_fu[18] \n",
    "tw_南一fu =indiv_fu[19] \n",
    "tw_康熹fu =indiv_fu[20]"
   ]
  },
  {
   "cell_type": "code",
   "execution_count": 12,
   "metadata": {
    "collapsed": false
   },
   "outputs": [
    {
     "data": {
      "text/plain": [
       "Counter({'最': 334, '必须': 259, '似乎': 141, '仅': 122, '十分': 120, '儘': 112, '进一步': 112, '重新': 95, '或许': 92, '逐渐': 82, '不断': 76, '或者': 75, '依然': 74, '再': 71, '千万': 69, '像': 68, '只是': 68, '逾': 65, '往往': 64, '再度': 63, '有些': 62, '一一': 61, '仍然': 60, '显然': 58, '再次': 55, '很': 55, '另外': 52, '不仅': 52, '其实': 52, '一直': 52, '一起': 50, '几乎': 49, '大都': 48, '正在': 46, '一连': 44, '事实上': 43, '即将': 43, '是否': 37, '欲': 37, '非': 36, '各个': 36, '一度': 33, '比较': 32, '足以': 32, '复': 31, '有时': 30, '一时': 30, '大多': 30, '反而': 30, '日益': 29, '时刻': 29, '一旦': 28, '重': 28, '大约': 27, '越来越': 27, '只不过': 26, '总是': 26, '势必': 26, '旋即': 25, '重点': 25, '容': 25, '首先': 24, '始': 24, '逐步': 23, '一同': 23, '原本': 23, '极端': 23, '大力': 23, '既': 22, '有意': 22, '稍': 20, '的确': 20, '暂时': 20, '唯有': 19, '随即': 19, '连': 19, '同': 18, '无意': 18, '必': 18, '即刻': 18, '立即': 18, '新近': 17, '一例': 17, '更加': 17, '终究': 17, '从未': 16, '向来': 16, '早已': 16, '无论如何': 15, '基本上': 15, '率先': 15, '从中': 15, '不必': 15, '尽': 14, '时而': 14, '亲自': 14, '极为': 14, '大肆': 14, '内外': 13, '止': 13, '大举': 13, '不时': 13, '迄': 13, '实际上': 13, '不如': 13, '一再': 13, '渐渐': 12, '刻意': 12, '断': 12, '极力': 12, '约莫': 12, '益发': 11, '到处': 11, '有史以来': 11, '多少': 11, '沿线': 11, '益': 10, '不已': 10, '始终': 10, '大事': 10, '依旧': 10, '容许': 10, '随时': 10, '痛': 10, '从此': 9, '大体': 9, '顾': 9, '大抵': 9, '必定': 9, '就要': 9, '犹': 9, '总共': 9, '到底': 8, '恐怕': 8, '无非': 8, '大大': 8, '一向': 8, '日渐': 8, '公然': 8, '日趋': 8, '顿时': 8, '一道': 8, '大为': 8, '立地': 8, '亲眼': 8, '一手': 7, '也许': 7, '立刻': 7, '毕竟': 7, '竟然': 7, '就此': 7, '向前': 7, '永远': 7, '一举': 7, '相继': 7, '怕': 7, '一面': 7, '一路': 7, '何等': 6, '恣意': 6, '马上': 6, '深深': 6, '自行': 6, '颇为': 6, '不曾': 6, '一发': 6, '不够': 6, '逐一': 6, '全都': 6, '究竟': 6, '不用': 6, '层层': 6, '一块': 6, '旅': 6, '凡是': 6, '反过来': 6, '尽可能': 6, '毫不': 6, '一经': 5, '不免': 5, '由此': 5, '眼看': 5, '节节': 5, '迄今': 5, '没': 5, '一动': 5, '反倒': 5, '眼见': 5, '暗中': 5, '居然': 5, '互相': 5, '至今': 5, '常常': 5, '成年': 5, '垂': 5, '单独': 5, '恰好': 5, '竞相': 4, '只好': 4, '极度': 4, '独自': 4, '偶尔': 4, '如实': 4, '一味': 4, '一概': 4, '实地': 4, '格外': 4, '而今': 4, '故意': 4, '算是': 4, '无从': 4, '一气': 4, '悍然': 4, '极其': 4, '大半': 4, '将要': 4, '简直': 4, '历来': 4, '趁势': 4, '私下': 4, '决': 4, '好像': 4, '不胜': 4, '万难': 4, '悉': 4, '久久': 4, '仅仅': 4, '从小': 3, '径': 3, '果真': 3, '至死': 3, '务': 3, '难道': 3, '想必': 3, '当众': 3, '多半': 3, '自来': 3, '迎风': 3, '锐意': 3, '偷偷': 3, '未尝': 3, '至多': 3, '陆续': 3, '互': 3, '多方': 3, '宁可': 3, '早就': 3, '趁机': 3, '概': 3, '迟迟': 3, '莫': 3, '一下': 3, '从不': 3, '情愿': 3, '正如': 3, '何不': 2, '实则': 2, '沿街': 2, '成日': 2, '苦心': 2, '自相': 2, '挨家挨户': 2, '顺势': 2, '素来': 2, '屡': 2, '统': 2, '自古': 2, '一会': 2, '屡次': 2, '时时': 2, '毋': 2, '迎头': 2, '每每': 2, '尽量': 2, '就近': 2, '恐': 2, '火速': 2, '未必': 2, '不禁': 2, '略为': 2, '顺道': 2, '终归': 2, '高低': 2, '至极': 2, '嚮': 2, '有意识': 2, '频频': 2, '照例': 2, '果': 2, '逐年': 2, '多多': 2, '执意': 2, '时常': 2, '纯属': 2, '并肩': 2, '万万': 2, '一头': 2, '立时': 2, '贸然': 2, '满心': 2, '不见得': 2, '边': 2, '纵情': 2, '如数': 2, '莫不': 2, '旋': 2, '因故': 2, '连连': 2, '从来': 2, '一朝': 2, '难怪': 2, '只得': 2, '按例': 2, '随处': 2, '如期': 2, '到头来': 1, '倍': 1, '整整': 1, '面对面': 1, '按时': 1, '一口气': 1, '赶快': 1, '非得': 1, '保管': 1, '通通': 1, '通共': 1, '忽然': 1, '特地': 1, '顺序': 1, '徐': 1, '险些': 1, '愈发': 1, '霍': 1, '不单': 1, '从头': 1, '论理': 1, '大幅度': 1, '照旧': 1, '算': 1, '卒': 1, '忽地': 1, '预先': 1, '随地': 1, '递': 1, '不妨': 1, '暗自': 1, '即时': 1, '秉公': 1, '宁愿': 1, '辱': 1, '独力': 1, '屡屡': 1, '适才': 1, '向下': 1, '窃': 1, '骤然': 1, '冷不防': 1, '切勿': 1, '幸而': 1, '照样': 1, '飞速': 1, '决计': 1, '就势': 1, '根': 1, '连夜': 1, '否': 1, '一并': 1, '顶多': 1, '永世': 1, '何必': 1, '万分': 1, '徒然': 1, '私底下': 1, '活活': 1, '八成': 1, '当场': 1, '亲手': 1, '一口': 1, '按期': 1, '自幼': 1, '当头': 1, '果然': 1, '总算': 1, '赶忙': 1, '嘎然': 1, '现如今': 1, '刚好': 1, '无故': 1, '齐声': 1, '究': 1, '猛然': 1, '倏忽': 1, '彻夜': 1, '越加': 1, '必得': 1, '愈加': 1, '迭': 1, '乘机': 1, '躬': 1, '约略': 1, '紧紧': 1, '敞开': 1, '已然': 1})"
      ]
     },
     "execution_count": 12,
     "metadata": {},
     "output_type": "execute_result"
    }
   ],
   "source": [
    "searchfu"
   ]
  },
  {
   "cell_type": "code",
   "execution_count": 185,
   "metadata": {
    "collapsed": false
   },
   "outputs": [
    {
     "data": {
      "text/html": [
       "<div>\n",
       "<table border=\"1\" class=\"dataframe\">\n",
       "  <thead>\n",
       "    <tr style=\"text-align: right;\">\n",
       "      <th></th>\n",
       "      <th>book</th>\n",
       "      <th>col_ind</th>\n",
       "      <th>adj_ratio</th>\n",
       "      <th>book_length</th>\n",
       "      <th>fu_ratio</th>\n",
       "      <th>adj_count</th>\n",
       "      <th>fu_count</th>\n",
       "      <th>region</th>\n",
       "    </tr>\n",
       "  </thead>\n",
       "  <tbody>\n",
       "    <tr>\n",
       "      <th>19</th>\n",
       "      <td>hk_文達必修4.txt</td>\n",
       "      <td>0</td>\n",
       "      <td>0.046842</td>\n",
       "      <td>23099</td>\n",
       "      <td>0.011386</td>\n",
       "      <td>1082</td>\n",
       "      <td>263</td>\n",
       "      <td>hk_文達</td>\n",
       "    </tr>\n",
       "    <tr>\n",
       "      <th>12</th>\n",
       "      <td>hk_文達必修5.txt</td>\n",
       "      <td>1</td>\n",
       "      <td>0.039397</td>\n",
       "      <td>19367</td>\n",
       "      <td>0.010327</td>\n",
       "      <td>763</td>\n",
       "      <td>200</td>\n",
       "      <td>hk_文達</td>\n",
       "    </tr>\n",
       "    <tr>\n",
       "      <th>8</th>\n",
       "      <td>hk_文達必修6.txt</td>\n",
       "      <td>2</td>\n",
       "      <td>0.049540</td>\n",
       "      <td>27735</td>\n",
       "      <td>0.010997</td>\n",
       "      <td>1374</td>\n",
       "      <td>305</td>\n",
       "      <td>hk_文達</td>\n",
       "    </tr>\n",
       "    <tr>\n",
       "      <th>9</th>\n",
       "      <td>hk_現代4下.txt</td>\n",
       "      <td>3</td>\n",
       "      <td>0.046136</td>\n",
       "      <td>27679</td>\n",
       "      <td>0.010911</td>\n",
       "      <td>1277</td>\n",
       "      <td>302</td>\n",
       "      <td>hk_現代</td>\n",
       "    </tr>\n",
       "    <tr>\n",
       "      <th>10</th>\n",
       "      <td>hk_現代5上.txt</td>\n",
       "      <td>4</td>\n",
       "      <td>0.040775</td>\n",
       "      <td>30435</td>\n",
       "      <td>0.010284</td>\n",
       "      <td>1241</td>\n",
       "      <td>313</td>\n",
       "      <td>hk_現代</td>\n",
       "    </tr>\n",
       "    <tr>\n",
       "      <th>5</th>\n",
       "      <td>hk_現代5下.txt</td>\n",
       "      <td>5</td>\n",
       "      <td>0.049889</td>\n",
       "      <td>32973</td>\n",
       "      <td>0.008522</td>\n",
       "      <td>1645</td>\n",
       "      <td>281</td>\n",
       "      <td>hk_現代</td>\n",
       "    </tr>\n",
       "    <tr>\n",
       "      <th>16</th>\n",
       "      <td>ma_old人教版历史书.txt</td>\n",
       "      <td>6</td>\n",
       "      <td>0.048603</td>\n",
       "      <td>27961</td>\n",
       "      <td>0.009978</td>\n",
       "      <td>1359</td>\n",
       "      <td>279</td>\n",
       "      <td>ma_ol</td>\n",
       "    </tr>\n",
       "    <tr>\n",
       "      <th>14</th>\n",
       "      <td>ma_old人教版历史书下册.txt</td>\n",
       "      <td>7</td>\n",
       "      <td>0.055759</td>\n",
       "      <td>28964</td>\n",
       "      <td>0.009287</td>\n",
       "      <td>1615</td>\n",
       "      <td>269</td>\n",
       "      <td>ma_ol</td>\n",
       "    </tr>\n",
       "    <tr>\n",
       "      <th>17</th>\n",
       "      <td>ma_人教版高中历史必修一现代中国部分.txt</td>\n",
       "      <td>8</td>\n",
       "      <td>0.053690</td>\n",
       "      <td>19203</td>\n",
       "      <td>0.011092</td>\n",
       "      <td>1031</td>\n",
       "      <td>213</td>\n",
       "      <td>ma_人教</td>\n",
       "    </tr>\n",
       "    <tr>\n",
       "      <th>2</th>\n",
       "      <td>ma_人教版高中历史必修三现代中国部分.txt</td>\n",
       "      <td>9</td>\n",
       "      <td>0.057594</td>\n",
       "      <td>10765</td>\n",
       "      <td>0.009568</td>\n",
       "      <td>620</td>\n",
       "      <td>103</td>\n",
       "      <td>ma_人教</td>\n",
       "    </tr>\n",
       "    <tr>\n",
       "      <th>18</th>\n",
       "      <td>ma_人教版高中历史必修二现代中国部分.txt</td>\n",
       "      <td>10</td>\n",
       "      <td>0.056837</td>\n",
       "      <td>11577</td>\n",
       "      <td>0.010711</td>\n",
       "      <td>658</td>\n",
       "      <td>124</td>\n",
       "      <td>ma_人教</td>\n",
       "    </tr>\n",
       "    <tr>\n",
       "      <th>1</th>\n",
       "      <td>ma_人民版高中历史必修一现代中国部分.txt</td>\n",
       "      <td>11</td>\n",
       "      <td>0.053197</td>\n",
       "      <td>47296</td>\n",
       "      <td>0.008373</td>\n",
       "      <td>2516</td>\n",
       "      <td>396</td>\n",
       "      <td>ma_人民</td>\n",
       "    </tr>\n",
       "    <tr>\n",
       "      <th>11</th>\n",
       "      <td>ma_人民版高中历史必修三现代中国部分.txt</td>\n",
       "      <td>12</td>\n",
       "      <td>0.062246</td>\n",
       "      <td>46782</td>\n",
       "      <td>0.010367</td>\n",
       "      <td>2912</td>\n",
       "      <td>485</td>\n",
       "      <td>ma_人民</td>\n",
       "    </tr>\n",
       "    <tr>\n",
       "      <th>3</th>\n",
       "      <td>ma_人民版高中历史必修二现代中国部分.txt</td>\n",
       "      <td>13</td>\n",
       "      <td>0.052136</td>\n",
       "      <td>46340</td>\n",
       "      <td>0.009560</td>\n",
       "      <td>2416</td>\n",
       "      <td>443</td>\n",
       "      <td>ma_人民</td>\n",
       "    </tr>\n",
       "    <tr>\n",
       "      <th>15</th>\n",
       "      <td>ma_岳麓版高中历史必修一现代中国部分.txt</td>\n",
       "      <td>14</td>\n",
       "      <td>0.053867</td>\n",
       "      <td>17506</td>\n",
       "      <td>0.009997</td>\n",
       "      <td>943</td>\n",
       "      <td>175</td>\n",
       "      <td>ma_岳麓</td>\n",
       "    </tr>\n",
       "    <tr>\n",
       "      <th>20</th>\n",
       "      <td>ma_岳麓版高中历史必修三现代中国部分.txt</td>\n",
       "      <td>15</td>\n",
       "      <td>0.059989</td>\n",
       "      <td>11202</td>\n",
       "      <td>0.011069</td>\n",
       "      <td>672</td>\n",
       "      <td>124</td>\n",
       "      <td>ma_岳麓</td>\n",
       "    </tr>\n",
       "    <tr>\n",
       "      <th>7</th>\n",
       "      <td>ma_岳麓版高中历史必修二现代中国部分.txt</td>\n",
       "      <td>16</td>\n",
       "      <td>0.055980</td>\n",
       "      <td>10200</td>\n",
       "      <td>0.010392</td>\n",
       "      <td>571</td>\n",
       "      <td>106</td>\n",
       "      <td>ma_岳麓</td>\n",
       "    </tr>\n",
       "    <tr>\n",
       "      <th>6</th>\n",
       "      <td>search_china.txt</td>\n",
       "      <td>17</td>\n",
       "      <td>0.047338</td>\n",
       "      <td>410198</td>\n",
       "      <td>0.013718</td>\n",
       "      <td>19418</td>\n",
       "      <td>5627</td>\n",
       "      <td>searc</td>\n",
       "    </tr>\n",
       "    <tr>\n",
       "      <th>0</th>\n",
       "      <td>tw_old台湾历史书 - 高中历史第三册.txt</td>\n",
       "      <td>18</td>\n",
       "      <td>0.049617</td>\n",
       "      <td>46940</td>\n",
       "      <td>0.012292</td>\n",
       "      <td>2329</td>\n",
       "      <td>577</td>\n",
       "      <td>tw_ol</td>\n",
       "    </tr>\n",
       "    <tr>\n",
       "      <th>4</th>\n",
       "      <td>tw_南一第二.txt</td>\n",
       "      <td>19</td>\n",
       "      <td>0.049331</td>\n",
       "      <td>30792</td>\n",
       "      <td>0.012438</td>\n",
       "      <td>1519</td>\n",
       "      <td>383</td>\n",
       "      <td>tw_南一</td>\n",
       "    </tr>\n",
       "    <tr>\n",
       "      <th>13</th>\n",
       "      <td>tw_康熹.txt</td>\n",
       "      <td>20</td>\n",
       "      <td>0.044233</td>\n",
       "      <td>33640</td>\n",
       "      <td>0.011920</td>\n",
       "      <td>1488</td>\n",
       "      <td>401</td>\n",
       "      <td>tw_康熹</td>\n",
       "    </tr>\n",
       "  </tbody>\n",
       "</table>\n",
       "</div>"
      ],
      "text/plain": [
       "                         book  col_ind  adj_ratio  book_length  fu_ratio  \\\n",
       "19               hk_文達必修4.txt        0   0.046842        23099  0.011386   \n",
       "12               hk_文達必修5.txt        1   0.039397        19367  0.010327   \n",
       "8                hk_文達必修6.txt        2   0.049540        27735  0.010997   \n",
       "9                 hk_現代4下.txt        3   0.046136        27679  0.010911   \n",
       "10                hk_現代5上.txt        4   0.040775        30435  0.010284   \n",
       "5                 hk_現代5下.txt        5   0.049889        32973  0.008522   \n",
       "16           ma_old人教版历史书.txt        6   0.048603        27961  0.009978   \n",
       "14         ma_old人教版历史书下册.txt        7   0.055759        28964  0.009287   \n",
       "17    ma_人教版高中历史必修一现代中国部分.txt        8   0.053690        19203  0.011092   \n",
       "2     ma_人教版高中历史必修三现代中国部分.txt        9   0.057594        10765  0.009568   \n",
       "18    ma_人教版高中历史必修二现代中国部分.txt       10   0.056837        11577  0.010711   \n",
       "1     ma_人民版高中历史必修一现代中国部分.txt       11   0.053197        47296  0.008373   \n",
       "11    ma_人民版高中历史必修三现代中国部分.txt       12   0.062246        46782  0.010367   \n",
       "3     ma_人民版高中历史必修二现代中国部分.txt       13   0.052136        46340  0.009560   \n",
       "15    ma_岳麓版高中历史必修一现代中国部分.txt       14   0.053867        17506  0.009997   \n",
       "20    ma_岳麓版高中历史必修三现代中国部分.txt       15   0.059989        11202  0.011069   \n",
       "7     ma_岳麓版高中历史必修二现代中国部分.txt       16   0.055980        10200  0.010392   \n",
       "6            search_china.txt       17   0.047338       410198  0.013718   \n",
       "0   tw_old台湾历史书 - 高中历史第三册.txt       18   0.049617        46940  0.012292   \n",
       "4                 tw_南一第二.txt       19   0.049331        30792  0.012438   \n",
       "13                  tw_康熹.txt       20   0.044233        33640  0.011920   \n",
       "\n",
       "    adj_count  fu_count region  \n",
       "19       1082       263  hk_文達  \n",
       "12        763       200  hk_文達  \n",
       "8        1374       305  hk_文達  \n",
       "9        1277       302  hk_現代  \n",
       "10       1241       313  hk_現代  \n",
       "5        1645       281  hk_現代  \n",
       "16       1359       279  ma_ol  \n",
       "14       1615       269  ma_ol  \n",
       "17       1031       213  ma_人教  \n",
       "2         620       103  ma_人教  \n",
       "18        658       124  ma_人教  \n",
       "1        2516       396  ma_人民  \n",
       "11       2912       485  ma_人民  \n",
       "3        2416       443  ma_人民  \n",
       "15        943       175  ma_岳麓  \n",
       "20        672       124  ma_岳麓  \n",
       "7         571       106  ma_岳麓  \n",
       "6       19418      5627  searc  \n",
       "0        2329       577  tw_ol  \n",
       "4        1519       383  tw_南一  \n",
       "13       1488       401  tw_康熹  "
      ]
     },
     "execution_count": 185,
     "metadata": {},
     "output_type": "execute_result"
    }
   ],
   "source": [
    "#merge adjratio with textbook\n",
    "df = pd.DataFrame.from_dict(book2index, orient='index').reset_index()\n",
    "df.columns = ['book','col_ind']\n",
    "temp = pd.DataFrame({'adj_ratio': adjratio})\n",
    "futemp = pd.DataFrame({'fu_ratio': furatio})\n",
    "temp2 = pd.DataFrame({'book_length': book_length})\n",
    "temp3 = pd.merge(df, temp, left_on = 'col_ind', right_index = True)\n",
    "adjtemp = pd.merge(temp3, temp2, left_on =  'col_ind', right_index = True)\n",
    "df = pd.merge(adjtemp, futemp, left_on = 'col_ind', right_index= True )\n",
    "df['adj_count'] = df['book_length']*df['adj_ratio']\n",
    "df['fu_count'] = df['book_length']*df['fu_ratio']\n",
    "df['region']= df['book'].str[:5]\n",
    "df.sort(['col_ind'])\n",
    "#pd.concat([df, temp], axis=1, ignore_index=True)"
   ]
  },
  {
   "cell_type": "code",
   "execution_count": 186,
   "metadata": {
    "collapsed": false
   },
   "outputs": [
    {
     "data": {
      "text/html": [
       "<div>\n",
       "<table border=\"1\" class=\"dataframe\">\n",
       "  <thead>\n",
       "    <tr style=\"text-align: right;\">\n",
       "      <th></th>\n",
       "      <th>region</th>\n",
       "      <th>book_length</th>\n",
       "      <th>adj_count</th>\n",
       "      <th>fu_count</th>\n",
       "      <th>adj_ratio</th>\n",
       "      <th>fu_ratio</th>\n",
       "    </tr>\n",
       "  </thead>\n",
       "  <tbody>\n",
       "    <tr>\n",
       "      <th>0</th>\n",
       "      <td>hk_文達</td>\n",
       "      <td>70201</td>\n",
       "      <td>3219</td>\n",
       "      <td>768</td>\n",
       "      <td>0.045854</td>\n",
       "      <td>0.010940</td>\n",
       "    </tr>\n",
       "    <tr>\n",
       "      <th>1</th>\n",
       "      <td>hk_現代</td>\n",
       "      <td>91087</td>\n",
       "      <td>4163</td>\n",
       "      <td>896</td>\n",
       "      <td>0.045704</td>\n",
       "      <td>0.009837</td>\n",
       "    </tr>\n",
       "    <tr>\n",
       "      <th>2</th>\n",
       "      <td>ma_ol</td>\n",
       "      <td>56925</td>\n",
       "      <td>2974</td>\n",
       "      <td>548</td>\n",
       "      <td>0.052244</td>\n",
       "      <td>0.009627</td>\n",
       "    </tr>\n",
       "    <tr>\n",
       "      <th>3</th>\n",
       "      <td>ma_人教</td>\n",
       "      <td>41545</td>\n",
       "      <td>2309</td>\n",
       "      <td>440</td>\n",
       "      <td>0.055578</td>\n",
       "      <td>0.010591</td>\n",
       "    </tr>\n",
       "    <tr>\n",
       "      <th>4</th>\n",
       "      <td>ma_人民</td>\n",
       "      <td>140418</td>\n",
       "      <td>7844</td>\n",
       "      <td>1324</td>\n",
       "      <td>0.055862</td>\n",
       "      <td>0.009429</td>\n",
       "    </tr>\n",
       "    <tr>\n",
       "      <th>5</th>\n",
       "      <td>ma_岳麓</td>\n",
       "      <td>38908</td>\n",
       "      <td>2186</td>\n",
       "      <td>405</td>\n",
       "      <td>0.056184</td>\n",
       "      <td>0.010409</td>\n",
       "    </tr>\n",
       "    <tr>\n",
       "      <th>6</th>\n",
       "      <td>searc</td>\n",
       "      <td>410198</td>\n",
       "      <td>19418</td>\n",
       "      <td>5627</td>\n",
       "      <td>0.047338</td>\n",
       "      <td>0.013718</td>\n",
       "    </tr>\n",
       "    <tr>\n",
       "      <th>7</th>\n",
       "      <td>tw_ol</td>\n",
       "      <td>46940</td>\n",
       "      <td>2329</td>\n",
       "      <td>577</td>\n",
       "      <td>0.049617</td>\n",
       "      <td>0.012292</td>\n",
       "    </tr>\n",
       "    <tr>\n",
       "      <th>8</th>\n",
       "      <td>tw_南一</td>\n",
       "      <td>30792</td>\n",
       "      <td>1519</td>\n",
       "      <td>383</td>\n",
       "      <td>0.049331</td>\n",
       "      <td>0.012438</td>\n",
       "    </tr>\n",
       "    <tr>\n",
       "      <th>9</th>\n",
       "      <td>tw_康熹</td>\n",
       "      <td>33640</td>\n",
       "      <td>1488</td>\n",
       "      <td>401</td>\n",
       "      <td>0.044233</td>\n",
       "      <td>0.011920</td>\n",
       "    </tr>\n",
       "  </tbody>\n",
       "</table>\n",
       "</div>"
      ],
      "text/plain": [
       "  region  book_length  adj_count  fu_count  adj_ratio  fu_ratio\n",
       "0  hk_文達        70201       3219       768   0.045854  0.010940\n",
       "1  hk_現代        91087       4163       896   0.045704  0.009837\n",
       "2  ma_ol        56925       2974       548   0.052244  0.009627\n",
       "3  ma_人教        41545       2309       440   0.055578  0.010591\n",
       "4  ma_人民       140418       7844      1324   0.055862  0.009429\n",
       "5  ma_岳麓        38908       2186       405   0.056184  0.010409\n",
       "6  searc       410198      19418      5627   0.047338  0.013718\n",
       "7  tw_ol        46940       2329       577   0.049617  0.012292\n",
       "8  tw_南一        30792       1519       383   0.049331  0.012438\n",
       "9  tw_康熹        33640       1488       401   0.044233  0.011920"
      ]
     },
     "execution_count": 186,
     "metadata": {},
     "output_type": "execute_result"
    }
   ],
   "source": [
    "modern = df.groupby(['region'])['book_length','adj_count','fu_count'].sum()\n",
    "modern['adj_ratio'] = modern['adj_count']/modern['book_length']\n",
    "modern['fu_ratio'] = modern['fu_count']/modern['book_length']\n",
    "modern = modern.reset_index()\n",
    "modern"
   ]
  },
  {
   "cell_type": "markdown",
   "metadata": {},
   "source": [
    "####Plotting"
   ]
  },
  {
   "cell_type": "code",
   "execution_count": 187,
   "metadata": {
    "collapsed": false
   },
   "outputs": [
    {
     "data": {
      "image/png": "[encoded data removed]",
      "text/plain": [
       "<matplotlib.figure.Figure at 0x13b7b1828>"
      ]
     },
     "metadata": {},
     "output_type": "display_data"
    }
   ],
   "source": [
    "%matplotlib inline  \n",
    "# a bar plot with errorbars\n",
    "import numpy as np\n",
    "import matplotlib.pyplot as plt\n",
    "\n",
    "N = len(modern['region'])\n",
    "\n",
    "ind = np.arange(N)  # the x locations for the groups\n",
    "width = 0.35       # the width of the bars\n",
    "\n",
    "fig, ax = plt.subplots(figsize=(12,5))\n",
    "rects1 = ax.bar(ind, modern['adj_ratio'], width, color='r')\n",
    "\n",
    "womenMeans = (25, 32, 34, 20, 25)\n",
    "womenStd = (3, 5, 2, 3, 3)\n",
    "rects2 = ax.bar(ind + width,  modern['fu_ratio'], width, color='y')\n",
    "\n",
    "# add some text for labels, title and axes ticks\n",
    "ax.set_ylabel('Scores')\n",
    "ax.set_title('Scores by group and gender')\n",
    "ax.set_xticks(ind + width)\n",
    "ax.set_xticklabels(('hk_manhattan', 'hk_contemporary', 'ma_ol', 'ma_rengiao', 'ma_renmin', 'ma_', 'reference', 'tw_ol','tw_nanye','tw_kangxi'), rotation=45)\n",
    "\n",
    "ax.legend((rects1[0], rects2[0]), ('Adjective', 'Adverb'))\n",
    "\n",
    "\n",
    "def autolabel(rects):\n",
    "    # attach some text labels\n",
    "    for rect in rects:\n",
    "        height = rect.get_height()\n",
    "        ax.text(rect.get_x() + rect.get_width()/2., 1.05*height,\n",
    "                '%d' % int(height),\n",
    "                ha='center', va='bottom')\n",
    "\n",
    "#autolabel(rects1)\n",
    "#autolabel(rects2)\n",
    "\n",
    "plt.show()"
   ]
  },
  {
   "cell_type": "markdown",
   "metadata": {
    "collapsed": true
   },
   "source": [
    "<h3>Adjective content by Events</h3>"
   ]
  },
  {
   "cell_type": "code",
   "execution_count": 238,
   "metadata": {
    "collapsed": true
   },
   "outputs": [],
   "source": [
    "path = '/Users/onyi/Dropbox/textbooks/Events'\n",
    "Word={}\n",
    "WordByBook= []\n",
    "book_length = {}\n",
    "adjcountbyEvent={}\n",
    "adjratiobyEvent={}\n",
    "EventLength = {}"
   ]
  },
  {
   "cell_type": "code",
   "execution_count": 239,
   "metadata": {
    "collapsed": true
   },
   "outputs": [],
   "source": [
    "events = ['invasion.txt', 'civilwar.txt', 'sinojapanwar.txt','xinhai.txt']"
   ]
  },
  {
   "cell_type": "code",
   "execution_count": 240,
   "metadata": {
    "collapsed": false
   },
   "outputs": [],
   "source": [
    "\n",
    "i=0\n",
    "wordlist={}\n",
    "for event in events:\n",
    "    if not file.startswith('.'):\n",
    "        for file in os.listdir(path):\n",
    "            file_path = os.path.join(path, file)\n",
    "            if os.path.isfile(file_path) and file.endswith(event):\n",
    "                with open(file_path) as f: \n",
    "                    adjcountbyEvent[file] = 0\n",
    "                    RawEvent = f.read()\n",
    "                    RawEvent = re.sub(\"[。，；:!：“、〈〉\\n\\t■◆”《》~ ;﹜﹛()*.,a-zA-Z「」﹔（）〔〕？\\d+]\", \"\", RawEvent)\n",
    "                    book_length[file] = len(RawEvent)\n",
    "                    Word[file]= jieba.cut(RawEvent, cut_all=True)\n",
    "                    for word in Word[file]:\n",
    "                        if \"not found in Dictionary.\" in dictionary(word):\n",
    "                            pass\n",
    "                        else:\n",
    "                            temp = dictionary(word)\n",
    "                            if (' 形 ' in temp or ' 成 ' in temp) and word not in stopwords:\n",
    "                                adjcountbyEvent[file] = adjcountbyEvent[file]+1\n",
    "            else:\n",
    "                pass\n",
    " "
   ]
  },
  {
   "cell_type": "code",
   "execution_count": 241,
   "metadata": {
    "collapsed": false
   },
   "outputs": [
    {
     "data": {
      "text/html": [
       "<div>\n",
       "<table border=\"1\" class=\"dataframe\">\n",
       "  <thead>\n",
       "    <tr style=\"text-align: right;\">\n",
       "      <th></th>\n",
       "      <th>book</th>\n",
       "      <th>adj_count</th>\n",
       "      <th>book_length</th>\n",
       "      <th>adj_ratio</th>\n",
       "    </tr>\n",
       "  </thead>\n",
       "  <tbody>\n",
       "    <tr>\n",
       "      <th>27</th>\n",
       "      <td>hk_文達_civilwar.txt</td>\n",
       "      <td>155</td>\n",
       "      <td>3460</td>\n",
       "      <td>0.044798</td>\n",
       "    </tr>\n",
       "    <tr>\n",
       "      <th>18</th>\n",
       "      <td>hk_文達_foreigninvasion.txt</td>\n",
       "      <td>568</td>\n",
       "      <td>12326</td>\n",
       "      <td>0.046081</td>\n",
       "    </tr>\n",
       "    <tr>\n",
       "      <th>33</th>\n",
       "      <td>hk_文達_sinojapanwar.txt</td>\n",
       "      <td>161</td>\n",
       "      <td>3949</td>\n",
       "      <td>0.040770</td>\n",
       "    </tr>\n",
       "    <tr>\n",
       "      <th>19</th>\n",
       "      <td>hk_文達_xinhai.txt</td>\n",
       "      <td>191</td>\n",
       "      <td>4448</td>\n",
       "      <td>0.042941</td>\n",
       "    </tr>\n",
       "    <tr>\n",
       "      <th>9</th>\n",
       "      <td>hk_現代_civilwar.txt</td>\n",
       "      <td>203</td>\n",
       "      <td>4112</td>\n",
       "      <td>0.049368</td>\n",
       "    </tr>\n",
       "    <tr>\n",
       "      <th>40</th>\n",
       "      <td>hk_現代_foreigninvasion.txt</td>\n",
       "      <td>747</td>\n",
       "      <td>16865</td>\n",
       "      <td>0.044293</td>\n",
       "    </tr>\n",
       "    <tr>\n",
       "      <th>4</th>\n",
       "      <td>hk_現代_sinojapanwar.txt</td>\n",
       "      <td>244</td>\n",
       "      <td>5991</td>\n",
       "      <td>0.040728</td>\n",
       "    </tr>\n",
       "    <tr>\n",
       "      <th>26</th>\n",
       "      <td>hk_現代_xinhai.txt</td>\n",
       "      <td>247</td>\n",
       "      <td>4937</td>\n",
       "      <td>0.050030</td>\n",
       "    </tr>\n",
       "    <tr>\n",
       "      <th>1</th>\n",
       "      <td>ma_人教_civilwar.txt</td>\n",
       "      <td>130</td>\n",
       "      <td>2822</td>\n",
       "      <td>0.046067</td>\n",
       "    </tr>\n",
       "    <tr>\n",
       "      <th>10</th>\n",
       "      <td>ma_人教_foreigninvasion.txt</td>\n",
       "      <td>113</td>\n",
       "      <td>2608</td>\n",
       "      <td>0.043328</td>\n",
       "    </tr>\n",
       "    <tr>\n",
       "      <th>23</th>\n",
       "      <td>ma_人教_sinojapanwar.txt</td>\n",
       "      <td>66</td>\n",
       "      <td>1498</td>\n",
       "      <td>0.044059</td>\n",
       "    </tr>\n",
       "    <tr>\n",
       "      <th>13</th>\n",
       "      <td>ma_人教_xinhai.txt</td>\n",
       "      <td>76</td>\n",
       "      <td>1496</td>\n",
       "      <td>0.050802</td>\n",
       "    </tr>\n",
       "    <tr>\n",
       "      <th>39</th>\n",
       "      <td>ma_人民_civilwar.txt</td>\n",
       "      <td>53</td>\n",
       "      <td>890</td>\n",
       "      <td>0.059551</td>\n",
       "    </tr>\n",
       "    <tr>\n",
       "      <th>12</th>\n",
       "      <td>ma_人民_foreigninvasion.txt</td>\n",
       "      <td>139</td>\n",
       "      <td>3526</td>\n",
       "      <td>0.039421</td>\n",
       "    </tr>\n",
       "    <tr>\n",
       "      <th>16</th>\n",
       "      <td>ma_人民_sinojapanwar.txt</td>\n",
       "      <td>119</td>\n",
       "      <td>3293</td>\n",
       "      <td>0.036137</td>\n",
       "    </tr>\n",
       "    <tr>\n",
       "      <th>36</th>\n",
       "      <td>ma_人民_xinhai.txt</td>\n",
       "      <td>66</td>\n",
       "      <td>1472</td>\n",
       "      <td>0.044837</td>\n",
       "    </tr>\n",
       "    <tr>\n",
       "      <th>15</th>\n",
       "      <td>ma_岳麓_civilwar.txt</td>\n",
       "      <td>62</td>\n",
       "      <td>1000</td>\n",
       "      <td>0.062000</td>\n",
       "    </tr>\n",
       "    <tr>\n",
       "      <th>6</th>\n",
       "      <td>ma_岳麓_foreigninvasion.txt</td>\n",
       "      <td>95</td>\n",
       "      <td>2232</td>\n",
       "      <td>0.042563</td>\n",
       "    </tr>\n",
       "    <tr>\n",
       "      <th>32</th>\n",
       "      <td>ma_岳麓_sinojapanwar.txt</td>\n",
       "      <td>29</td>\n",
       "      <td>618</td>\n",
       "      <td>0.046926</td>\n",
       "    </tr>\n",
       "    <tr>\n",
       "      <th>20</th>\n",
       "      <td>ma_岳麓_xinhai.txt</td>\n",
       "      <td>64</td>\n",
       "      <td>1184</td>\n",
       "      <td>0.054054</td>\n",
       "    </tr>\n",
       "    <tr>\n",
       "      <th>38</th>\n",
       "      <td>tw_南一_civilwar.txt</td>\n",
       "      <td>93</td>\n",
       "      <td>1907</td>\n",
       "      <td>0.048768</td>\n",
       "    </tr>\n",
       "    <tr>\n",
       "      <th>30</th>\n",
       "      <td>tw_南一_foreigninvasion.txt</td>\n",
       "      <td>107</td>\n",
       "      <td>2414</td>\n",
       "      <td>0.044325</td>\n",
       "    </tr>\n",
       "    <tr>\n",
       "      <th>11</th>\n",
       "      <td>tw_南一_sinojapanwar.txt</td>\n",
       "      <td>94</td>\n",
       "      <td>1641</td>\n",
       "      <td>0.057282</td>\n",
       "    </tr>\n",
       "    <tr>\n",
       "      <th>24</th>\n",
       "      <td>tw_南一_xinhai.txt</td>\n",
       "      <td>89</td>\n",
       "      <td>1778</td>\n",
       "      <td>0.050056</td>\n",
       "    </tr>\n",
       "    <tr>\n",
       "      <th>17</th>\n",
       "      <td>tw_康熹_foreigninvasion.txt</td>\n",
       "      <td>104</td>\n",
       "      <td>2846</td>\n",
       "      <td>0.036543</td>\n",
       "    </tr>\n",
       "    <tr>\n",
       "      <th>21</th>\n",
       "      <td>tw_康熹_sinojapanwar.txt</td>\n",
       "      <td>79</td>\n",
       "      <td>2016</td>\n",
       "      <td>0.039187</td>\n",
       "    </tr>\n",
       "    <tr>\n",
       "      <th>25</th>\n",
       "      <td>tw_康熹_xinhai.txt</td>\n",
       "      <td>94</td>\n",
       "      <td>2063</td>\n",
       "      <td>0.045565</td>\n",
       "    </tr>\n",
       "    <tr>\n",
       "      <th>31</th>\n",
       "      <td>tw_康熹civilwar.txt</td>\n",
       "      <td>71</td>\n",
       "      <td>2166</td>\n",
       "      <td>0.032779</td>\n",
       "    </tr>\n",
       "  </tbody>\n",
       "</table>\n",
       "</div>"
      ],
      "text/plain": [
       "                         book  adj_count  book_length  adj_ratio\n",
       "27         hk_文達_civilwar.txt        155         3460   0.044798\n",
       "18  hk_文達_foreigninvasion.txt        568        12326   0.046081\n",
       "33     hk_文達_sinojapanwar.txt        161         3949   0.040770\n",
       "19           hk_文達_xinhai.txt        191         4448   0.042941\n",
       "9          hk_現代_civilwar.txt        203         4112   0.049368\n",
       "40  hk_現代_foreigninvasion.txt        747        16865   0.044293\n",
       "4      hk_現代_sinojapanwar.txt        244         5991   0.040728\n",
       "26           hk_現代_xinhai.txt        247         4937   0.050030\n",
       "1          ma_人教_civilwar.txt        130         2822   0.046067\n",
       "10  ma_人教_foreigninvasion.txt        113         2608   0.043328\n",
       "23     ma_人教_sinojapanwar.txt         66         1498   0.044059\n",
       "13           ma_人教_xinhai.txt         76         1496   0.050802\n",
       "39         ma_人民_civilwar.txt         53          890   0.059551\n",
       "12  ma_人民_foreigninvasion.txt        139         3526   0.039421\n",
       "16     ma_人民_sinojapanwar.txt        119         3293   0.036137\n",
       "36           ma_人民_xinhai.txt         66         1472   0.044837\n",
       "15         ma_岳麓_civilwar.txt         62         1000   0.062000\n",
       "6   ma_岳麓_foreigninvasion.txt         95         2232   0.042563\n",
       "32     ma_岳麓_sinojapanwar.txt         29          618   0.046926\n",
       "20           ma_岳麓_xinhai.txt         64         1184   0.054054\n",
       "38         tw_南一_civilwar.txt         93         1907   0.048768\n",
       "30  tw_南一_foreigninvasion.txt        107         2414   0.044325\n",
       "11     tw_南一_sinojapanwar.txt         94         1641   0.057282\n",
       "24           tw_南一_xinhai.txt         89         1778   0.050056\n",
       "17  tw_康熹_foreigninvasion.txt        104         2846   0.036543\n",
       "21     tw_康熹_sinojapanwar.txt         79         2016   0.039187\n",
       "25           tw_康熹_xinhai.txt         94         2063   0.045565\n",
       "31          tw_康熹civilwar.txt         71         2166   0.032779"
      ]
     },
     "execution_count": 241,
     "metadata": {},
     "output_type": "execute_result"
    }
   ],
   "source": [
    "adjcount_event = pd.DataFrame.from_dict(adjcountbyEvent, orient = 'index').reset_index()\n",
    "booklength = pd.DataFrame.from_dict(book_length, orient = 'index').reset_index()\n",
    "adjcount_event.columns = ['book','adj_count']\n",
    "booklength.columns = ['book','book_length']\n",
    "event = pd.merge(adjcount_event, booklength, on = 'book')\n",
    "#event['region']= event['book'].str[:5]\n",
    "event['adj_ratio'] = event['adj_count']/event['book_length']\n",
    "event = event.sort('book')\n",
    "#removing the old textbooks\n",
    "event = event[~event['book'].str.startswith('ma_old')]\n",
    "event = event[~event['book'].str.startswith('tw_old')]\n",
    "event = event[~event['book'].str.startswith('sc_')]\n",
    "event"
   ]
  },
  {
   "cell_type": "code",
   "execution_count": 242,
   "metadata": {
    "collapsed": false
   },
   "outputs": [
    {
     "data": {
      "image/png": "[encoded data removed]",
      "text/plain": [
       "<matplotlib.figure.Figure at 0x12ffb12e8>"
      ]
     },
     "metadata": {},
     "output_type": "display_data"
    }
   ],
   "source": [
    "%matplotlib inline  \n",
    "\n",
    "civilwar = event[event['book'].str.endswith('civilwar.txt')]\n",
    "fig = plt.figure()\n",
    "width = .4\n",
    "ind = np.arange(len(civilwar['book']))\n",
    "plt.bar(ind, civilwar['adj_ratio'],color = 'b')\n",
    "plt.xticks(ind + width , civilwar['book'].values)\n",
    "plt.title('Adjective Ratio in Civil War Portion')\n",
    "fig.autofmt_xdate()"
   ]
  },
  {
   "cell_type": "code",
   "execution_count": 243,
   "metadata": {
    "collapsed": false
   },
   "outputs": [
    {
     "data": {
      "image/png": "[encoded data removed]",
      "text/plain": [
       "<matplotlib.figure.Figure at 0x12f9a1860>"
      ]
     },
     "metadata": {},
     "output_type": "display_data"
    }
   ],
   "source": [
    "%matplotlib inline  \n",
    "\n",
    "invasion = event[event['book'].str.endswith('invasion.txt')]\n",
    "fig = plt.figure()\n",
    "width = .4\n",
    "ind = np.arange(len(invasion['book']))\n",
    "plt.bar(ind, invasion['adj_ratio'],color = 'b')\n",
    "plt.xticks(ind + width , invasion['book'].values)\n",
    "plt.title('Adjective Ratio in Foreign Invasion Portion')\n",
    "fig.autofmt_xdate()"
   ]
  },
  {
   "cell_type": "code",
   "execution_count": 244,
   "metadata": {
    "collapsed": false
   },
   "outputs": [
    {
     "data": {
      "image/png": "[encoded data removed]",
      "text/plain": [
       "<matplotlib.figure.Figure at 0x13053c828>"
      ]
     },
     "metadata": {},
     "output_type": "display_data"
    }
   ],
   "source": [
    "%matplotlib inline  \n",
    "\n",
    "xinhai = event[event['book'].str.endswith('xinhai.txt')]\n",
    "fig = plt.figure()\n",
    "width = .4\n",
    "ind = np.arange(len(xinhai['book']))\n",
    "plt.bar(ind, xinhai['adj_ratio'],color = 'b')\n",
    "plt.xticks(ind + width , xinhai['book'].values)\n",
    "plt.title('Adjective Ratio in xinhai Portion')\n",
    "fig.autofmt_xdate()"
   ]
  },
  {
   "cell_type": "code",
   "execution_count": 245,
   "metadata": {
    "collapsed": false
   },
   "outputs": [
    {
     "data": {
      "image/png": "[encoded data removed]",
      "text/plain": [
       "<matplotlib.figure.Figure at 0x12fe544e0>"
      ]
     },
     "metadata": {},
     "output_type": "display_data"
    }
   ],
   "source": [
    "%matplotlib inline  \n",
    "japan = event[event['book'].str.endswith('japanwar.txt')]\n",
    "fig = plt.figure()\n",
    "width = .4\n",
    "ind = np.arange(len(japan['book']))\n",
    "plt.bar(ind, japan['adj_ratio'],color = 'b')\n",
    "plt.xticks(ind + width , japan['book'].values)\n",
    "plt.title('Adjective Ratio in Sino-Japan Portion')\n",
    "fig.autofmt_xdate()"
   ]
  },
  {
   "cell_type": "markdown",
   "metadata": {},
   "source": [
    "<h3>Mention of Political Figures</h3>"
   ]
  },
  {
   "cell_type": "code",
   "execution_count": 188,
   "metadata": {
    "collapsed": false
   },
   "outputs": [],
   "source": [
    "#select all sentences that contains figures of party significance\n",
    "path = '/Users/onyi/Dropbox/textbooks'\n",
    "maocount={}\n",
    "suncount={}\n",
    "changcount={}\n",
    "marxcount={}\n",
    "commcount = {}\n",
    "kmtcount ={}\n",
    "verycount = {}\n",
    "book ={}\n",
    "for file in os.listdir(path):\n",
    "    if not file.startswith('.'):\n",
    "        file_path = os.path.join(path, file)\n",
    "        if os.path.isfile(file_path) and file.endswith(\".txt\"):\n",
    "            with open(file_path) as f: \n",
    "                book[file] = f.read()\n",
    "                book[file] = re.sub(\"[。，；：“、\\n\\t■◆”《》~]\", \"\", book[file])\n",
    "                verycount[file] = book[file].count('十分')+book[file].count('非常') + book[file].count('很')+book[file].count( '颇')+book[file].count( '太')+book[file].count('极')+ book[file].count('过分')+book[file].count('相当') \n",
    "                maocount[file] = book[file].count('毛泽东')\n",
    "                suncount[file]  = book[file].count('孙中山') + book[file].count('孫逸仙')\n",
    "                changcount[file] = book[file].count('蒋介石') + book[file].count('蒋中正') + book[file].count('蒋总司令') + book[file].count('蒋委员长') +book[file].count('蒋主席')\n",
    "                marxcount[file] = book[file].count('马克思') + book[file].count('馬克思')\n",
    "                commcount[file] = book[file].count('共产党') + book[file].count('中共') + book[file].count('共党')\n",
    "                kmtcount[file] = book[file].count('国民党') "
   ]
  },
  {
   "cell_type": "code",
   "execution_count": 189,
   "metadata": {
    "collapsed": false
   },
   "outputs": [],
   "source": [
    "marx = pd.DataFrame.from_dict(marxcount, orient = 'index')\n",
    "marx.columns = ['marx']\n",
    "sun = pd.DataFrame.from_dict(suncount, orient = 'index')\n",
    "sun.columns = ['sun']\n",
    "chang = pd.DataFrame.from_dict(changcount, orient = 'index')\n",
    "chang.columns = ['chang']\n",
    "mao = pd.DataFrame.from_dict(maocount, orient = 'index')\n",
    "mao.columns = ['mao']\n",
    "comm = pd.DataFrame.from_dict(commcount, orient = 'index')\n",
    "comm.columns = ['communist']\n",
    "kmt = pd.DataFrame.from_dict(kmtcount, orient = 'index')\n",
    "kmt.columns = ['kmt']\n",
    "very = pd.DataFrame.from_dict(verycount, orient = 'index')\n",
    "very.columns = ['very']"
   ]
  },
  {
   "cell_type": "code",
   "execution_count": 190,
   "metadata": {
    "collapsed": false
   },
   "outputs": [],
   "source": [
    "df_list = [mao, sun, chang, marx, comm, kmt, very]\n",
    "\n",
    "for i, df in enumerate(df_list):\n",
    "    if i == 0:\n",
    "        figures = pd.merge(df_list[i], df_list[i+1], left_index = True, right_index = True)\n",
    "    elif i < len(df_list)-1 :\n",
    "        figures = pd.merge(figures, df_list[i+1], left_index = True, right_index = True)\n",
    "    else:\n",
    "        pass"
   ]
  },
  {
   "cell_type": "code",
   "execution_count": 213,
   "metadata": {
    "collapsed": false
   },
   "outputs": [],
   "source": [
    "figures['book']= figures.index.str[:5]"
   ]
  },
  {
   "cell_type": "code",
   "execution_count": 205,
   "metadata": {
    "collapsed": false
   },
   "outputs": [
    {
     "data": {
      "text/html": [
       "<div>\n",
       "<table border=\"1\" class=\"dataframe\">\n",
       "  <thead>\n",
       "    <tr style=\"text-align: right;\">\n",
       "      <th></th>\n",
       "      <th>region</th>\n",
       "      <th>book_length</th>\n",
       "      <th>adj_count</th>\n",
       "      <th>fu_count</th>\n",
       "      <th>adj_ratio</th>\n",
       "      <th>fu_ratio</th>\n",
       "    </tr>\n",
       "  </thead>\n",
       "  <tbody>\n",
       "    <tr>\n",
       "      <th>0</th>\n",
       "      <td>hk_文達</td>\n",
       "      <td>70201</td>\n",
       "      <td>3219</td>\n",
       "      <td>768</td>\n",
       "      <td>0.045854</td>\n",
       "      <td>0.010940</td>\n",
       "    </tr>\n",
       "    <tr>\n",
       "      <th>1</th>\n",
       "      <td>hk_現代</td>\n",
       "      <td>91087</td>\n",
       "      <td>4163</td>\n",
       "      <td>896</td>\n",
       "      <td>0.045704</td>\n",
       "      <td>0.009837</td>\n",
       "    </tr>\n",
       "    <tr>\n",
       "      <th>2</th>\n",
       "      <td>ma_ol</td>\n",
       "      <td>56925</td>\n",
       "      <td>2974</td>\n",
       "      <td>548</td>\n",
       "      <td>0.052244</td>\n",
       "      <td>0.009627</td>\n",
       "    </tr>\n",
       "    <tr>\n",
       "      <th>3</th>\n",
       "      <td>ma_人教</td>\n",
       "      <td>41545</td>\n",
       "      <td>2309</td>\n",
       "      <td>440</td>\n",
       "      <td>0.055578</td>\n",
       "      <td>0.010591</td>\n",
       "    </tr>\n",
       "    <tr>\n",
       "      <th>4</th>\n",
       "      <td>ma_人民</td>\n",
       "      <td>140418</td>\n",
       "      <td>7844</td>\n",
       "      <td>1324</td>\n",
       "      <td>0.055862</td>\n",
       "      <td>0.009429</td>\n",
       "    </tr>\n",
       "    <tr>\n",
       "      <th>5</th>\n",
       "      <td>ma_岳麓</td>\n",
       "      <td>38908</td>\n",
       "      <td>2186</td>\n",
       "      <td>405</td>\n",
       "      <td>0.056184</td>\n",
       "      <td>0.010409</td>\n",
       "    </tr>\n",
       "    <tr>\n",
       "      <th>6</th>\n",
       "      <td>searc</td>\n",
       "      <td>410198</td>\n",
       "      <td>19418</td>\n",
       "      <td>5627</td>\n",
       "      <td>0.047338</td>\n",
       "      <td>0.013718</td>\n",
       "    </tr>\n",
       "    <tr>\n",
       "      <th>7</th>\n",
       "      <td>tw_ol</td>\n",
       "      <td>46940</td>\n",
       "      <td>2329</td>\n",
       "      <td>577</td>\n",
       "      <td>0.049617</td>\n",
       "      <td>0.012292</td>\n",
       "    </tr>\n",
       "    <tr>\n",
       "      <th>8</th>\n",
       "      <td>tw_南一</td>\n",
       "      <td>30792</td>\n",
       "      <td>1519</td>\n",
       "      <td>383</td>\n",
       "      <td>0.049331</td>\n",
       "      <td>0.012438</td>\n",
       "    </tr>\n",
       "    <tr>\n",
       "      <th>9</th>\n",
       "      <td>tw_康熹</td>\n",
       "      <td>33640</td>\n",
       "      <td>1488</td>\n",
       "      <td>401</td>\n",
       "      <td>0.044233</td>\n",
       "      <td>0.011920</td>\n",
       "    </tr>\n",
       "  </tbody>\n",
       "</table>\n",
       "</div>"
      ],
      "text/plain": [
       "  region  book_length  adj_count  fu_count  adj_ratio  fu_ratio\n",
       "0  hk_文達        70201       3219       768   0.045854  0.010940\n",
       "1  hk_現代        91087       4163       896   0.045704  0.009837\n",
       "2  ma_ol        56925       2974       548   0.052244  0.009627\n",
       "3  ma_人教        41545       2309       440   0.055578  0.010591\n",
       "4  ma_人民       140418       7844      1324   0.055862  0.009429\n",
       "5  ma_岳麓        38908       2186       405   0.056184  0.010409\n",
       "6  searc       410198      19418      5627   0.047338  0.013718\n",
       "7  tw_ol        46940       2329       577   0.049617  0.012292\n",
       "8  tw_南一        30792       1519       383   0.049331  0.012438\n",
       "9  tw_康熹        33640       1488       401   0.044233  0.011920"
      ]
     },
     "execution_count": 205,
     "metadata": {},
     "output_type": "execute_result"
    }
   ],
   "source": [
    "modern"
   ]
  },
  {
   "cell_type": "code",
   "execution_count": 217,
   "metadata": {
    "collapsed": false
   },
   "outputs": [],
   "source": [
    "figures_count = figures.groupby(['book']).sum().reset_index()\n",
    "figures_count = pd.merge(figures_count, modern, left_on = 'book', right_on = 'region')\n",
    "figures_count['mao_ratio'] = figures_count['mao']/figures_count['book_length']\n",
    "figures_count['sun_ratio'] = figures_count['sun']/figures_count['book_length']\n",
    "figures_count['chang_ratio'] = figures_count['chang']/figures_count['book_length']\n",
    "figures_count['marx_ratio'] = figures_count['marx']/figures_count['book_length']\n",
    "figures_count['communist_ratio'] = figures_count['communist']/figures_count['book_length']\n",
    "figures_count['kmt_ratio'] = figures_count['kmt']/figures_count['book_length']\n",
    "figures_count['very_ratio'] = figures_count['very']/figures_count['book_length']\n",
    "figures_count['ccp_kmt'] = (figures_count['communist'] + figures_count['marx'] + figures_count['mao'])/(figures_count['sun'] + figures_count['chang'] +figures_count['kmt']) \n",
    "#figures_count\n",
    "figures_count= figures_count[figures_count['book'] != 'ma_ol']\n",
    "figures_count= figures_count[figures_count['book'] != '_ol']"
   ]
  },
  {
   "cell_type": "markdown",
   "metadata": {},
   "source": [
    "###Plot ratio of Pro-CCP Figures to Pro-KMT Figures\n"
   ]
  },
  {
   "cell_type": "code",
   "execution_count": 218,
   "metadata": {
    "collapsed": false
   },
   "outputs": [
    {
     "data": {
      "image/png": "[encoded data removed]",
      "text/plain": [
       "<matplotlib.figure.Figure at 0x12fb33198>"
      ]
     },
     "metadata": {},
     "output_type": "display_data"
    }
   ],
   "source": [
    "%matplotlib inline  \n",
    "\n",
    "from matplotlib import pyplot as plt\n",
    "fig = plt.figure()\n",
    "width = .3\n",
    "ind = np.arange(len(figures_count['ccp_kmt']))\n",
    "plt.bar(ind, figures_count['ccp_kmt'],color = 'b')\n",
    "plt.xticks(ind + width/2 , figures_count['book'].values)\n",
    "plt.title('Ratio of Pro-CCP Figures to Pro-KMT Figures')\n",
    "fig.autofmt_xdate()"
   ]
  },
  {
   "cell_type": "markdown",
   "metadata": {},
   "source": [
    "<h3> Positive to Negative</h3>"
   ]
  },
  {
   "cell_type": "code",
   "execution_count": 114,
   "metadata": {
    "collapsed": true
   },
   "outputs": [],
   "source": [
    "import re, math, collections, itertools\n",
    "import nltk, nltk.classify.util, nltk.metrics\n",
    "from nltk.classify import NaiveBayesClassifier\n",
    "from nltk.metrics import BigramAssocMeasures\n",
    "from nltk.probability import FreqDist, ConditionalFreqDist"
   ]
  },
  {
   "cell_type": "code",
   "execution_count": 115,
   "metadata": {
    "collapsed": false
   },
   "outputs": [],
   "source": [
    "posFile = open('/Users/onyi/Dropbox/HistoryTextbook/sentiment/正面情感词语（中文）.txt',  encoding=\"gbk\")\n",
    "posWords = posFile.readlines()\n",
    "posWords = list(map(lambda x:x.strip(),posWords))\n"
   ]
  },
  {
   "cell_type": "code",
   "execution_count": 116,
   "metadata": {
    "collapsed": false
   },
   "outputs": [],
   "source": [
    "posFile2 = open('/Users/onyi/Dropbox/HistoryTextbook/sentiment/正面评价词语（中文）.txt',  encoding=\"gbk\")\n",
    "posWords2 = posFile2.readlines()\n",
    "posWords2 = list(map(lambda x:x.strip(),posWords2))\n",
    "posWords.extend(posWords2)\n"
   ]
  },
  {
   "cell_type": "code",
   "execution_count": 117,
   "metadata": {
    "collapsed": false
   },
   "outputs": [],
   "source": [
    "negFile = open('/Users/onyi/Dropbox/HistoryTextbook/sentiment/负面情感词语（中文）.txt',  encoding=\"gbk\")\n",
    "negWords = negFile.readlines()\n",
    "negWords = list(map(lambda x:x.strip(), negWords))"
   ]
  },
  {
   "cell_type": "code",
   "execution_count": 118,
   "metadata": {
    "collapsed": true
   },
   "outputs": [],
   "source": [
    "negFile2 = open('/Users/onyi/Dropbox/HistoryTextbook/sentiment/负面评价词语（中文）.txt',  encoding=\"gbk\")\n",
    "negWords2 = negFile2.readlines()\n",
    "negWords2 = list(map(lambda x:x.strip(),negWords2))\n",
    "negWords.extend(negWords2)\n"
   ]
  },
  {
   "cell_type": "code",
   "execution_count": 119,
   "metadata": {
    "collapsed": false
   },
   "outputs": [],
   "source": [
    "#number of words that are in each episode\n",
    "path = '/Users/onyi/Dropbox/textbooks/Events/Post1949'\n",
    "book={}\n",
    "phrases = {}\n",
    "bookindex = {}\n",
    "NumPosWords = {}\n",
    "NumNegWords = {}\n",
    "length1949 = {}\n",
    "for file in os.listdir(path):\n",
    "    if not file.startswith('.'):\n",
    "        file_path = os.path.join(path, file)\n",
    "        if os.path.isfile(file_path) and file.endswith(\".txt\"):\n",
    "            with open(file_path) as f: \n",
    "                book[file] = f.read()\n",
    "                #print(file)\n",
    "                book[file] = re.sub(\"[。，；:!：“、〈〉\\n\\t■◆”《》~ ;()*.,a-zA-Z「」〔〕]\", \"\", book[file])\n",
    "                length1949[file] = len(book[file])\n",
    "                #book_file_name.append(file)\n",
    "                phrases[file]= jieba.cut(book[file], cut_all=False) #segmenting the content  \n",
    "                #count number of positive phrases\n",
    "                NumPosWords[file] = 0\n",
    "                NumNegWords[file] = 0\n",
    "                for phrase in phrases[file]:\n",
    "                    if phrase in posWords:\n",
    "                        NumPosWords[file] = NumPosWords[file] + 1\n",
    "                    if phrase in negWords:\n",
    "                        NumNegWords[file] = NumNegWords[file] + 1\n",
    "                    #  posWords.count(phrase)\n",
    "                    #NumNegWords[file] =+ negWords.count(phrase)\n",
    "                \n"
   ]
  },
  {
   "cell_type": "code",
   "execution_count": 120,
   "metadata": {
    "collapsed": false
   },
   "outputs": [
    {
     "name": "stdout",
     "output_type": "stream",
     "text": [
      "4570 4374\n"
     ]
    }
   ],
   "source": [
    "print(len(posWords), len(negWords))"
   ]
  },
  {
   "cell_type": "code",
   "execution_count": 121,
   "metadata": {
    "collapsed": false
   },
   "outputs": [],
   "source": [
    "#calculate the ratio of positive and negative words\n",
    "NumPosWords_df = pd.DataFrame.from_dict(NumPosWords, orient = 'index')\n",
    "NumNegWords_df = pd.DataFrame.from_dict(NumNegWords, orient = 'index')\n",
    "posneg = pd.merge(NumPosWords_df, NumNegWords_df, left_index = True, right_index = True)\n",
    "posneg.columns = ['pos','neg']\n",
    "posneg['posneg_ratio'] = posneg['pos']/posneg['neg']\n",
    "posneg['post1949'] = 0\n",
    "posneg = posneg.reset_index()\n",
    "posneg.ix[posneg['index'].str.endswith('post1949.txt'), 'post1949'] = 1\n",
    "posneg['book'] = posneg['index'].str[:5]\n",
    "posneg = posneg.pivot(index='book', columns='post1949', values='posneg_ratio').reset_index() #convert dataframe from long to wide\n",
    "#posneg.columns\n",
    "posneg.columns = ['book', 'pre1949', 'post1949' ]\n",
    "posneg['region'] = posneg['book'].str[:2]\n",
    "\n",
    "#removing the old textbooks\n",
    "posneg = posneg[posneg['book'] != 'ma_ol']\n",
    "posneg = posneg[posneg['book'] != 'ma_老版']\n",
    "posneg = posneg[posneg['book'] != 'tw_台湾']"
   ]
  },
  {
   "cell_type": "code",
   "execution_count": 141,
   "metadata": {
    "collapsed": false
   },
   "outputs": [
    {
     "data": {
      "image/png": "[encoded data removed]",
      "text/plain": [
       "<matplotlib.figure.Figure at 0x12f9a1438>"
      ]
     },
     "metadata": {},
     "output_type": "display_data"
    }
   ],
   "source": [
    "colors = {'ma':'red', 'tw':'green', 'hk':'blue', 'se':'black'}\n",
    "x = [0,1]\n",
    "y_mat = posneg[[ 'pre1949', 'post1949']].values\n",
    "color = posneg['region'].apply(lambda x: colors[x])\n",
    "\n",
    "fig, ax = plt.subplots(figsize=(6,6))\n",
    "for y, color in zip(y_mat, color):\n",
    "    ax.plot(x, y,'-o' , c=color  )\n",
    "handles, labels = ax.get_legend_handles_labels()\n",
    "#Create custom artists\n",
    "\n",
    "ma = plt.Line2D((0,1),(0,0), color='r', marker='o', linestyle='-')\n",
    "tw = plt.Line2D((0,1),(0,0), color='g', marker='o', linestyle='-')\n",
    "hk = plt.Line2D((0,1),(0,0), color='blue', marker='o', linestyle='-')\n",
    "ref = plt.Line2D((0,1),(0,0), color='black', marker='o', linestyle='-')\n",
    "\n",
    "\n",
    "#Create legend from custom artist/label lists\n",
    "ax.legend([handle for i,handle in enumerate(handles) if i in display]+[ma, tw,hk, ref],\n",
    "          [label for i,label in enumerate(labels) if i in display]+['Mainland', 'Taiwan', 'Hong Kong','Reference'],\n",
    "           loc = 'best')\n",
    "labels = [item.get_text() for item in ax.get_xticklabels()]\n",
    "labels[0] = 'Pre-1949'\n",
    "labels[5] = 'Post-1949'\n",
    "\n",
    "ax.set_xticklabels(labels)\n",
    "ax.set_ylabel(\"Positive to Negative Phrase Ratio\" )\n",
    "plt.show()"
   ]
  },
  {
   "cell_type": "markdown",
   "metadata": {},
   "source": [
    "### Word Length in Pre1949 to Post1949"
   ]
  },
  {
   "cell_type": "code",
   "execution_count": 142,
   "metadata": {
    "collapsed": false
   },
   "outputs": [],
   "source": [
    "length_post49 = { key:value for key, value in length1949.items() if 'post' in key }\n",
    "length_pre49 = { key:value for key, value in length1949.items() if 'pre' in key }"
   ]
  },
  {
   "cell_type": "code",
   "execution_count": 143,
   "metadata": {
    "collapsed": false
   },
   "outputs": [],
   "source": [
    "length_post49_df = pd.DataFrame.from_dict(length_post49, orient = 'index')\n",
    "length_post49_df.columns = ['post49_length']\n",
    "length_pre49_df = pd.DataFrame.from_dict(length_pre49, orient = 'index')\n",
    "length_pre49_df.columns = ['pre49_length']"
   ]
  },
  {
   "cell_type": "code",
   "execution_count": 144,
   "metadata": {
    "collapsed": false
   },
   "outputs": [],
   "source": [
    "length_post49_df['book']= length_post49_df.index.str[:5]\n",
    "length_pre49_df['book']= length_pre49_df.index.str[:5]"
   ]
  },
  {
   "cell_type": "code",
   "execution_count": 147,
   "metadata": {
    "collapsed": false
   },
   "outputs": [],
   "source": [
    "prepost49 = pd.merge(length_post49_df, length_pre49_df, on = 'book')\n",
    "prepost49['post_pre_ratio'] = prepost49['post49_length']/prepost49['pre49_length']\n",
    "prepost49 = prepost49[prepost49['book'] != 'ma_ol']\n",
    "prepost49 = prepost49.sort(['book'])"
   ]
  },
  {
   "cell_type": "code",
   "execution_count": 175,
   "metadata": {
    "collapsed": false
   },
   "outputs": [
    {
     "data": {
      "image/png": "[encoded data removed]",
      "text/plain": [
       "<matplotlib.figure.Figure at 0x1374f15c0>"
      ]
     },
     "metadata": {},
     "output_type": "display_data"
    }
   ],
   "source": [
    "from matplotlib import pyplot as plt\n",
    "fig = plt.figure()\n",
    "width = .3\n",
    "ind = np.arange(len(prepost49['book']))\n",
    "plt.bar(ind, prepost49['post_pre_ratio'],color = 'b')\n",
    "plt.xticks(ind + width/2 , prepost49['book'].values)\n",
    "plt.title('Total number of words post-1949 to number of words pre-1949')\n",
    "fig.autofmt_xdate()"
   ]
  },
  {
   "cell_type": "markdown",
   "metadata": {},
   "source": [
    "###Time Series Analysis"
   ]
  },
  {
   "cell_type": "code",
   "execution_count": null,
   "metadata": {
    "collapsed": true
   },
   "outputs": [],
   "source": []
  }
 ],
 "metadata": {
  "kernelspec": {
   "display_name": "Python 2",
   "language": "python",
   "name": "python2"
  },
  "language_info": {
   "codemirror_mode": {
    "name": "ipython",
    "version": 2
   },
   "file_extension": ".py",
   "mimetype": "text/x-python",
   "name": "python",
   "nbconvert_exporter": "python",
   "pygments_lexer": "ipython2",
   "version": "2.7.10"
  }
 },
 "nbformat": 4,
 "nbformat_minor": 0
}
