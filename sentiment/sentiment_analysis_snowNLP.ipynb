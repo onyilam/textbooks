{
 "cells": [
  {
   "cell_type": "code",
   "execution_count": 15,
   "metadata": {},
   "outputs": [],
   "source": [
    "from snownlp import SnowNLP\n",
    "import jieba\n",
    "import os\n",
    "import pandas as pd"
   ]
  },
  {
   "cell_type": "code",
   "execution_count": 135,
   "metadata": {},
   "outputs": [
    {
     "name": "stdout",
     "output_type": "stream",
     "text": [
      "ma_人民版高中历史必修一现代中国部分.txt\n",
      "tw_龙腾.txt\n",
      "ma_人民版高中历史必修二现代中国部分.txt\n",
      "tw_南一第二.txt\n",
      "ma_人教版高中历史必修二现代中国部分.txt\n",
      "ma_人教版高中历史必修一现代中国部分.txt\n",
      "ma_岳麓版高中历史必修三现代中国部分.txt\n",
      "hk_現代5上.txt\n",
      "hk_現代5下.txt\n",
      "tw_康熹.txt\n",
      "hk_現代4下.txt\n",
      "hk_文達必修6.txt\n",
      "ma_人民版高中历史必修三现代中国部分.txt\n",
      "hk_文達必修5.txt\n",
      "hk_文達必修4.txt\n",
      "ma_岳麓版高中历史必修一现代中国部分.txt\n",
      "ma_人教版高中历史必修三现代中国部分.txt\n",
      "ma_岳麓版高中历史必修二现代中国部分.txt\n"
     ]
    }
   ],
   "source": [
    "path = \"/Users/onyilam/Dropbox/history_textbooks_txt\"\n",
    "\n",
    "# read files by origin as  and split them into sentences\n",
    "\n",
    "corpus = pd.DataFrame()\n",
    "for file in os.listdir(path):\n",
    "    for val in ['tw_', 'ma_', 'hk_']:\n",
    "        if file.startswith(val):\n",
    "            print(file)\n",
    "            with open(os.path.join(path, file), 'r') as f:\n",
    "                text = f.read()\n",
    "                text = text.replace('\\r', '').replace('\\n', '').replace('\\t', '')\n",
    "                indivStr = text.split('。')\n",
    "                df = pd.DataFrame(indivStr)\n",
    "                df['origin'] = val[:-1]\n",
    "                corpus = corpus.append(df)\n",
    "                \n"
   ]
  },
  {
   "cell_type": "code",
   "execution_count": 136,
   "metadata": {},
   "outputs": [],
   "source": [
    "\n",
    "corpus.columns = ['sentence', 'origin']\n",
    "#remove empty rows\n",
    "corpus = corpus[corpus['sentence']!=\"\"]\n",
    "# dummify the origin variable\n",
    "corpus = pd.concat( [corpus, pd.get_dummies(corpus['origin'])], axis = 1)\n"
   ]
  },
  {
   "cell_type": "code",
   "execution_count": 137,
   "metadata": {},
   "outputs": [],
   "source": [
    "s = corpus['sentence'].apply(lambda x: SnowNLP(x))"
   ]
  },
  {
   "cell_type": "code",
   "execution_count": 138,
   "metadata": {},
   "outputs": [],
   "source": [
    "sentiments = []\n",
    "for sent in s:\n",
    "    sentiments.append(sent.sentiments)"
   ]
  },
  {
   "cell_type": "code",
   "execution_count": 139,
   "metadata": {},
   "outputs": [
    {
     "data": {
      "text/plain": [
       "8560"
      ]
     },
     "execution_count": 139,
     "metadata": {},
     "output_type": "execute_result"
    }
   ],
   "source": [
    "len(corpus)"
   ]
  },
  {
   "cell_type": "code",
   "execution_count": 140,
   "metadata": {},
   "outputs": [],
   "source": [
    "sentiments = pd.DataFrame(sentiments)\n",
    "sentiments.columns = ['sentiment']"
   ]
  },
  {
   "cell_type": "code",
   "execution_count": 141,
   "metadata": {},
   "outputs": [],
   "source": [
    "corpus = corpus.reset_index(drop=True)"
   ]
  },
  {
   "cell_type": "code",
   "execution_count": 142,
   "metadata": {},
   "outputs": [],
   "source": [
    "corpus =pd.concat( [corpus, sentiments] , axis=1) "
   ]
  },
  {
   "cell_type": "code",
   "execution_count": 143,
   "metadata": {},
   "outputs": [
    {
     "data": {
      "text/html": [
       "<div>\n",
       "<style scoped>\n",
       "    .dataframe tbody tr th:only-of-type {\n",
       "        vertical-align: middle;\n",
       "    }\n",
       "\n",
       "    .dataframe tbody tr th {\n",
       "        vertical-align: top;\n",
       "    }\n",
       "\n",
       "    .dataframe thead th {\n",
       "        text-align: right;\n",
       "    }\n",
       "</style>\n",
       "<table border=\"1\" class=\"dataframe\">\n",
       "  <thead>\n",
       "    <tr style=\"text-align: right;\">\n",
       "      <th></th>\n",
       "      <th>sentence</th>\n",
       "      <th>origin</th>\n",
       "      <th>hk</th>\n",
       "      <th>ma</th>\n",
       "      <th>tw</th>\n",
       "      <th>sentiment</th>\n",
       "    </tr>\n",
       "  </thead>\n",
       "  <tbody>\n",
       "    <tr>\n",
       "      <th>4395</th>\n",
       "      <td>1996年四月叶利钦再次访华与江泽民会唔再次发表联合声明宣布建立平等信任的战略协作夥伴关係同年12月李鹏访俄，与叶利钦商讨机械製造航天科技航空运输能源及农业等大型合作项目九十年代双方发表关於世纪之交的中俄关係的联合声明显示双方在经济文化及军事上合作更趋紧密</td>\n",
       "      <td>hk</td>\n",
       "      <td>1</td>\n",
       "      <td>0</td>\n",
       "      <td>0</td>\n",
       "      <td>0.000006</td>\n",
       "    </tr>\n",
       "    <tr>\n",
       "      <th>1679</th>\n",
       "      <td>为了防止白银外流，国民政府于1935年实行“币制改革”，主要内容是：(1)自11月4日起，以中央银行、中国银行、交通银行发行的钞票为法币，缴粮纳税及一切公私款项的收付，概以法币为限，不得使用白银，违者全数没收，其他银行发行的钞券逐渐以中央银行钞票换回；(2)白银国有，凡银钱行号、商店、公私机关或个人持有的银币等均应交指定机构兑换法币； (3)由中央、中国、交通三银行无限制买卖外汇，以稳定法...</td>\n",
       "      <td>ma</td>\n",
       "      <td>0</td>\n",
       "      <td>1</td>\n",
       "      <td>0</td>\n",
       "      <td>0.000035</td>\n",
       "    </tr>\n",
       "    <tr>\n",
       "      <th>3903</th>\n",
       "      <td>临时政府拒绝承认俄蒙协约并派外交部长陆徵祥与俄国交涉经过一个多月的谈判双方最终在1913年五月达成协议中国承认外蒙自治及俄国在外蒙的利益俄国得承认中国在外蒙之宗主权10月袁世凯就任正式大总统为争取俄国的支持他在11月与俄国签订中俄声明承认外蒙协约及接受外蒙的自治权</td>\n",
       "      <td>hk</td>\n",
       "      <td>1</td>\n",
       "      <td>0</td>\n",
       "      <td>0</td>\n",
       "      <td>0.000037</td>\n",
       "    </tr>\n",
       "    <tr>\n",
       "      <th>7045</th>\n",
       "      <td>在谈判未果的情况下，联军炮轰大沾 炮台</td>\n",
       "      <td>hk</td>\n",
       "      <td>1</td>\n",
       "      <td>0</td>\n",
       "      <td>0</td>\n",
       "      <td>0.000048</td>\n",
       "    </tr>\n",
       "    <tr>\n",
       "      <th>5325</th>\n",
       "      <td>天津条约签订後咸丰帝对条约内容并不满意尤其是公使驻京一项认为有损中国威严要求大臣设法挽回又下令修复大沽口炮台防範列强再次来袭1859年6月玩约期届临英法公使率军舰北上换约</td>\n",
       "      <td>hk</td>\n",
       "      <td>1</td>\n",
       "      <td>0</td>\n",
       "      <td>0</td>\n",
       "      <td>0.000071</td>\n",
       "    </tr>\n",
       "    <tr>\n",
       "      <th>...</th>\n",
       "      <td>...</td>\n",
       "      <td>...</td>\n",
       "      <td>...</td>\n",
       "      <td>...</td>\n",
       "      <td>...</td>\n",
       "      <td>...</td>\n",
       "    </tr>\n",
       "    <tr>\n",
       "      <th>4247</th>\n",
       "      <td>至20世纪90年代开始中央政府以上开浦东为龙头进一步开放长江沿岸城市新开发地区东起浦东西至四川重庆同时中国亦开始开放沿边城市建成周边对外开放的格局至1992年10月国务院批准开放的城市有300多个形成全方位对外开放之格局改革开放後各种社会问题湧现社会的福利需求上升政府着手改革社会福利制度确立在城镇实行社会统筹和个人账户结合的养老医疗保险制度的改革思路并加快建立多层次的社会保障体系完善失业保...</td>\n",
       "      <td>hk</td>\n",
       "      <td>1</td>\n",
       "      <td>0</td>\n",
       "      <td>0</td>\n",
       "      <td>1.000000</td>\n",
       "    </tr>\n",
       "    <tr>\n",
       "      <th>4245</th>\n",
       "      <td>六四事件後中共以赵紫阳处理事件失当为由撤销他党内一切职务提拔政治局委员兼上海市委书记江泽民继任中共中央总书记一职1989年11月江泽民接替邓小平成为中共中央军委主席1993年江泽民出任国家主席为中共第叁代领导集体的核心1992年初邓小平南巡考察武昌广州深圳及珠海等地期间就中国经济发展问题发表多次重要讲话就姓资姓社的争论作出回应肯定了改革开放的成就并重申坚持及深化改革开放的政策1992年10...</td>\n",
       "      <td>hk</td>\n",
       "      <td>1</td>\n",
       "      <td>0</td>\n",
       "      <td>0</td>\n",
       "      <td>1.000000</td>\n",
       "    </tr>\n",
       "    <tr>\n",
       "      <th>5897</th>\n",
       "      <td>苏联是国际共产运动的领袖过去一直支持中共的革命事业中共建国初期科技经济发展较为落後欠缺资金和技术需要苏联的支援同时要向苏联学习建设社会主义的经验苏联为抗衡以美国为首的资本主义阵营积极在亚洲扶植社会主义政权这些历史与现实的因素使中共在外交政策上全面倒向以苏联为首的社会主义阵营实行一边倒政策</td>\n",
       "      <td>hk</td>\n",
       "      <td>1</td>\n",
       "      <td>0</td>\n",
       "      <td>0</td>\n",
       "      <td>1.000000</td>\n",
       "    </tr>\n",
       "    <tr>\n",
       "      <th>5464</th>\n",
       "      <td>维新运动以後西学传播日广知识分子积极兴办学堂出版报刊及翻译西书讲求新学当时出洋留学的学生日多他们接触外国先进的政治社会制度後激发痛恨满清的腐败无能回国後遂致力宣传革命在上海湖南湖北等地革命刊物像雨後春笋般湧现其中以同盟会的民报邹容的革命军陈天华的猛回头及警世钟流传最广影响最大有利革命思潮的传播另一方面革命团体亦纷纷成立著名的有孙中山的兴中会黄兴的华兴会蔡元培的光复会等到1905年这些团体联...</td>\n",
       "      <td>hk</td>\n",
       "      <td>1</td>\n",
       "      <td>0</td>\n",
       "      <td>0</td>\n",
       "      <td>1.000000</td>\n",
       "    </tr>\n",
       "    <tr>\n",
       "      <th>7385</th>\n",
       "      <td>变法的法令，力图改造也喜 旧有的体制，在政治、经济、文教等方面对封建制度造成衝击，也影响了日後的政治改革启迪革命力量维新变法的失败，使更多的有远见人士对清廷不再抱有希望，认清改革未能挽救中国於危难，要使中国 真正成为独立、富强的国家，必须走上革命的道路，推翻 清朝的封建统治，建立民主共和政体</td>\n",
       "      <td>hk</td>\n",
       "      <td>1</td>\n",
       "      <td>0</td>\n",
       "      <td>0</td>\n",
       "      <td>1.000000</td>\n",
       "    </tr>\n",
       "  </tbody>\n",
       "</table>\n",
       "<p>8560 rows × 6 columns</p>\n",
       "</div>"
      ],
      "text/plain": [
       "                                                                                                                                                                                                     sentence  \\\n",
       "4395                                                                         1996年四月叶利钦再次访华与江泽民会唔再次发表联合声明宣布建立平等信任的战略协作夥伴关係同年12月李鹏访俄，与叶利钦商讨机械製造航天科技航空运输能源及农业等大型合作项目九十年代双方发表关於世纪之交的中俄关係的联合声明显示双方在经济文化及军事上合作更趋紧密   \n",
       "1679  为了防止白银外流，国民政府于1935年实行“币制改革”，主要内容是：(1)自11月4日起，以中央银行、中国银行、交通银行发行的钞票为法币，缴粮纳税及一切公私款项的收付，概以法币为限，不得使用白银，违者全数没收，其他银行发行的钞券逐渐以中央银行钞票换回；(2)白银国有，凡银钱行号、商店、公私机关或个人持有的银币等均应交指定机构兑换法币； (3)由中央、中国、交通三银行无限制买卖外汇，以稳定法...   \n",
       "3903                                                                     临时政府拒绝承认俄蒙协约并派外交部长陆徵祥与俄国交涉经过一个多月的谈判双方最终在1913年五月达成协议中国承认外蒙自治及俄国在外蒙的利益俄国得承认中国在外蒙之宗主权10月袁世凯就任正式大总统为争取俄国的支持他在11月与俄国签订中俄声明承认外蒙协约及接受外蒙的自治权   \n",
       "7045                                                                                                                                                                                      在谈判未果的情况下，联军炮轰大沾 炮台   \n",
       "5325                                                                                                                    天津条约签订後咸丰帝对条约内容并不满意尤其是公使驻京一项认为有损中国威严要求大臣设法挽回又下令修复大沽口炮台防範列强再次来袭1859年6月玩约期届临英法公使率军舰北上换约   \n",
       "...                                                                                                                                                                                                       ...   \n",
       "4247  至20世纪90年代开始中央政府以上开浦东为龙头进一步开放长江沿岸城市新开发地区东起浦东西至四川重庆同时中国亦开始开放沿边城市建成周边对外开放的格局至1992年10月国务院批准开放的城市有300多个形成全方位对外开放之格局改革开放後各种社会问题湧现社会的福利需求上升政府着手改革社会福利制度确立在城镇实行社会统筹和个人账户结合的养老医疗保险制度的改革思路并加快建立多层次的社会保障体系完善失业保...   \n",
       "4245  六四事件後中共以赵紫阳处理事件失当为由撤销他党内一切职务提拔政治局委员兼上海市委书记江泽民继任中共中央总书记一职1989年11月江泽民接替邓小平成为中共中央军委主席1993年江泽民出任国家主席为中共第叁代领导集体的核心1992年初邓小平南巡考察武昌广州深圳及珠海等地期间就中国经济发展问题发表多次重要讲话就姓资姓社的争论作出回应肯定了改革开放的成就并重申坚持及深化改革开放的政策1992年10...   \n",
       "5897                                                         苏联是国际共产运动的领袖过去一直支持中共的革命事业中共建国初期科技经济发展较为落後欠缺资金和技术需要苏联的支援同时要向苏联学习建设社会主义的经验苏联为抗衡以美国为首的资本主义阵营积极在亚洲扶植社会主义政权这些历史与现实的因素使中共在外交政策上全面倒向以苏联为首的社会主义阵营实行一边倒政策   \n",
       "5464  维新运动以後西学传播日广知识分子积极兴办学堂出版报刊及翻译西书讲求新学当时出洋留学的学生日多他们接触外国先进的政治社会制度後激发痛恨满清的腐败无能回国後遂致力宣传革命在上海湖南湖北等地革命刊物像雨後春笋般湧现其中以同盟会的民报邹容的革命军陈天华的猛回头及警世钟流传最广影响最大有利革命思潮的传播另一方面革命团体亦纷纷成立著名的有孙中山的兴中会黄兴的华兴会蔡元培的光复会等到1905年这些团体联...   \n",
       "7385                                                       变法的法令，力图改造也喜 旧有的体制，在政治、经济、文教等方面对封建制度造成衝击，也影响了日後的政治改革启迪革命力量维新变法的失败，使更多的有远见人士对清廷不再抱有希望，认清改革未能挽救中国於危难，要使中国 真正成为独立、富强的国家，必须走上革命的道路，推翻 清朝的封建统治，建立民主共和政体   \n",
       "\n",
       "     origin  hk  ma  tw  sentiment  \n",
       "4395     hk   1   0   0   0.000006  \n",
       "1679     ma   0   1   0   0.000035  \n",
       "3903     hk   1   0   0   0.000037  \n",
       "7045     hk   1   0   0   0.000048  \n",
       "5325     hk   1   0   0   0.000071  \n",
       "...     ...  ..  ..  ..        ...  \n",
       "4247     hk   1   0   0   1.000000  \n",
       "4245     hk   1   0   0   1.000000  \n",
       "5897     hk   1   0   0   1.000000  \n",
       "5464     hk   1   0   0   1.000000  \n",
       "7385     hk   1   0   0   1.000000  \n",
       "\n",
       "[8560 rows x 6 columns]"
      ]
     },
     "execution_count": 143,
     "metadata": {},
     "output_type": "execute_result"
    }
   ],
   "source": [
    "corpus.sort_values(['sentiment'])"
   ]
  },
  {
   "cell_type": "code",
   "execution_count": 144,
   "metadata": {},
   "outputs": [
    {
     "data": {
      "text/plain": [
       "origin\n",
       "hk    0.993922\n",
       "ma    0.993213\n",
       "tw    0.991316\n",
       "Name: sentiment, dtype: float64"
      ]
     },
     "execution_count": 144,
     "metadata": {},
     "output_type": "execute_result"
    }
   ],
   "source": [
    "corpus.groupby(['origin'])['sentiment'].median()"
   ]
  },
  {
   "cell_type": "code",
   "execution_count": 109,
   "metadata": {},
   "outputs": [],
   "source": [
    "x = '11996年四月叶利钦再次访华与江泽民会唔再次发表联合声明宣布建立平等信任的战略协作夥伴关係'\n",
    "x = '同年12月李鹏访俄，与叶利钦商讨机械製造航天科技航空运输能源及农业等大型合作项目.'\n",
    "x = '九十年代双方发表关於世纪之交的中俄关係的联合声明, 显示双方在经济文化及军事上合作更趋紧密'\n",
    "s=SnowNLP(x)\n"
   ]
  },
  {
   "cell_type": "code",
   "execution_count": 110,
   "metadata": {},
   "outputs": [
    {
     "data": {
      "text/plain": [
       "0.04755280571365195"
      ]
     },
     "execution_count": 110,
     "metadata": {},
     "output_type": "execute_result"
    }
   ],
   "source": [
    "s.sentiments"
   ]
  },
  {
   "cell_type": "code",
   "execution_count": 122,
   "metadata": {},
   "outputs": [
    {
     "data": {
      "text/plain": [
       "'活跃于东北各地的义勇军给日伪军以沉重打击'"
      ]
     },
     "execution_count": 122,
     "metadata": {},
     "output_type": "execute_result"
    }
   ],
   "source": [
    "corpus.iloc[151].sentence"
   ]
  },
  {
   "cell_type": "code",
   "execution_count": 134,
   "metadata": {},
   "outputs": [
    {
     "data": {
      "text/plain": [
       "470    此外中国不但与印度的关係有了显著改善两国首脑多次互访同事由於新加坡汶莱等国建交与东南亚各国的关係有了新的发展\n",
       "Name: sentence, dtype: object"
      ]
     },
     "execution_count": 134,
     "metadata": {},
     "output_type": "execute_result"
    }
   ],
   "source": [
    "corpus[corpus['sentence'].str.contains('此外中国不但与印度的关係')].sentence"
   ]
  },
  {
   "cell_type": "code",
   "execution_count": 123,
   "metadata": {},
   "outputs": [],
   "source": [
    "pd.set_option('display.max_colwidth', 200)"
   ]
  },
  {
   "cell_type": "code",
   "execution_count": null,
   "metadata": {},
   "outputs": [],
   "source": []
  }
 ],
 "metadata": {
  "kernelspec": {
   "display_name": "Python 3",
   "language": "python",
   "name": "python3"
  },
  "language_info": {
   "codemirror_mode": {
    "name": "ipython",
    "version": 3
   },
   "file_extension": ".py",
   "mimetype": "text/x-python",
   "name": "python",
   "nbconvert_exporter": "python",
   "pygments_lexer": "ipython3",
   "version": "3.7.6"
  }
 },
 "nbformat": 4,
 "nbformat_minor": 4
}
