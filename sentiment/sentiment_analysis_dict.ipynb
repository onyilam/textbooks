{
 "cells": [
  {
   "cell_type": "code",
   "execution_count": 179,
   "metadata": {},
   "outputs": [],
   "source": [
    "import pandas as pd\n",
    "import numpy as np\n",
    "import jieba\n",
    "import os\n",
    "import seaborn as sns"
   ]
  },
  {
   "cell_type": "markdown",
   "metadata": {},
   "source": [
    "rather than using built in dict from existing libraries, use external sentiment dictionary. Unit of analysis is version."
   ]
  },
  {
   "cell_type": "code",
   "execution_count": 19,
   "metadata": {},
   "outputs": [],
   "source": [
    "sentment_table = pd.read_excel('情感词典修改版.xlsx')\n",
    "sentment_table.drop(['Unnamed: 10','Unnamed: 11'],inplace=True,axis=1)\n",
    "pos_table = pd.read_excel('情感词典修改版.xlsx',sheet_name='Sheet2', header=None)\n",
    "neg_table = pd.read_excel('情感词典修改版.xlsx',sheet_name='Sheet3', header=None)"
   ]
  },
  {
   "cell_type": "code",
   "execution_count": 10,
   "metadata": {},
   "outputs": [],
   "source": [
    "pos_table.columns = ['posword', 'score']\n",
    "neg_table.columns = ['negword', 'score']\n",
    "pos_dict = dict(zip(list(pos_table.posword),list(pos_table.score)))\n",
    "neg_dict = dict(zip(list(neg_table.negword),map(lambda a:a*(0-1),list(neg_table.score)) ))\n",
    "sentment_dict={**pos_dict,**neg_dict}"
   ]
  },
  {
   "cell_type": "code",
   "execution_count": 13,
   "metadata": {},
   "outputs": [
    {
     "name": "stderr",
     "output_type": "stream",
     "text": [
      "Building prefix dict from the default dictionary ...\n",
      "Dumping model to file cache /var/folders/24/_5wy0sws5fb4gqxn_rjr22cm0000gn/T/jieba.cache\n",
      "Loading model cost 0.879 seconds.\n",
      "Prefix dict has been built successfully.\n"
     ]
    }
   ],
   "source": [
    "for w in sentment_dict.keys():\n",
    "    jieba.suggest_freq(w,True)"
   ]
  },
  {
   "cell_type": "code",
   "execution_count": 221,
   "metadata": {},
   "outputs": [
    {
     "name": "stdout",
     "output_type": "stream",
     "text": [
      "ma_人民版高中历史必修一现代中国部分.txt\n",
      "tw_龙腾.txt\n",
      "ma_人民版高中历史必修二现代中国部分.txt\n",
      "tw_南一第二.txt\n",
      "ma_人教版高中历史必修二现代中国部分.txt\n",
      "ma_人教版高中历史必修一现代中国部分.txt\n",
      "ma_岳麓版高中历史必修三现代中国部分.txt\n",
      "hk_現代5上.txt\n",
      "hk_現代5下.txt\n",
      "tw_康熹.txt\n",
      "hk_現代4下.txt\n",
      "hk_文達必修6.txt\n",
      "ma_人民版高中历史必修三现代中国部分.txt\n",
      "hk_文達必修5.txt\n",
      "hk_文達必修4.txt\n",
      "ma_岳麓版高中历史必修一现代中国部分.txt\n",
      "ma_人教版高中历史必修三现代中国部分.txt\n",
      "ma_岳麓版高中历史必修二现代中国部分.txt\n"
     ]
    }
   ],
   "source": [
    "path = \"/Users/onyilam/Dropbox/history_textbooks_txt\"\n",
    "\n",
    "# read files by origin as  and split them into sentences\n",
    "\n",
    "corpus = pd.DataFrame()\n",
    "for file in os.listdir(path):\n",
    "    for val in ['tw_', 'ma_', 'hk_']:\n",
    "        if file.startswith(val):\n",
    "            print(file)\n",
    "            with open(os.path.join(path, file), 'r') as f:\n",
    "                text = f.read()\n",
    "                text = text.replace('\\r', '').replace('\\n', '').replace('\\t', '')\n",
    "                #indivStr = re.split('。|？|:', text)\n",
    "                indivStr = re.split('---------', text)\n",
    "                df = pd.DataFrame(indivStr)\n",
    "                df['origin'] = val[:-1]\n",
    "                df['book'] = file\n",
    "                corpus = corpus.append(df)\n",
    "                \n",
    "                "
   ]
  },
  {
   "cell_type": "code",
   "execution_count": 222,
   "metadata": {},
   "outputs": [],
   "source": [
    "corpus.columns = ['sentence', 'origin', 'book']\n",
    "#remove empty rows\n",
    "corpus = corpus[corpus['sentence']!=\"\"]\n",
    "# dummify the origin variable\n",
    "corpus = pd.concat( [corpus, pd.get_dummies(corpus['origin'])], axis = 1)\n"
   ]
  },
  {
   "cell_type": "code",
   "execution_count": 223,
   "metadata": {},
   "outputs": [],
   "source": [
    "corpus['version'] = corpus['book'].str[:5]"
   ]
  },
  {
   "cell_type": "code",
   "execution_count": 224,
   "metadata": {},
   "outputs": [],
   "source": [
    "def sent2word(sentence):\n",
    "    words = jieba.cut(sentence, HMM=False)\n",
    "    #words = [w for w in words if w not in stop_words]\n",
    "    return words"
   ]
  },
  {
   "cell_type": "code",
   "execution_count": 225,
   "metadata": {},
   "outputs": [],
   "source": [
    "def get_sentment(sent):\n",
    "    tokens = sent2word(sent)\n",
    "    score = 0\n",
    "    countword = 0\n",
    "    for w in tokens:\n",
    "        \n",
    "        if w in sentment_dict.keys():\n",
    "            score += sentment_dict[w]\n",
    "            countword += 1\n",
    "    if countword != 0:\n",
    "        return score/countword\n",
    "    else:\n",
    "        return 0"
   ]
  },
  {
   "cell_type": "code",
   "execution_count": 226,
   "metadata": {},
   "outputs": [],
   "source": [
    "def get_feature(sent):\n",
    "    tokens = sent2word(sent)\n",
    "    feature_list = []\n",
    "    for w in tokens:\n",
    "        \n",
    "        if w in sentment_dict.keys():\n",
    "            feature_list.append( (w, sentment_dict[w]))\n",
    "            \n",
    "    \n",
    "    return feature_list\n",
    "    "
   ]
  },
  {
   "cell_type": "code",
   "execution_count": 227,
   "metadata": {},
   "outputs": [],
   "source": [
    "# group by version, and calculate the aggregate sentiment\n",
    "corpus = corpus.groupby(['version'])['sentence'].apply(','.join).reset_index()\n",
    "corpus['sentiment'] = corpus['sentence'].apply(lambda x: get_sentment(x))"
   ]
  },
  {
   "cell_type": "code",
   "execution_count": 228,
   "metadata": {},
   "outputs": [],
   "source": [
    "corpus['feature_list'] = corpus['sentence'].apply(lambda x: get_feature(x))\n",
    "corpus['origin'] = corpus['version'].str[:2]"
   ]
  },
  {
   "cell_type": "code",
   "execution_count": 229,
   "metadata": {},
   "outputs": [
    {
     "data": {
      "text/html": [
       "<div>\n",
       "<style scoped>\n",
       "    .dataframe tbody tr th:only-of-type {\n",
       "        vertical-align: middle;\n",
       "    }\n",
       "\n",
       "    .dataframe tbody tr th {\n",
       "        vertical-align: top;\n",
       "    }\n",
       "\n",
       "    .dataframe thead th {\n",
       "        text-align: right;\n",
       "    }\n",
       "</style>\n",
       "<table border=\"1\" class=\"dataframe\">\n",
       "  <thead>\n",
       "    <tr style=\"text-align: right;\">\n",
       "      <th></th>\n",
       "      <th>version</th>\n",
       "      <th>sentence</th>\n",
       "      <th>sentiment</th>\n",
       "      <th>feature_list</th>\n",
       "      <th>origin</th>\n",
       "    </tr>\n",
       "  </thead>\n",
       "  <tbody>\n",
       "    <tr>\n",
       "      <th>0</th>\n",
       "      <td>hk_文達</td>\n",
       "      <td>第一节 建国初期巩固政权的措施中华人民共和国成立後面对着不少困难为了稳定局势及恢复经济中央政...</td>\n",
       "      <td>-0.004450</td>\n",
       "      <td>[(恢复, 1), (反革命, -5), (地主, -3), (剥削, -3), (支持, ...</td>\n",
       "      <td>hk</td>\n",
       "    </tr>\n",
       "    <tr>\n",
       "      <th>1</th>\n",
       "      <td>hk_現代</td>\n",
       "      <td>课题一民初政局第一章袁世凯的帝制运动 中华民国成立後中央政府的权力落在袁世凯手上他曾压革命党...</td>\n",
       "      <td>0.113703</td>\n",
       "      <td>[(恢复, 1), (民主, 3), (摧残, -5), (推荐, 7), (革命, 3),...</td>\n",
       "      <td>hk</td>\n",
       "    </tr>\n",
       "    <tr>\n",
       "      <th>6</th>\n",
       "      <td>tw_康熹</td>\n",
       "      <td>﻿第四篇 近代的冲击（晚清）第九章 敌国的倾颓第一节 西力冲击与西风东渐单口通商下的中外关系...</td>\n",
       "      <td>0.618774</td>\n",
       "      <td>[(敌国, -1), (无知, -7), (自诩, -5), (才能, 5), (朝贡, 5...</td>\n",
       "      <td>tw</td>\n",
       "    </tr>\n",
       "    <tr>\n",
       "      <th>5</th>\n",
       "      <td>tw_南一</td>\n",
       "      <td>P.118清朝晚期，可説是内外交迫。除遭受列强不断侵略外外，从十九世纪中叶起的二十馀年间，内...</td>\n",
       "      <td>0.851506</td>\n",
       "      <td>[(列强, -7), (侵略, -3), (动乱, -7), (频仍, -3), (散兵游勇...</td>\n",
       "      <td>tw</td>\n",
       "    </tr>\n",
       "    <tr>\n",
       "      <th>7</th>\n",
       "      <td>tw_龙腾</td>\n",
       "      <td>第四篇 近代的冲击至晚清第九章 敌国的倾颓第一节 内部动乱与地方势力的崛起一、白莲教之乱社会...</td>\n",
       "      <td>0.961128</td>\n",
       "      <td>[(敌国, -1), (动乱, -7), (茂密, 3), (活跃, 5), (败坏, -5...</td>\n",
       "      <td>tw</td>\n",
       "    </tr>\n",
       "    <tr>\n",
       "      <th>3</th>\n",
       "      <td>ma_人民</td>\n",
       "      <td>从1840年开始，为打开中国的大门，列强凭借强大的经济实力和船坚炮利的军事优势，屡屡对中国发...</td>\n",
       "      <td>1.459016</td>\n",
       "      <td>[(列强, -7), (强大, 5), (侵略战争, -7), (不平等条约, -7), (...</td>\n",
       "      <td>ma</td>\n",
       "    </tr>\n",
       "    <tr>\n",
       "      <th>2</th>\n",
       "      <td>ma_人教</td>\n",
       "      <td>第三单元 近代中国经济结构的变动与资本主义的曲折发展鸦片战争以后，西方列强的经济侵略，摧毁了...</td>\n",
       "      <td>1.574638</td>\n",
       "      <td>[(变动, -5), (列强, -7), (摧毁, -7), (瓦解, -5), (封建, ...</td>\n",
       "      <td>ma</td>\n",
       "    </tr>\n",
       "    <tr>\n",
       "      <th>4</th>\n",
       "      <td>ma_岳麓</td>\n",
       "      <td>﻿第五单元 近现代中国的先进思想第二十课 西学东渐开眼看世界鸦片战争前后，外国资本主义对中国...</td>\n",
       "      <td>1.799840</td>\n",
       "      <td>[(先进, 5), (抵御, 3), (侵略, -3), (热忱, 5), (先进, 5),...</td>\n",
       "      <td>ma</td>\n",
       "    </tr>\n",
       "  </tbody>\n",
       "</table>\n",
       "</div>"
      ],
      "text/plain": [
       "  version                                           sentence  sentiment  \\\n",
       "0   hk_文達  第一节 建国初期巩固政权的措施中华人民共和国成立後面对着不少困难为了稳定局势及恢复经济中央政...  -0.004450   \n",
       "1   hk_現代  课题一民初政局第一章袁世凯的帝制运动 中华民国成立後中央政府的权力落在袁世凯手上他曾压革命党...   0.113703   \n",
       "6   tw_康熹  ﻿第四篇 近代的冲击（晚清）第九章 敌国的倾颓第一节 西力冲击与西风东渐单口通商下的中外关系...   0.618774   \n",
       "5   tw_南一  P.118清朝晚期，可説是内外交迫。除遭受列强不断侵略外外，从十九世纪中叶起的二十馀年间，内...   0.851506   \n",
       "7   tw_龙腾  第四篇 近代的冲击至晚清第九章 敌国的倾颓第一节 内部动乱与地方势力的崛起一、白莲教之乱社会...   0.961128   \n",
       "3   ma_人民  从1840年开始，为打开中国的大门，列强凭借强大的经济实力和船坚炮利的军事优势，屡屡对中国发...   1.459016   \n",
       "2   ma_人教  第三单元 近代中国经济结构的变动与资本主义的曲折发展鸦片战争以后，西方列强的经济侵略，摧毁了...   1.574638   \n",
       "4   ma_岳麓  ﻿第五单元 近现代中国的先进思想第二十课 西学东渐开眼看世界鸦片战争前后，外国资本主义对中国...   1.799840   \n",
       "\n",
       "                                        feature_list origin  \n",
       "0  [(恢复, 1), (反革命, -5), (地主, -3), (剥削, -3), (支持, ...     hk  \n",
       "1  [(恢复, 1), (民主, 3), (摧残, -5), (推荐, 7), (革命, 3),...     hk  \n",
       "6  [(敌国, -1), (无知, -7), (自诩, -5), (才能, 5), (朝贡, 5...     tw  \n",
       "5  [(列强, -7), (侵略, -3), (动乱, -7), (频仍, -3), (散兵游勇...     tw  \n",
       "7  [(敌国, -1), (动乱, -7), (茂密, 3), (活跃, 5), (败坏, -5...     tw  \n",
       "3  [(列强, -7), (强大, 5), (侵略战争, -7), (不平等条约, -7), (...     ma  \n",
       "2  [(变动, -5), (列强, -7), (摧毁, -7), (瓦解, -5), (封建, ...     ma  \n",
       "4  [(先进, 5), (抵御, 3), (侵略, -3), (热忱, 5), (先进, 5),...     ma  "
      ]
     },
     "execution_count": 229,
     "metadata": {},
     "output_type": "execute_result"
    }
   ],
   "source": [
    "corpus.sort_values('sentiment')"
   ]
  },
  {
   "cell_type": "code",
   "execution_count": 230,
   "metadata": {},
   "outputs": [
    {
     "data": {
      "text/plain": [
       "8"
      ]
     },
     "execution_count": 230,
     "metadata": {},
     "output_type": "execute_result"
    }
   ],
   "source": [
    "len(corpus)"
   ]
  },
  {
   "cell_type": "code",
   "execution_count": 231,
   "metadata": {},
   "outputs": [
    {
     "data": {
      "text/plain": [
       "origin\n",
       "hk    0.054626\n",
       "ma    1.611165\n",
       "tw    0.810469\n",
       "Name: sentiment, dtype: float64"
      ]
     },
     "execution_count": 231,
     "metadata": {},
     "output_type": "execute_result"
    }
   ],
   "source": [
    "corpus.groupby(['origin'])['sentiment'].mean()"
   ]
  },
  {
   "cell_type": "code",
   "execution_count": 233,
   "metadata": {},
   "outputs": [],
   "source": [
    "def char_count(sent):\n",
    "    #remove punctuation\n",
    "    punc = \"！？｡。＂＃＄％＆＇（）＊＋，－／：；＜＝＞＠［＼］＾＿｀｛｜｝～｟｠｢｣､、〃》「」『』【】〔〕〖〗〘〙〚〛〜〝〞〟〰〾〿–—‘’‛“”„‟…‧﹏.\"\n",
    "    sent = re.sub(r\"[%s]+\" %punc, \"\", sent)\n",
    "    return len(sent)"
   ]
  },
  {
   "cell_type": "code",
   "execution_count": 234,
   "metadata": {},
   "outputs": [],
   "source": [
    "corpus['num_char'] = corpus['sentence'].apply(lambda x: char_count(x))"
   ]
  },
  {
   "cell_type": "code",
   "execution_count": 235,
   "metadata": {},
   "outputs": [
    {
     "data": {
      "text/plain": [
       "origin\n",
       "hk    84012.500000\n",
       "ma    47510.666667\n",
       "tw    36299.666667\n",
       "Name: num_char, dtype: float64"
      ]
     },
     "execution_count": 235,
     "metadata": {},
     "output_type": "execute_result"
    }
   ],
   "source": [
    "corpus.groupby(['origin'])['num_char'].mean()"
   ]
  },
  {
   "cell_type": "code",
   "execution_count": 153,
   "metadata": {},
   "outputs": [
    {
     "data": {
      "text/plain": [
       "origin\n",
       "hk    5142.731910\n",
       "ma    6037.786966\n",
       "tw    4689.266929\n",
       "Name: num_char, dtype: float64"
      ]
     },
     "execution_count": 153,
     "metadata": {},
     "output_type": "execute_result"
    }
   ],
   "source": [
    "corpus.groupby(['origin'])['num_char'].std()"
   ]
  },
  {
   "cell_type": "code",
   "execution_count": 154,
   "metadata": {},
   "outputs": [
    {
     "data": {
      "text/plain": [
       "origin\n",
       "hk    28839.5\n",
       "ma    12031.0\n",
       "tw    34112.0\n",
       "Name: num_char, dtype: float64"
      ]
     },
     "execution_count": 154,
     "metadata": {},
     "output_type": "execute_result"
    }
   ],
   "source": [
    "corpus.groupby(['origin'])['num_char'].median()"
   ]
  },
  {
   "cell_type": "markdown",
   "metadata": {},
   "source": [
    "### Pre and Post 1949"
   ]
  },
  {
   "cell_type": "code",
   "execution_count": 236,
   "metadata": {},
   "outputs": [
    {
     "name": "stdout",
     "output_type": "stream",
     "text": [
      "tw_龙腾pre1949.txt\n",
      "ma_岳麓版pre1949.txt\n",
      "hk_現代pre1949.txt\n",
      "tw_南一post1949.txt\n",
      "ma_岳麓版高中历史必修一post1949.txt\n",
      "tw_康熹post1949.txt\n",
      "ma_人民版pre1949.txt\n",
      "ma_人民版高中历史必修post1949.txt\n",
      "ma_人教版高中历史必修一post1949.txt\n",
      "tw_康熹pre1949.txt\n",
      "hk_文達post1949.txt\n",
      "ma_人教版pre1949.txt\n",
      "hk_文達pre1949.txt\n",
      "hk_現代post1949.txt\n",
      "tw_南一pre1949.txt\n",
      "tw_龙腾post1949.txt\n"
     ]
    }
   ],
   "source": [
    "path = \"/Users/onyilam/Dropbox/history_textbooks_txt/Events/Post1949\"\n",
    "\n",
    "# read files by origin as  and split them into sentences\n",
    "\n",
    "corpus49 = pd.DataFrame()\n",
    "for file in os.listdir(path):\n",
    "    for val in ['tw_', 'ma_', 'hk_']:\n",
    "        if file.startswith(val) and 'old' not in file and 'all3' not in file: #excludes all3 from the filename\n",
    "            print(file)\n",
    "            with open(os.path.join(path, file), 'r') as f:\n",
    "                text = f.read()\n",
    "                text = text.replace('\\r', '').replace('\\n', '').replace('\\t', '')\n",
    "                #indivStr = re.split('。|？|:', text)\n",
    "                indivStr = re.split('---------', text)\n",
    "                df = pd.DataFrame(indivStr)\n",
    "                df['origin'] = val[:-1]\n",
    "                df['book'] = file\n",
    "                if 'pre' in file:\n",
    "                    df['period'] = 'pre'\n",
    "                else:\n",
    "                    df['period']='post'\n",
    "                corpus49 = corpus49.append(df)\n",
    "                \n",
    "                "
   ]
  },
  {
   "cell_type": "code",
   "execution_count": 237,
   "metadata": {},
   "outputs": [
    {
     "data": {
      "text/plain": [
       "16"
      ]
     },
     "execution_count": 237,
     "metadata": {},
     "output_type": "execute_result"
    }
   ],
   "source": [
    "len(corpus49)"
   ]
  },
  {
   "cell_type": "code",
   "execution_count": 238,
   "metadata": {},
   "outputs": [],
   "source": [
    "corpus49.columns = ['sentence', 'origin', 'book', 'period']\n",
    "#remove empty rows\n",
    "corpus49 = corpus49[corpus49['sentence']!=\"\"]\n",
    "# dummify the origin variable\n",
    "corpus49 = pd.concat( [corpus49, pd.get_dummies(corpus49['origin'])], axis = 1)\n",
    "corpus49['sentiment'] = corpus49['sentence'].apply(lambda x: get_sentment(x))"
   ]
  },
  {
   "cell_type": "code",
   "execution_count": 239,
   "metadata": {},
   "outputs": [
    {
     "data": {
      "text/html": [
       "<div>\n",
       "<style scoped>\n",
       "    .dataframe tbody tr th:only-of-type {\n",
       "        vertical-align: middle;\n",
       "    }\n",
       "\n",
       "    .dataframe tbody tr th {\n",
       "        vertical-align: top;\n",
       "    }\n",
       "\n",
       "    .dataframe thead th {\n",
       "        text-align: right;\n",
       "    }\n",
       "</style>\n",
       "<table border=\"1\" class=\"dataframe\">\n",
       "  <thead>\n",
       "    <tr style=\"text-align: right;\">\n",
       "      <th></th>\n",
       "      <th>sentence</th>\n",
       "      <th>origin</th>\n",
       "      <th>book</th>\n",
       "      <th>period</th>\n",
       "      <th>hk</th>\n",
       "      <th>ma</th>\n",
       "      <th>tw</th>\n",
       "      <th>sentiment</th>\n",
       "    </tr>\n",
       "  </thead>\n",
       "  <tbody>\n",
       "    <tr>\n",
       "      <th>0</th>\n",
       "      <td>从1840年开始，为打开中国的大门，列强凭借强大的经济实力和船坚炮利的军事优势，屡屡对中国发...</td>\n",
       "      <td>ma</td>\n",
       "      <td>ma_人民版pre1949.txt</td>\n",
       "      <td>pre</td>\n",
       "      <td>0</td>\n",
       "      <td>1</td>\n",
       "      <td>0</td>\n",
       "      <td>-0.650672</td>\n",
       "    </tr>\n",
       "    <tr>\n",
       "      <th>0</th>\n",
       "      <td>第四单元 内忧外患与中华民族的奋起当欧洲、北美资本主义制度确立之时，中国延续了2000多年的...</td>\n",
       "      <td>ma</td>\n",
       "      <td>ma_岳麓版pre1949.txt</td>\n",
       "      <td>pre</td>\n",
       "      <td>0</td>\n",
       "      <td>1</td>\n",
       "      <td>0</td>\n",
       "      <td>-0.371345</td>\n",
       "    </tr>\n",
       "    <tr>\n",
       "      <th>0</th>\n",
       "      <td>课题一 列强的入侵第一章中英鸦片战争乾隆晚年清朝隔世油性转衰嘉庆道光以来政治腐败经济凋敝社会...</td>\n",
       "      <td>hk</td>\n",
       "      <td>hk_現代pre1949.txt</td>\n",
       "      <td>pre</td>\n",
       "      <td>1</td>\n",
       "      <td>0</td>\n",
       "      <td>0</td>\n",
       "      <td>-0.277244</td>\n",
       "    </tr>\n",
       "    <tr>\n",
       "      <th>0</th>\n",
       "      <td>清朝统治前期曾出现了康雍乾盛世但到了乾隆晚年国力逐渐衰弱而此时的欧洲国家正迅速崛起进而觊觎中...</td>\n",
       "      <td>hk</td>\n",
       "      <td>hk_文達pre1949.txt</td>\n",
       "      <td>pre</td>\n",
       "      <td>1</td>\n",
       "      <td>0</td>\n",
       "      <td>0</td>\n",
       "      <td>-0.272274</td>\n",
       "    </tr>\n",
       "    <tr>\n",
       "      <th>0</th>\n",
       "      <td>第四单元 近代中国反侵略、求民主的潮流17世纪40年代，有两件大事在世界的东方和西方几乎同时...</td>\n",
       "      <td>ma</td>\n",
       "      <td>ma_人教版pre1949.txt</td>\n",
       "      <td>pre</td>\n",
       "      <td>0</td>\n",
       "      <td>1</td>\n",
       "      <td>0</td>\n",
       "      <td>0.029613</td>\n",
       "    </tr>\n",
       "    <tr>\n",
       "      <th>0</th>\n",
       "      <td>第二节 中华人民共和国的初期发展中共在国共内战获胜的原因在短短的4年内战之中，大陆竟然易手于...</td>\n",
       "      <td>tw</td>\n",
       "      <td>tw_康熹post1949.txt</td>\n",
       "      <td>post</td>\n",
       "      <td>0</td>\n",
       "      <td>0</td>\n",
       "      <td>1</td>\n",
       "      <td>0.398577</td>\n",
       "    </tr>\n",
       "    <tr>\n",
       "      <th>0</th>\n",
       "      <td>第一节 建国初期巩固政权的措施中华人民共和国成立後面对着不少困难为了稳定局势及恢复经济中央政...</td>\n",
       "      <td>hk</td>\n",
       "      <td>hk_文達post1949.txt</td>\n",
       "      <td>post</td>\n",
       "      <td>1</td>\n",
       "      <td>0</td>\n",
       "      <td>0</td>\n",
       "      <td>0.447212</td>\n",
       "    </tr>\n",
       "    <tr>\n",
       "      <th>0</th>\n",
       "      <td>P.199建国初期的统治（一）一党专政中华人民公和国成立之初，标榜人民民主专政，也容纳非共党...</td>\n",
       "      <td>tw</td>\n",
       "      <td>tw_南一post1949.txt</td>\n",
       "      <td>post</td>\n",
       "      <td>0</td>\n",
       "      <td>0</td>\n",
       "      <td>1</td>\n",
       "      <td>0.534884</td>\n",
       "    </tr>\n",
       "    <tr>\n",
       "      <th>0</th>\n",
       "      <td>第四篇 近代的冲击（晚清）第九章 敌国的倾颓第一节 西力冲击与西风东渐单口通商下的中外关系1...</td>\n",
       "      <td>tw</td>\n",
       "      <td>tw_康熹pre1949.txt</td>\n",
       "      <td>pre</td>\n",
       "      <td>0</td>\n",
       "      <td>0</td>\n",
       "      <td>1</td>\n",
       "      <td>0.699869</td>\n",
       "    </tr>\n",
       "    <tr>\n",
       "      <th>0</th>\n",
       "      <td>课题一社会主义建设建国初期的政治运动及经济措施（1949-1952）中华人民共和国成立初期国...</td>\n",
       "      <td>hk</td>\n",
       "      <td>hk_現代post1949.txt</td>\n",
       "      <td>post</td>\n",
       "      <td>1</td>\n",
       "      <td>0</td>\n",
       "      <td>0</td>\n",
       "      <td>0.825283</td>\n",
       "    </tr>\n",
       "    <tr>\n",
       "      <th>0</th>\n",
       "      <td>中华人民共和国的成立1949年9月，中共在北京召开新的“政治协商会议”，涵括了十几个党派一起...</td>\n",
       "      <td>tw</td>\n",
       "      <td>tw_龙腾post1949.txt</td>\n",
       "      <td>post</td>\n",
       "      <td>0</td>\n",
       "      <td>0</td>\n",
       "      <td>1</td>\n",
       "      <td>0.843575</td>\n",
       "    </tr>\n",
       "    <tr>\n",
       "      <th>0</th>\n",
       "      <td>P.118清朝晚期，可説是内外交迫。除遭受列强不断侵略外外，从十九世纪中叶起的二十馀年间，内...</td>\n",
       "      <td>tw</td>\n",
       "      <td>tw_南一pre1949.txt</td>\n",
       "      <td>pre</td>\n",
       "      <td>0</td>\n",
       "      <td>0</td>\n",
       "      <td>1</td>\n",
       "      <td>0.942513</td>\n",
       "    </tr>\n",
       "    <tr>\n",
       "      <th>0</th>\n",
       "      <td>第四篇 近代的冲击至晚清第九章 敌国的倾颓第一节 内部动乱与地方势力的崛起一、白莲教之乱社会...</td>\n",
       "      <td>tw</td>\n",
       "      <td>tw_龙腾pre1949.txt</td>\n",
       "      <td>pre</td>\n",
       "      <td>0</td>\n",
       "      <td>0</td>\n",
       "      <td>1</td>\n",
       "      <td>1.005241</td>\n",
       "    </tr>\n",
       "    <tr>\n",
       "      <th>0</th>\n",
       "      <td>第六单元 现代中国的政治建设与祖国统一中华人民共和国的成立，开创了中国历史的新纪元，也开启了...</td>\n",
       "      <td>ma</td>\n",
       "      <td>ma_人教版高中历史必修一post1949.txt</td>\n",
       "      <td>post</td>\n",
       "      <td>0</td>\n",
       "      <td>1</td>\n",
       "      <td>0</td>\n",
       "      <td>2.091633</td>\n",
       "    </tr>\n",
       "    <tr>\n",
       "      <th>0</th>\n",
       "      <td>第六单元 中国社会主义的政治建设与祖国统一经历了战争年代的暴风骤雨，中国终于以崭新的面貌，屹...</td>\n",
       "      <td>ma</td>\n",
       "      <td>ma_岳麓版高中历史必修一post1949.txt</td>\n",
       "      <td>post</td>\n",
       "      <td>0</td>\n",
       "      <td>1</td>\n",
       "      <td>0</td>\n",
       "      <td>3.027149</td>\n",
       "    </tr>\n",
       "    <tr>\n",
       "      <th>0</th>\n",
       "      <td>1949年9月，中国人民政治协商会议第一届全体会议通过的《中国人民政治协商会议共同纲领》成为...</td>\n",
       "      <td>ma</td>\n",
       "      <td>ma_人民版高中历史必修post1949.txt</td>\n",
       "      <td>post</td>\n",
       "      <td>0</td>\n",
       "      <td>1</td>\n",
       "      <td>0</td>\n",
       "      <td>3.118110</td>\n",
       "    </tr>\n",
       "  </tbody>\n",
       "</table>\n",
       "</div>"
      ],
      "text/plain": [
       "                                            sentence origin  \\\n",
       "0  从1840年开始，为打开中国的大门，列强凭借强大的经济实力和船坚炮利的军事优势，屡屡对中国发...     ma   \n",
       "0  第四单元 内忧外患与中华民族的奋起当欧洲、北美资本主义制度确立之时，中国延续了2000多年的...     ma   \n",
       "0  课题一 列强的入侵第一章中英鸦片战争乾隆晚年清朝隔世油性转衰嘉庆道光以来政治腐败经济凋敝社会...     hk   \n",
       "0  清朝统治前期曾出现了康雍乾盛世但到了乾隆晚年国力逐渐衰弱而此时的欧洲国家正迅速崛起进而觊觎中...     hk   \n",
       "0  第四单元 近代中国反侵略、求民主的潮流17世纪40年代，有两件大事在世界的东方和西方几乎同时...     ma   \n",
       "0  第二节 中华人民共和国的初期发展中共在国共内战获胜的原因在短短的4年内战之中，大陆竟然易手于...     tw   \n",
       "0  第一节 建国初期巩固政权的措施中华人民共和国成立後面对着不少困难为了稳定局势及恢复经济中央政...     hk   \n",
       "0  P.199建国初期的统治（一）一党专政中华人民公和国成立之初，标榜人民民主专政，也容纳非共党...     tw   \n",
       "0  第四篇 近代的冲击（晚清）第九章 敌国的倾颓第一节 西力冲击与西风东渐单口通商下的中外关系1...     tw   \n",
       "0  课题一社会主义建设建国初期的政治运动及经济措施（1949-1952）中华人民共和国成立初期国...     hk   \n",
       "0  中华人民共和国的成立1949年9月，中共在北京召开新的“政治协商会议”，涵括了十几个党派一起...     tw   \n",
       "0  P.118清朝晚期，可説是内外交迫。除遭受列强不断侵略外外，从十九世纪中叶起的二十馀年间，内...     tw   \n",
       "0  第四篇 近代的冲击至晚清第九章 敌国的倾颓第一节 内部动乱与地方势力的崛起一、白莲教之乱社会...     tw   \n",
       "0  第六单元 现代中国的政治建设与祖国统一中华人民共和国的成立，开创了中国历史的新纪元，也开启了...     ma   \n",
       "0  第六单元 中国社会主义的政治建设与祖国统一经历了战争年代的暴风骤雨，中国终于以崭新的面貌，屹...     ma   \n",
       "0  1949年9月，中国人民政治协商会议第一届全体会议通过的《中国人民政治协商会议共同纲领》成为...     ma   \n",
       "\n",
       "                        book period  hk  ma  tw  sentiment  \n",
       "0          ma_人民版pre1949.txt    pre   0   1   0  -0.650672  \n",
       "0          ma_岳麓版pre1949.txt    pre   0   1   0  -0.371345  \n",
       "0           hk_現代pre1949.txt    pre   1   0   0  -0.277244  \n",
       "0           hk_文達pre1949.txt    pre   1   0   0  -0.272274  \n",
       "0          ma_人教版pre1949.txt    pre   0   1   0   0.029613  \n",
       "0          tw_康熹post1949.txt   post   0   0   1   0.398577  \n",
       "0          hk_文達post1949.txt   post   1   0   0   0.447212  \n",
       "0          tw_南一post1949.txt   post   0   0   1   0.534884  \n",
       "0           tw_康熹pre1949.txt    pre   0   0   1   0.699869  \n",
       "0          hk_現代post1949.txt   post   1   0   0   0.825283  \n",
       "0          tw_龙腾post1949.txt   post   0   0   1   0.843575  \n",
       "0           tw_南一pre1949.txt    pre   0   0   1   0.942513  \n",
       "0           tw_龙腾pre1949.txt    pre   0   0   1   1.005241  \n",
       "0  ma_人教版高中历史必修一post1949.txt   post   0   1   0   2.091633  \n",
       "0  ma_岳麓版高中历史必修一post1949.txt   post   0   1   0   3.027149  \n",
       "0   ma_人民版高中历史必修post1949.txt   post   0   1   0   3.118110  "
      ]
     },
     "execution_count": 239,
     "metadata": {},
     "output_type": "execute_result"
    }
   ],
   "source": [
    "corpus49.sort_values('sentiment')"
   ]
  },
  {
   "cell_type": "code",
   "execution_count": 241,
   "metadata": {},
   "outputs": [
    {
     "data": {
      "text/plain": [
       "<matplotlib.axes._subplots.AxesSubplot at 0x7fb0480b8850>"
      ]
     },
     "execution_count": 241,
     "metadata": {},
     "output_type": "execute_result"
    },
    {
     "data": {
      "image/png": "[encoded data removed]",
      "text/plain": [
       "<Figure size 648x432 with 1 Axes>"
      ]
     },
     "metadata": {
      "needs_background": "light"
     },
     "output_type": "display_data"
    }
   ],
   "source": [
    "# the vertical bars show the standard deviation\n",
    "\n",
    "a4_dims = (9, 6)\n",
    "fig, ax = pyplot.subplots(figsize=a4_dims)\n",
    "sns.pointplot(ax = ax, x=\"period\", y=\"sentiment\", hue=\"origin\", ci='sd',\n",
    "                   data=corpus49, dodge=True)\n"
   ]
  },
  {
   "cell_type": "code",
   "execution_count": null,
   "metadata": {},
   "outputs": [],
   "source": []
  }
 ],
 "metadata": {
  "kernelspec": {
   "display_name": "Python 3",
   "language": "python",
   "name": "python3"
  },
  "language_info": {
   "codemirror_mode": {
    "name": "ipython",
    "version": 3
   },
   "file_extension": ".py",
   "mimetype": "text/x-python",
   "name": "python",
   "nbconvert_exporter": "python",
   "pygments_lexer": "ipython3",
   "version": "3.7.6"
  }
 },
 "nbformat": 4,
 "nbformat_minor": 4
}
